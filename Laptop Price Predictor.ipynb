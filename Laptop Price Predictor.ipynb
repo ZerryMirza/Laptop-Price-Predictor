{
 "cells": [
  {
   "cell_type": "code",
   "execution_count": 1,
   "id": "405bfe24",
   "metadata": {},
   "outputs": [],
   "source": [
    "import pandas as pd\n",
    "import numpy as np\n",
    "import seaborn as sns\n",
    "import matplotlib.pyplot as plt\n",
    "%matplotlib inline"
   ]
  },
  {
   "cell_type": "code",
   "execution_count": 2,
   "id": "f698a24c",
   "metadata": {},
   "outputs": [],
   "source": [
    "df = pd.read_csv('laptop_data.csv', index_col=False)"
   ]
  },
  {
   "cell_type": "code",
   "execution_count": 3,
   "id": "b10cfed6",
   "metadata": {},
   "outputs": [
    {
     "data": {
      "text/html": [
       "<div>\n",
       "<style scoped>\n",
       "    .dataframe tbody tr th:only-of-type {\n",
       "        vertical-align: middle;\n",
       "    }\n",
       "\n",
       "    .dataframe tbody tr th {\n",
       "        vertical-align: top;\n",
       "    }\n",
       "\n",
       "    .dataframe thead th {\n",
       "        text-align: right;\n",
       "    }\n",
       "</style>\n",
       "<table border=\"1\" class=\"dataframe\">\n",
       "  <thead>\n",
       "    <tr style=\"text-align: right;\">\n",
       "      <th></th>\n",
       "      <th>Unnamed: 0</th>\n",
       "      <th>Company</th>\n",
       "      <th>TypeName</th>\n",
       "      <th>Inches</th>\n",
       "      <th>ScreenResolution</th>\n",
       "      <th>Cpu</th>\n",
       "      <th>Ram</th>\n",
       "      <th>Memory</th>\n",
       "      <th>Gpu</th>\n",
       "      <th>OpSys</th>\n",
       "      <th>Weight</th>\n",
       "      <th>Price</th>\n",
       "    </tr>\n",
       "  </thead>\n",
       "  <tbody>\n",
       "    <tr>\n",
       "      <th>0</th>\n",
       "      <td>0</td>\n",
       "      <td>Apple</td>\n",
       "      <td>Ultrabook</td>\n",
       "      <td>13.3</td>\n",
       "      <td>IPS Panel Retina Display 2560x1600</td>\n",
       "      <td>Intel Core i5 2.3GHz</td>\n",
       "      <td>8GB</td>\n",
       "      <td>128GB SSD</td>\n",
       "      <td>Intel Iris Plus Graphics 640</td>\n",
       "      <td>macOS</td>\n",
       "      <td>1.37kg</td>\n",
       "      <td>71378.6832</td>\n",
       "    </tr>\n",
       "    <tr>\n",
       "      <th>1</th>\n",
       "      <td>1</td>\n",
       "      <td>Apple</td>\n",
       "      <td>Ultrabook</td>\n",
       "      <td>13.3</td>\n",
       "      <td>1440x900</td>\n",
       "      <td>Intel Core i5 1.8GHz</td>\n",
       "      <td>8GB</td>\n",
       "      <td>128GB Flash Storage</td>\n",
       "      <td>Intel HD Graphics 6000</td>\n",
       "      <td>macOS</td>\n",
       "      <td>1.34kg</td>\n",
       "      <td>47895.5232</td>\n",
       "    </tr>\n",
       "    <tr>\n",
       "      <th>2</th>\n",
       "      <td>2</td>\n",
       "      <td>HP</td>\n",
       "      <td>Notebook</td>\n",
       "      <td>15.6</td>\n",
       "      <td>Full HD 1920x1080</td>\n",
       "      <td>Intel Core i5 7200U 2.5GHz</td>\n",
       "      <td>8GB</td>\n",
       "      <td>256GB SSD</td>\n",
       "      <td>Intel HD Graphics 620</td>\n",
       "      <td>No OS</td>\n",
       "      <td>1.86kg</td>\n",
       "      <td>30636.0000</td>\n",
       "    </tr>\n",
       "    <tr>\n",
       "      <th>3</th>\n",
       "      <td>3</td>\n",
       "      <td>Apple</td>\n",
       "      <td>Ultrabook</td>\n",
       "      <td>15.4</td>\n",
       "      <td>IPS Panel Retina Display 2880x1800</td>\n",
       "      <td>Intel Core i7 2.7GHz</td>\n",
       "      <td>16GB</td>\n",
       "      <td>512GB SSD</td>\n",
       "      <td>AMD Radeon Pro 455</td>\n",
       "      <td>macOS</td>\n",
       "      <td>1.83kg</td>\n",
       "      <td>135195.3360</td>\n",
       "    </tr>\n",
       "    <tr>\n",
       "      <th>4</th>\n",
       "      <td>4</td>\n",
       "      <td>Apple</td>\n",
       "      <td>Ultrabook</td>\n",
       "      <td>13.3</td>\n",
       "      <td>IPS Panel Retina Display 2560x1600</td>\n",
       "      <td>Intel Core i5 3.1GHz</td>\n",
       "      <td>8GB</td>\n",
       "      <td>256GB SSD</td>\n",
       "      <td>Intel Iris Plus Graphics 650</td>\n",
       "      <td>macOS</td>\n",
       "      <td>1.37kg</td>\n",
       "      <td>96095.8080</td>\n",
       "    </tr>\n",
       "  </tbody>\n",
       "</table>\n",
       "</div>"
      ],
      "text/plain": [
       "   Unnamed: 0 Company   TypeName  Inches                    ScreenResolution  \\\n",
       "0           0   Apple  Ultrabook    13.3  IPS Panel Retina Display 2560x1600   \n",
       "1           1   Apple  Ultrabook    13.3                            1440x900   \n",
       "2           2      HP   Notebook    15.6                   Full HD 1920x1080   \n",
       "3           3   Apple  Ultrabook    15.4  IPS Panel Retina Display 2880x1800   \n",
       "4           4   Apple  Ultrabook    13.3  IPS Panel Retina Display 2560x1600   \n",
       "\n",
       "                          Cpu   Ram               Memory  \\\n",
       "0        Intel Core i5 2.3GHz   8GB            128GB SSD   \n",
       "1        Intel Core i5 1.8GHz   8GB  128GB Flash Storage   \n",
       "2  Intel Core i5 7200U 2.5GHz   8GB            256GB SSD   \n",
       "3        Intel Core i7 2.7GHz  16GB            512GB SSD   \n",
       "4        Intel Core i5 3.1GHz   8GB            256GB SSD   \n",
       "\n",
       "                            Gpu  OpSys  Weight        Price  \n",
       "0  Intel Iris Plus Graphics 640  macOS  1.37kg   71378.6832  \n",
       "1        Intel HD Graphics 6000  macOS  1.34kg   47895.5232  \n",
       "2         Intel HD Graphics 620  No OS  1.86kg   30636.0000  \n",
       "3            AMD Radeon Pro 455  macOS  1.83kg  135195.3360  \n",
       "4  Intel Iris Plus Graphics 650  macOS  1.37kg   96095.8080  "
      ]
     },
     "execution_count": 3,
     "metadata": {},
     "output_type": "execute_result"
    }
   ],
   "source": [
    "df.head()"
   ]
  },
  {
   "cell_type": "code",
   "execution_count": 4,
   "id": "66dfb079",
   "metadata": {},
   "outputs": [],
   "source": [
    "df.drop('Unnamed: 0', inplace=True, axis=1)"
   ]
  },
  {
   "cell_type": "code",
   "execution_count": 5,
   "id": "eea8ad66",
   "metadata": {},
   "outputs": [
    {
     "data": {
      "text/html": [
       "<div>\n",
       "<style scoped>\n",
       "    .dataframe tbody tr th:only-of-type {\n",
       "        vertical-align: middle;\n",
       "    }\n",
       "\n",
       "    .dataframe tbody tr th {\n",
       "        vertical-align: top;\n",
       "    }\n",
       "\n",
       "    .dataframe thead th {\n",
       "        text-align: right;\n",
       "    }\n",
       "</style>\n",
       "<table border=\"1\" class=\"dataframe\">\n",
       "  <thead>\n",
       "    <tr style=\"text-align: right;\">\n",
       "      <th></th>\n",
       "      <th>Company</th>\n",
       "      <th>TypeName</th>\n",
       "      <th>Inches</th>\n",
       "      <th>ScreenResolution</th>\n",
       "      <th>Cpu</th>\n",
       "      <th>Ram</th>\n",
       "      <th>Memory</th>\n",
       "      <th>Gpu</th>\n",
       "      <th>OpSys</th>\n",
       "      <th>Weight</th>\n",
       "      <th>Price</th>\n",
       "    </tr>\n",
       "  </thead>\n",
       "  <tbody>\n",
       "    <tr>\n",
       "      <th>0</th>\n",
       "      <td>Apple</td>\n",
       "      <td>Ultrabook</td>\n",
       "      <td>13.3</td>\n",
       "      <td>IPS Panel Retina Display 2560x1600</td>\n",
       "      <td>Intel Core i5 2.3GHz</td>\n",
       "      <td>8GB</td>\n",
       "      <td>128GB SSD</td>\n",
       "      <td>Intel Iris Plus Graphics 640</td>\n",
       "      <td>macOS</td>\n",
       "      <td>1.37kg</td>\n",
       "      <td>71378.6832</td>\n",
       "    </tr>\n",
       "    <tr>\n",
       "      <th>1</th>\n",
       "      <td>Apple</td>\n",
       "      <td>Ultrabook</td>\n",
       "      <td>13.3</td>\n",
       "      <td>1440x900</td>\n",
       "      <td>Intel Core i5 1.8GHz</td>\n",
       "      <td>8GB</td>\n",
       "      <td>128GB Flash Storage</td>\n",
       "      <td>Intel HD Graphics 6000</td>\n",
       "      <td>macOS</td>\n",
       "      <td>1.34kg</td>\n",
       "      <td>47895.5232</td>\n",
       "    </tr>\n",
       "    <tr>\n",
       "      <th>2</th>\n",
       "      <td>HP</td>\n",
       "      <td>Notebook</td>\n",
       "      <td>15.6</td>\n",
       "      <td>Full HD 1920x1080</td>\n",
       "      <td>Intel Core i5 7200U 2.5GHz</td>\n",
       "      <td>8GB</td>\n",
       "      <td>256GB SSD</td>\n",
       "      <td>Intel HD Graphics 620</td>\n",
       "      <td>No OS</td>\n",
       "      <td>1.86kg</td>\n",
       "      <td>30636.0000</td>\n",
       "    </tr>\n",
       "    <tr>\n",
       "      <th>3</th>\n",
       "      <td>Apple</td>\n",
       "      <td>Ultrabook</td>\n",
       "      <td>15.4</td>\n",
       "      <td>IPS Panel Retina Display 2880x1800</td>\n",
       "      <td>Intel Core i7 2.7GHz</td>\n",
       "      <td>16GB</td>\n",
       "      <td>512GB SSD</td>\n",
       "      <td>AMD Radeon Pro 455</td>\n",
       "      <td>macOS</td>\n",
       "      <td>1.83kg</td>\n",
       "      <td>135195.3360</td>\n",
       "    </tr>\n",
       "    <tr>\n",
       "      <th>4</th>\n",
       "      <td>Apple</td>\n",
       "      <td>Ultrabook</td>\n",
       "      <td>13.3</td>\n",
       "      <td>IPS Panel Retina Display 2560x1600</td>\n",
       "      <td>Intel Core i5 3.1GHz</td>\n",
       "      <td>8GB</td>\n",
       "      <td>256GB SSD</td>\n",
       "      <td>Intel Iris Plus Graphics 650</td>\n",
       "      <td>macOS</td>\n",
       "      <td>1.37kg</td>\n",
       "      <td>96095.8080</td>\n",
       "    </tr>\n",
       "  </tbody>\n",
       "</table>\n",
       "</div>"
      ],
      "text/plain": [
       "  Company   TypeName  Inches                    ScreenResolution  \\\n",
       "0   Apple  Ultrabook    13.3  IPS Panel Retina Display 2560x1600   \n",
       "1   Apple  Ultrabook    13.3                            1440x900   \n",
       "2      HP   Notebook    15.6                   Full HD 1920x1080   \n",
       "3   Apple  Ultrabook    15.4  IPS Panel Retina Display 2880x1800   \n",
       "4   Apple  Ultrabook    13.3  IPS Panel Retina Display 2560x1600   \n",
       "\n",
       "                          Cpu   Ram               Memory  \\\n",
       "0        Intel Core i5 2.3GHz   8GB            128GB SSD   \n",
       "1        Intel Core i5 1.8GHz   8GB  128GB Flash Storage   \n",
       "2  Intel Core i5 7200U 2.5GHz   8GB            256GB SSD   \n",
       "3        Intel Core i7 2.7GHz  16GB            512GB SSD   \n",
       "4        Intel Core i5 3.1GHz   8GB            256GB SSD   \n",
       "\n",
       "                            Gpu  OpSys  Weight        Price  \n",
       "0  Intel Iris Plus Graphics 640  macOS  1.37kg   71378.6832  \n",
       "1        Intel HD Graphics 6000  macOS  1.34kg   47895.5232  \n",
       "2         Intel HD Graphics 620  No OS  1.86kg   30636.0000  \n",
       "3            AMD Radeon Pro 455  macOS  1.83kg  135195.3360  \n",
       "4  Intel Iris Plus Graphics 650  macOS  1.37kg   96095.8080  "
      ]
     },
     "execution_count": 5,
     "metadata": {},
     "output_type": "execute_result"
    }
   ],
   "source": [
    "df.head()"
   ]
  },
  {
   "cell_type": "code",
   "execution_count": 6,
   "id": "af43982a",
   "metadata": {},
   "outputs": [
    {
     "data": {
      "text/html": [
       "<div>\n",
       "<style scoped>\n",
       "    .dataframe tbody tr th:only-of-type {\n",
       "        vertical-align: middle;\n",
       "    }\n",
       "\n",
       "    .dataframe tbody tr th {\n",
       "        vertical-align: top;\n",
       "    }\n",
       "\n",
       "    .dataframe thead th {\n",
       "        text-align: right;\n",
       "    }\n",
       "</style>\n",
       "<table border=\"1\" class=\"dataframe\">\n",
       "  <thead>\n",
       "    <tr style=\"text-align: right;\">\n",
       "      <th></th>\n",
       "      <th>Inches</th>\n",
       "      <th>Price</th>\n",
       "    </tr>\n",
       "  </thead>\n",
       "  <tbody>\n",
       "    <tr>\n",
       "      <th>count</th>\n",
       "      <td>1303.000000</td>\n",
       "      <td>1303.000000</td>\n",
       "    </tr>\n",
       "    <tr>\n",
       "      <th>mean</th>\n",
       "      <td>15.017191</td>\n",
       "      <td>59870.042910</td>\n",
       "    </tr>\n",
       "    <tr>\n",
       "      <th>std</th>\n",
       "      <td>1.426304</td>\n",
       "      <td>37243.201786</td>\n",
       "    </tr>\n",
       "    <tr>\n",
       "      <th>min</th>\n",
       "      <td>10.100000</td>\n",
       "      <td>9270.720000</td>\n",
       "    </tr>\n",
       "    <tr>\n",
       "      <th>25%</th>\n",
       "      <td>14.000000</td>\n",
       "      <td>31914.720000</td>\n",
       "    </tr>\n",
       "    <tr>\n",
       "      <th>50%</th>\n",
       "      <td>15.600000</td>\n",
       "      <td>52054.560000</td>\n",
       "    </tr>\n",
       "    <tr>\n",
       "      <th>75%</th>\n",
       "      <td>15.600000</td>\n",
       "      <td>79274.246400</td>\n",
       "    </tr>\n",
       "    <tr>\n",
       "      <th>max</th>\n",
       "      <td>18.400000</td>\n",
       "      <td>324954.720000</td>\n",
       "    </tr>\n",
       "  </tbody>\n",
       "</table>\n",
       "</div>"
      ],
      "text/plain": [
       "            Inches          Price\n",
       "count  1303.000000    1303.000000\n",
       "mean     15.017191   59870.042910\n",
       "std       1.426304   37243.201786\n",
       "min      10.100000    9270.720000\n",
       "25%      14.000000   31914.720000\n",
       "50%      15.600000   52054.560000\n",
       "75%      15.600000   79274.246400\n",
       "max      18.400000  324954.720000"
      ]
     },
     "execution_count": 6,
     "metadata": {},
     "output_type": "execute_result"
    }
   ],
   "source": [
    "df.describe()"
   ]
  },
  {
   "cell_type": "code",
   "execution_count": 7,
   "id": "1b666eb9",
   "metadata": {},
   "outputs": [
    {
     "name": "stdout",
     "output_type": "stream",
     "text": [
      "<class 'pandas.core.frame.DataFrame'>\n",
      "RangeIndex: 1303 entries, 0 to 1302\n",
      "Data columns (total 11 columns):\n",
      " #   Column            Non-Null Count  Dtype  \n",
      "---  ------            --------------  -----  \n",
      " 0   Company           1303 non-null   object \n",
      " 1   TypeName          1303 non-null   object \n",
      " 2   Inches            1303 non-null   float64\n",
      " 3   ScreenResolution  1303 non-null   object \n",
      " 4   Cpu               1303 non-null   object \n",
      " 5   Ram               1303 non-null   object \n",
      " 6   Memory            1303 non-null   object \n",
      " 7   Gpu               1303 non-null   object \n",
      " 8   OpSys             1303 non-null   object \n",
      " 9   Weight            1303 non-null   object \n",
      " 10  Price             1303 non-null   float64\n",
      "dtypes: float64(2), object(9)\n",
      "memory usage: 112.1+ KB\n"
     ]
    }
   ],
   "source": [
    "df.info()"
   ]
  },
  {
   "cell_type": "code",
   "execution_count": 8,
   "id": "6ba41298",
   "metadata": {},
   "outputs": [
    {
     "data": {
      "text/plain": [
       "Company             0\n",
       "TypeName            0\n",
       "Inches              0\n",
       "ScreenResolution    0\n",
       "Cpu                 0\n",
       "Ram                 0\n",
       "Memory              0\n",
       "Gpu                 0\n",
       "OpSys               0\n",
       "Weight              0\n",
       "Price               0\n",
       "dtype: int64"
      ]
     },
     "execution_count": 8,
     "metadata": {},
     "output_type": "execute_result"
    }
   ],
   "source": [
    "df.isnull().sum()"
   ]
  },
  {
   "cell_type": "code",
   "execution_count": 9,
   "id": "75d240db",
   "metadata": {},
   "outputs": [
    {
     "data": {
      "text/plain": [
       "<AxesSubplot:>"
      ]
     },
     "execution_count": 9,
     "metadata": {},
     "output_type": "execute_result"
    },
    {
     "data": {
      "image/png": "[encoded data removed]",
      "text/plain": [
       "<Figure size 432x288 with 2 Axes>"
      ]
     },
     "metadata": {
      "needs_background": "light"
     },
     "output_type": "display_data"
    }
   ],
   "source": [
    "sns.heatmap(df.corr())"
   ]
  },
  {
   "cell_type": "markdown",
   "id": "cb3b02d0",
   "metadata": {},
   "source": [
    "Data Exploration & Feature Engineering"
   ]
  },
  {
   "cell_type": "code",
   "execution_count": 10,
   "id": "f36ad5b6",
   "metadata": {},
   "outputs": [
    {
     "data": {
      "text/plain": [
       "Dell         297\n",
       "Lenovo       297\n",
       "HP           274\n",
       "Asus         158\n",
       "Acer         103\n",
       "MSI           54\n",
       "Toshiba       48\n",
       "Apple         21\n",
       "Samsung        9\n",
       "Razer          7\n",
       "Mediacom       7\n",
       "Microsoft      6\n",
       "Xiaomi         4\n",
       "Vero           4\n",
       "Chuwi          3\n",
       "Google         3\n",
       "Fujitsu        3\n",
       "LG             3\n",
       "Huawei         2\n",
       "Name: Company, dtype: int64"
      ]
     },
     "execution_count": 10,
     "metadata": {},
     "output_type": "execute_result"
    }
   ],
   "source": [
    "df['Company'].value_counts()"
   ]
  },
  {
   "cell_type": "code",
   "execution_count": 11,
   "id": "270e4b8c",
   "metadata": {},
   "outputs": [],
   "source": [
    "sns.set_style('whitegrid')"
   ]
  },
  {
   "cell_type": "code",
   "execution_count": 12,
   "id": "c8105f19",
   "metadata": {},
   "outputs": [
    {
     "data": {
      "image/png": "[encoded data removed]",
      "text/plain": [
       "<Figure size 864x720 with 1 Axes>"
      ]
     },
     "metadata": {},
     "output_type": "display_data"
    }
   ],
   "source": [
    "plt.figure(figsize=(12,10))\n",
    "ax = sns.countplot(data=df, x='Company', order=df['Company'].value_counts().index)\n",
    "ax.set_xticklabels(ax.get_xticklabels(), rotation=90)\n",
    "plt.show()"
   ]
  },
  {
   "cell_type": "code",
   "execution_count": 13,
   "id": "912e8d46",
   "metadata": {},
   "outputs": [
    {
     "data": {
      "text/plain": [
       "Notebook              727\n",
       "Gaming                205\n",
       "Ultrabook             196\n",
       "2 in 1 Convertible    121\n",
       "Workstation            29\n",
       "Netbook                25\n",
       "Name: TypeName, dtype: int64"
      ]
     },
     "execution_count": 13,
     "metadata": {},
     "output_type": "execute_result"
    }
   ],
   "source": [
    "df['TypeName'].value_counts()"
   ]
  },
  {
   "cell_type": "code",
   "execution_count": 14,
   "id": "971621c4",
   "metadata": {},
   "outputs": [
    {
     "data": {
      "image/png": "[encoded data removed]",
      "text/plain": [
       "<Figure size 864x720 with 1 Axes>"
      ]
     },
     "metadata": {},
     "output_type": "display_data"
    }
   ],
   "source": [
    "plt.figure(figsize=(12,10))\n",
    "ax = sns.countplot(data=df, x = 'TypeName', order=df['TypeName'].value_counts().index)\n",
    "ax.set_xticklabels(ax.get_xticklabels(), rotation=90)\n",
    "plt.show()"
   ]
  },
  {
   "cell_type": "code",
   "execution_count": 15,
   "id": "567e5f25",
   "metadata": {},
   "outputs": [
    {
     "data": {
      "text/plain": [
       "<seaborn.axisgrid.FacetGrid at 0x7f7ed7c6d5b0>"
      ]
     },
     "execution_count": 15,
     "metadata": {},
     "output_type": "execute_result"
    },
    {
     "data": {
      "image/png": "[encoded data removed]",
      "text/plain": [
       "<Figure size 360x360 with 1 Axes>"
      ]
     },
     "metadata": {},
     "output_type": "display_data"
    }
   ],
   "source": [
    "sns.displot(data=df, x='Inches')"
   ]
  },
  {
   "cell_type": "code",
   "execution_count": 16,
   "id": "28f8b12f",
   "metadata": {},
   "outputs": [
    {
     "data": {
      "text/plain": [
       "<seaborn.axisgrid.FacetGrid at 0x7f7ed8431820>"
      ]
     },
     "execution_count": 16,
     "metadata": {},
     "output_type": "execute_result"
    },
    {
     "data": {
      "image/png": "[encoded data removed]",
      "text/plain": [
       "<Figure size 360x360 with 1 Axes>"
      ]
     },
     "metadata": {},
     "output_type": "display_data"
    }
   ],
   "source": [
    "sns.displot(data=df, x='Inches', kde=True, rug=True)"
   ]
  },
  {
   "cell_type": "code",
   "execution_count": 17,
   "id": "90e1fa34",
   "metadata": {},
   "outputs": [
    {
     "data": {
      "text/plain": [
       "15.6    665\n",
       "14.0    197\n",
       "13.3    164\n",
       "17.3    164\n",
       "12.5     39\n",
       "11.6     33\n",
       "12.0      6\n",
       "13.5      6\n",
       "13.9      6\n",
       "12.3      5\n",
       "10.1      4\n",
       "15.4      4\n",
       "15.0      4\n",
       "13.0      2\n",
       "18.4      1\n",
       "17.0      1\n",
       "14.1      1\n",
       "11.3      1\n",
       "Name: Inches, dtype: int64"
      ]
     },
     "execution_count": 17,
     "metadata": {},
     "output_type": "execute_result"
    }
   ],
   "source": [
    "df['Inches'].value_counts()"
   ]
  },
  {
   "cell_type": "code",
   "execution_count": 18,
   "id": "bbf20871",
   "metadata": {},
   "outputs": [
    {
     "data": {
      "text/plain": [
       "<AxesSubplot:>"
      ]
     },
     "execution_count": 18,
     "metadata": {},
     "output_type": "execute_result"
    },
    {
     "data": {
      "image/png": "[encoded data removed]",
      "text/plain": [
       "<Figure size 432x288 with 1 Axes>"
      ]
     },
     "metadata": {},
     "output_type": "display_data"
    }
   ],
   "source": [
    "df['Inches'].value_counts().sort_index().plot()"
   ]
  },
  {
   "cell_type": "code",
   "execution_count": 19,
   "id": "94573131",
   "metadata": {},
   "outputs": [
    {
     "data": {
      "text/plain": [
       "Full HD 1920x1080                                507\n",
       "1366x768                                         281\n",
       "IPS Panel Full HD 1920x1080                      230\n",
       "IPS Panel Full HD / Touchscreen 1920x1080         53\n",
       "Full HD / Touchscreen 1920x1080                   47\n",
       "1600x900                                          23\n",
       "Touchscreen 1366x768                              16\n",
       "Quad HD+ / Touchscreen 3200x1800                  15\n",
       "IPS Panel 4K Ultra HD 3840x2160                   12\n",
       "IPS Panel 4K Ultra HD / Touchscreen 3840x2160     11\n",
       "4K Ultra HD / Touchscreen 3840x2160               10\n",
       "4K Ultra HD 3840x2160                              7\n",
       "Touchscreen 2560x1440                              7\n",
       "IPS Panel 1366x768                                 7\n",
       "IPS Panel Quad HD+ / Touchscreen 3200x1800         6\n",
       "IPS Panel Retina Display 2560x1600                 6\n",
       "IPS Panel Retina Display 2304x1440                 6\n",
       "Touchscreen 2256x1504                              6\n",
       "IPS Panel Touchscreen 2560x1440                    5\n",
       "IPS Panel Retina Display 2880x1800                 4\n",
       "IPS Panel Touchscreen 1920x1200                    4\n",
       "1440x900                                           4\n",
       "IPS Panel 2560x1440                                4\n",
       "IPS Panel Quad HD+ 2560x1440                       3\n",
       "Quad HD+ 3200x1800                                 3\n",
       "1920x1080                                          3\n",
       "Touchscreen 2400x1600                              3\n",
       "2560x1440                                          3\n",
       "IPS Panel Touchscreen 1366x768                     3\n",
       "IPS Panel Touchscreen / 4K Ultra HD 3840x2160      2\n",
       "IPS Panel Full HD 2160x1440                        2\n",
       "IPS Panel Quad HD+ 3200x1800                       2\n",
       "IPS Panel Retina Display 2736x1824                 1\n",
       "IPS Panel Full HD 1920x1200                        1\n",
       "IPS Panel Full HD 2560x1440                        1\n",
       "IPS Panel Full HD 1366x768                         1\n",
       "Touchscreen / Full HD 1920x1080                    1\n",
       "Touchscreen / Quad HD+ 3200x1800                   1\n",
       "Touchscreen / 4K Ultra HD 3840x2160                1\n",
       "IPS Panel Touchscreen 2400x1600                    1\n",
       "Name: ScreenResolution, dtype: int64"
      ]
     },
     "execution_count": 19,
     "metadata": {},
     "output_type": "execute_result"
    }
   ],
   "source": [
    "df['ScreenResolution'].value_counts()"
   ]
  },
  {
   "cell_type": "code",
   "execution_count": 20,
   "id": "183bab82",
   "metadata": {},
   "outputs": [
    {
     "data": {
      "text/plain": [
       "Full HD                                 507\n",
       "IPS Panel Full HD                       235\n",
       "IPS Panel Full HD / Touchscreen          53\n",
       "Full HD / Touchscreen                    47\n",
       "Touchscreen                              32\n",
       "IPS Panel Retina Display                 17\n",
       "Quad HD+ / Touchscreen                   15\n",
       "IPS Panel Touchscreen                    13\n",
       "IPS Panel 4K Ultra HD                    12\n",
       "IPS Panel 4K Ultra HD / Touchscreen      11\n",
       "IPS Panel                                11\n",
       "4K Ultra HD / Touchscreen                10\n",
       "4K Ultra HD                               7\n",
       "IPS Panel Quad HD+ / Touchscreen          6\n",
       "IPS Panel Quad HD+                        5\n",
       "Quad HD+                                  3\n",
       "IPS Panel Touchscreen / 4K Ultra HD       2\n",
       "Touchscreen / Quad HD+                    1\n",
       "Touchscreen / Full HD                     1\n",
       "Touchscreen / 4K Ultra HD                 1\n",
       "Name: 0, dtype: int64"
      ]
     },
     "execution_count": 20,
     "metadata": {},
     "output_type": "execute_result"
    }
   ],
   "source": [
    "df['ScreenResolution'].str.extract(r'(^([a-zA-Z /4+])+)')[0].value_counts()"
   ]
  },
  {
   "cell_type": "code",
   "execution_count": 21,
   "id": "078ad6ea",
   "metadata": {},
   "outputs": [
    {
     "data": {
      "text/plain": [
       " 1920x1080    838\n",
       "1366x768      281\n",
       " 3840x2160     43\n",
       " 1366x768      27\n",
       " 3200x1800     27\n",
       "1600x900       23\n",
       " 2560x1440     20\n",
       " 2256x1504      6\n",
       " 2560x1600      6\n",
       " 2304x1440      6\n",
       " 1920x1200      5\n",
       "1440x900        4\n",
       " 2880x1800      4\n",
       " 2400x1600      4\n",
       "2560x1440       3\n",
       "1920x1080       3\n",
       " 2160x1440      2\n",
       " 2736x1824      1\n",
       "Name: 0, dtype: int64"
      ]
     },
     "execution_count": 21,
     "metadata": {},
     "output_type": "execute_result"
    }
   ],
   "source": [
    "df['ScreenResolution'].str.extract(r'(([0-9 x])+)$')[0].value_counts()"
   ]
  },
  {
   "cell_type": "code",
   "execution_count": 22,
   "id": "d5c96a4f",
   "metadata": {},
   "outputs": [
    {
     "data": {
      "text/html": [
       "<div>\n",
       "<style scoped>\n",
       "    .dataframe tbody tr th:only-of-type {\n",
       "        vertical-align: middle;\n",
       "    }\n",
       "\n",
       "    .dataframe tbody tr th {\n",
       "        vertical-align: top;\n",
       "    }\n",
       "\n",
       "    .dataframe thead th {\n",
       "        text-align: right;\n",
       "    }\n",
       "</style>\n",
       "<table border=\"1\" class=\"dataframe\">\n",
       "  <thead>\n",
       "    <tr style=\"text-align: right;\">\n",
       "      <th></th>\n",
       "      <th>0</th>\n",
       "      <th>1</th>\n",
       "      <th>2</th>\n",
       "    </tr>\n",
       "  </thead>\n",
       "  <tbody>\n",
       "    <tr>\n",
       "      <th>0</th>\n",
       "      <td>Intel Core i5</td>\n",
       "      <td>2.3GHz</td>\n",
       "      <td>.3</td>\n",
       "    </tr>\n",
       "    <tr>\n",
       "      <th>1</th>\n",
       "      <td>Intel Core i5</td>\n",
       "      <td>1.8GHz</td>\n",
       "      <td>.8</td>\n",
       "    </tr>\n",
       "    <tr>\n",
       "      <th>2</th>\n",
       "      <td>Intel Core i5 7200U</td>\n",
       "      <td>2.5GHz</td>\n",
       "      <td>.5</td>\n",
       "    </tr>\n",
       "    <tr>\n",
       "      <th>3</th>\n",
       "      <td>Intel Core i7</td>\n",
       "      <td>2.7GHz</td>\n",
       "      <td>.7</td>\n",
       "    </tr>\n",
       "    <tr>\n",
       "      <th>4</th>\n",
       "      <td>Intel Core i5</td>\n",
       "      <td>3.1GHz</td>\n",
       "      <td>.1</td>\n",
       "    </tr>\n",
       "    <tr>\n",
       "      <th>...</th>\n",
       "      <td>...</td>\n",
       "      <td>...</td>\n",
       "      <td>...</td>\n",
       "    </tr>\n",
       "    <tr>\n",
       "      <th>1298</th>\n",
       "      <td>Intel Core i7 6500U</td>\n",
       "      <td>2.5GHz</td>\n",
       "      <td>.5</td>\n",
       "    </tr>\n",
       "    <tr>\n",
       "      <th>1299</th>\n",
       "      <td>Intel Core i7 6500U</td>\n",
       "      <td>2.5GHz</td>\n",
       "      <td>.5</td>\n",
       "    </tr>\n",
       "    <tr>\n",
       "      <th>1300</th>\n",
       "      <td>Intel Celeron Dual Core N3050</td>\n",
       "      <td>1.6GHz</td>\n",
       "      <td>.6</td>\n",
       "    </tr>\n",
       "    <tr>\n",
       "      <th>1301</th>\n",
       "      <td>Intel Core i7 6500U</td>\n",
       "      <td>2.5GHz</td>\n",
       "      <td>.5</td>\n",
       "    </tr>\n",
       "    <tr>\n",
       "      <th>1302</th>\n",
       "      <td>Intel Celeron Dual Core N3050</td>\n",
       "      <td>1.6GHz</td>\n",
       "      <td>.6</td>\n",
       "    </tr>\n",
       "  </tbody>\n",
       "</table>\n",
       "<p>1303 rows × 3 columns</p>\n",
       "</div>"
      ],
      "text/plain": [
       "                                  0        1   2\n",
       "0                     Intel Core i5   2.3GHz  .3\n",
       "1                     Intel Core i5   1.8GHz  .8\n",
       "2               Intel Core i5 7200U   2.5GHz  .5\n",
       "3                     Intel Core i7   2.7GHz  .7\n",
       "4                     Intel Core i5   3.1GHz  .1\n",
       "...                             ...      ...  ..\n",
       "1298            Intel Core i7 6500U   2.5GHz  .5\n",
       "1299            Intel Core i7 6500U   2.5GHz  .5\n",
       "1300  Intel Celeron Dual Core N3050   1.6GHz  .6\n",
       "1301            Intel Core i7 6500U   2.5GHz  .5\n",
       "1302  Intel Celeron Dual Core N3050   1.6GHz  .6\n",
       "\n",
       "[1303 rows x 3 columns]"
      ]
     },
     "execution_count": 22,
     "metadata": {},
     "output_type": "execute_result"
    }
   ],
   "source": [
    "df['Cpu'].str.extract(r'([a-z A-Z 0-9 \\- \\&]+(?=( [0-9]+(|\\.[0-9]{1,2})GHz)))')"
   ]
  },
  {
   "cell_type": "code",
   "execution_count": 23,
   "id": "e2cfb90c",
   "metadata": {},
   "outputs": [],
   "source": [
    "df['DisplayType'] = df['ScreenResolution'].str.extract(r'(^([a-zA-Z /4+])+)')[0]"
   ]
  },
  {
   "cell_type": "code",
   "execution_count": 24,
   "id": "28982d38",
   "metadata": {},
   "outputs": [],
   "source": [
    "df['DisplayResolution'] = df['ScreenResolution'].str.extract(r'(([0-9 x]+)$)')[0]"
   ]
  },
  {
   "cell_type": "code",
   "execution_count": 25,
   "id": "c7279476",
   "metadata": {},
   "outputs": [],
   "source": [
    "df['TouchScreen'] = df['DisplayType'].str.contains('Touchscreen')"
   ]
  },
  {
   "cell_type": "code",
   "execution_count": 27,
   "id": "35dbc91c",
   "metadata": {
    "scrolled": true
   },
   "outputs": [],
   "source": [
    "#list(df['Cpu'].value_counts().index)"
   ]
  },
  {
   "cell_type": "code",
   "execution_count": 28,
   "id": "6d5f6333",
   "metadata": {},
   "outputs": [
    {
     "data": {
      "text/html": [
       "<div>\n",
       "<style scoped>\n",
       "    .dataframe tbody tr th:only-of-type {\n",
       "        vertical-align: middle;\n",
       "    }\n",
       "\n",
       "    .dataframe tbody tr th {\n",
       "        vertical-align: top;\n",
       "    }\n",
       "\n",
       "    .dataframe thead th {\n",
       "        text-align: right;\n",
       "    }\n",
       "</style>\n",
       "<table border=\"1\" class=\"dataframe\">\n",
       "  <thead>\n",
       "    <tr style=\"text-align: right;\">\n",
       "      <th></th>\n",
       "      <th>Company</th>\n",
       "      <th>TypeName</th>\n",
       "      <th>Inches</th>\n",
       "      <th>ScreenResolution</th>\n",
       "      <th>Cpu</th>\n",
       "      <th>Ram</th>\n",
       "      <th>Memory</th>\n",
       "      <th>Gpu</th>\n",
       "      <th>OpSys</th>\n",
       "      <th>Weight</th>\n",
       "      <th>Price</th>\n",
       "      <th>DisplayType</th>\n",
       "      <th>DisplayResolution</th>\n",
       "      <th>TouchScreen</th>\n",
       "    </tr>\n",
       "  </thead>\n",
       "  <tbody>\n",
       "    <tr>\n",
       "      <th>0</th>\n",
       "      <td>Apple</td>\n",
       "      <td>Ultrabook</td>\n",
       "      <td>13.3</td>\n",
       "      <td>IPS Panel Retina Display 2560x1600</td>\n",
       "      <td>Intel Core i5 2.3GHz</td>\n",
       "      <td>8GB</td>\n",
       "      <td>128GB SSD</td>\n",
       "      <td>Intel Iris Plus Graphics 640</td>\n",
       "      <td>macOS</td>\n",
       "      <td>1.37kg</td>\n",
       "      <td>71378.6832</td>\n",
       "      <td>IPS Panel Retina Display</td>\n",
       "      <td>2560x1600</td>\n",
       "      <td>False</td>\n",
       "    </tr>\n",
       "    <tr>\n",
       "      <th>1</th>\n",
       "      <td>Apple</td>\n",
       "      <td>Ultrabook</td>\n",
       "      <td>13.3</td>\n",
       "      <td>1440x900</td>\n",
       "      <td>Intel Core i5 1.8GHz</td>\n",
       "      <td>8GB</td>\n",
       "      <td>128GB Flash Storage</td>\n",
       "      <td>Intel HD Graphics 6000</td>\n",
       "      <td>macOS</td>\n",
       "      <td>1.34kg</td>\n",
       "      <td>47895.5232</td>\n",
       "      <td>NaN</td>\n",
       "      <td>1440x900</td>\n",
       "      <td>NaN</td>\n",
       "    </tr>\n",
       "    <tr>\n",
       "      <th>2</th>\n",
       "      <td>HP</td>\n",
       "      <td>Notebook</td>\n",
       "      <td>15.6</td>\n",
       "      <td>Full HD 1920x1080</td>\n",
       "      <td>Intel Core i5 7200U 2.5GHz</td>\n",
       "      <td>8GB</td>\n",
       "      <td>256GB SSD</td>\n",
       "      <td>Intel HD Graphics 620</td>\n",
       "      <td>No OS</td>\n",
       "      <td>1.86kg</td>\n",
       "      <td>30636.0000</td>\n",
       "      <td>Full HD</td>\n",
       "      <td>1920x1080</td>\n",
       "      <td>False</td>\n",
       "    </tr>\n",
       "    <tr>\n",
       "      <th>3</th>\n",
       "      <td>Apple</td>\n",
       "      <td>Ultrabook</td>\n",
       "      <td>15.4</td>\n",
       "      <td>IPS Panel Retina Display 2880x1800</td>\n",
       "      <td>Intel Core i7 2.7GHz</td>\n",
       "      <td>16GB</td>\n",
       "      <td>512GB SSD</td>\n",
       "      <td>AMD Radeon Pro 455</td>\n",
       "      <td>macOS</td>\n",
       "      <td>1.83kg</td>\n",
       "      <td>135195.3360</td>\n",
       "      <td>IPS Panel Retina Display</td>\n",
       "      <td>2880x1800</td>\n",
       "      <td>False</td>\n",
       "    </tr>\n",
       "    <tr>\n",
       "      <th>4</th>\n",
       "      <td>Apple</td>\n",
       "      <td>Ultrabook</td>\n",
       "      <td>13.3</td>\n",
       "      <td>IPS Panel Retina Display 2560x1600</td>\n",
       "      <td>Intel Core i5 3.1GHz</td>\n",
       "      <td>8GB</td>\n",
       "      <td>256GB SSD</td>\n",
       "      <td>Intel Iris Plus Graphics 650</td>\n",
       "      <td>macOS</td>\n",
       "      <td>1.37kg</td>\n",
       "      <td>96095.8080</td>\n",
       "      <td>IPS Panel Retina Display</td>\n",
       "      <td>2560x1600</td>\n",
       "      <td>False</td>\n",
       "    </tr>\n",
       "  </tbody>\n",
       "</table>\n",
       "</div>"
      ],
      "text/plain": [
       "  Company   TypeName  Inches                    ScreenResolution  \\\n",
       "0   Apple  Ultrabook    13.3  IPS Panel Retina Display 2560x1600   \n",
       "1   Apple  Ultrabook    13.3                            1440x900   \n",
       "2      HP   Notebook    15.6                   Full HD 1920x1080   \n",
       "3   Apple  Ultrabook    15.4  IPS Panel Retina Display 2880x1800   \n",
       "4   Apple  Ultrabook    13.3  IPS Panel Retina Display 2560x1600   \n",
       "\n",
       "                          Cpu   Ram               Memory  \\\n",
       "0        Intel Core i5 2.3GHz   8GB            128GB SSD   \n",
       "1        Intel Core i5 1.8GHz   8GB  128GB Flash Storage   \n",
       "2  Intel Core i5 7200U 2.5GHz   8GB            256GB SSD   \n",
       "3        Intel Core i7 2.7GHz  16GB            512GB SSD   \n",
       "4        Intel Core i5 3.1GHz   8GB            256GB SSD   \n",
       "\n",
       "                            Gpu  OpSys  Weight        Price  \\\n",
       "0  Intel Iris Plus Graphics 640  macOS  1.37kg   71378.6832   \n",
       "1        Intel HD Graphics 6000  macOS  1.34kg   47895.5232   \n",
       "2         Intel HD Graphics 620  No OS  1.86kg   30636.0000   \n",
       "3            AMD Radeon Pro 455  macOS  1.83kg  135195.3360   \n",
       "4  Intel Iris Plus Graphics 650  macOS  1.37kg   96095.8080   \n",
       "\n",
       "                 DisplayType DisplayResolution TouchScreen  \n",
       "0  IPS Panel Retina Display          2560x1600       False  \n",
       "1                        NaN          1440x900         NaN  \n",
       "2                   Full HD          1920x1080       False  \n",
       "3  IPS Panel Retina Display          2880x1800       False  \n",
       "4  IPS Panel Retina Display          2560x1600       False  "
      ]
     },
     "execution_count": 28,
     "metadata": {},
     "output_type": "execute_result"
    }
   ],
   "source": [
    "df.head()"
   ]
  },
  {
   "cell_type": "code",
   "execution_count": 29,
   "id": "31302ddc",
   "metadata": {},
   "outputs": [],
   "source": [
    "### Extracting CPU Name and Range from CPU column..."
   ]
  },
  {
   "cell_type": "code",
   "execution_count": 30,
   "id": "630923ad",
   "metadata": {
    "scrolled": true
   },
   "outputs": [],
   "source": [
    "df[['Cpu Type', 'Cpu Power']] = df['Cpu'].str.extract(r'([a-z A-Z 0-9 \\- \\&]+(?=( [0-9]+(|\\.[0-9]{1,2})GHz)))')[[0,1]]"
   ]
  },
  {
   "cell_type": "code",
   "execution_count": 31,
   "id": "e5201e2a",
   "metadata": {},
   "outputs": [],
   "source": [
    "# ( +[A-Z0-9]+$) 2nd apply"
   ]
  },
  {
   "cell_type": "code",
   "execution_count": 33,
   "id": "116e5ddf",
   "metadata": {
    "scrolled": true
   },
   "outputs": [
    {
     "data": {
      "text/html": [
       "<div>\n",
       "<style scoped>\n",
       "    .dataframe tbody tr th:only-of-type {\n",
       "        vertical-align: middle;\n",
       "    }\n",
       "\n",
       "    .dataframe tbody tr th {\n",
       "        vertical-align: top;\n",
       "    }\n",
       "\n",
       "    .dataframe thead th {\n",
       "        text-align: right;\n",
       "    }\n",
       "</style>\n",
       "<table border=\"1\" class=\"dataframe\">\n",
       "  <thead>\n",
       "    <tr style=\"text-align: right;\">\n",
       "      <th></th>\n",
       "      <th>Company</th>\n",
       "      <th>TypeName</th>\n",
       "      <th>Inches</th>\n",
       "      <th>ScreenResolution</th>\n",
       "      <th>Cpu</th>\n",
       "      <th>Ram</th>\n",
       "      <th>Memory</th>\n",
       "      <th>Gpu</th>\n",
       "      <th>OpSys</th>\n",
       "      <th>Weight</th>\n",
       "      <th>Price</th>\n",
       "      <th>DisplayType</th>\n",
       "      <th>DisplayResolution</th>\n",
       "      <th>TouchScreen</th>\n",
       "      <th>Cpu Type</th>\n",
       "      <th>Cpu Power</th>\n",
       "    </tr>\n",
       "  </thead>\n",
       "  <tbody>\n",
       "    <tr>\n",
       "      <th>0</th>\n",
       "      <td>Apple</td>\n",
       "      <td>Ultrabook</td>\n",
       "      <td>13.3</td>\n",
       "      <td>IPS Panel Retina Display 2560x1600</td>\n",
       "      <td>Intel Core i5 2.3GHz</td>\n",
       "      <td>8GB</td>\n",
       "      <td>128GB SSD</td>\n",
       "      <td>Intel Iris Plus Graphics 640</td>\n",
       "      <td>macOS</td>\n",
       "      <td>1.37kg</td>\n",
       "      <td>71378.6832</td>\n",
       "      <td>IPS Panel Retina Display</td>\n",
       "      <td>2560x1600</td>\n",
       "      <td>False</td>\n",
       "      <td>Intel Core i5</td>\n",
       "      <td>2.3GHz</td>\n",
       "    </tr>\n",
       "    <tr>\n",
       "      <th>1</th>\n",
       "      <td>Apple</td>\n",
       "      <td>Ultrabook</td>\n",
       "      <td>13.3</td>\n",
       "      <td>1440x900</td>\n",
       "      <td>Intel Core i5 1.8GHz</td>\n",
       "      <td>8GB</td>\n",
       "      <td>128GB Flash Storage</td>\n",
       "      <td>Intel HD Graphics 6000</td>\n",
       "      <td>macOS</td>\n",
       "      <td>1.34kg</td>\n",
       "      <td>47895.5232</td>\n",
       "      <td>NaN</td>\n",
       "      <td>1440x900</td>\n",
       "      <td>NaN</td>\n",
       "      <td>Intel Core i5</td>\n",
       "      <td>1.8GHz</td>\n",
       "    </tr>\n",
       "    <tr>\n",
       "      <th>2</th>\n",
       "      <td>HP</td>\n",
       "      <td>Notebook</td>\n",
       "      <td>15.6</td>\n",
       "      <td>Full HD 1920x1080</td>\n",
       "      <td>Intel Core i5 7200U 2.5GHz</td>\n",
       "      <td>8GB</td>\n",
       "      <td>256GB SSD</td>\n",
       "      <td>Intel HD Graphics 620</td>\n",
       "      <td>No OS</td>\n",
       "      <td>1.86kg</td>\n",
       "      <td>30636.0000</td>\n",
       "      <td>Full HD</td>\n",
       "      <td>1920x1080</td>\n",
       "      <td>False</td>\n",
       "      <td>Intel Core i5 7200U</td>\n",
       "      <td>2.5GHz</td>\n",
       "    </tr>\n",
       "  </tbody>\n",
       "</table>\n",
       "</div>"
      ],
      "text/plain": [
       "  Company   TypeName  Inches                    ScreenResolution  \\\n",
       "0   Apple  Ultrabook    13.3  IPS Panel Retina Display 2560x1600   \n",
       "1   Apple  Ultrabook    13.3                            1440x900   \n",
       "2      HP   Notebook    15.6                   Full HD 1920x1080   \n",
       "\n",
       "                          Cpu  Ram               Memory  \\\n",
       "0        Intel Core i5 2.3GHz  8GB            128GB SSD   \n",
       "1        Intel Core i5 1.8GHz  8GB  128GB Flash Storage   \n",
       "2  Intel Core i5 7200U 2.5GHz  8GB            256GB SSD   \n",
       "\n",
       "                            Gpu  OpSys  Weight       Price  \\\n",
       "0  Intel Iris Plus Graphics 640  macOS  1.37kg  71378.6832   \n",
       "1        Intel HD Graphics 6000  macOS  1.34kg  47895.5232   \n",
       "2         Intel HD Graphics 620  No OS  1.86kg  30636.0000   \n",
       "\n",
       "                 DisplayType DisplayResolution TouchScreen  \\\n",
       "0  IPS Panel Retina Display          2560x1600       False   \n",
       "1                        NaN          1440x900         NaN   \n",
       "2                   Full HD          1920x1080       False   \n",
       "\n",
       "              Cpu Type Cpu Power  \n",
       "0        Intel Core i5    2.3GHz  \n",
       "1        Intel Core i5    1.8GHz  \n",
       "2  Intel Core i5 7200U    2.5GHz  "
      ]
     },
     "execution_count": 33,
     "metadata": {},
     "output_type": "execute_result"
    }
   ],
   "source": [
    "df.head(3)"
   ]
  },
  {
   "cell_type": "code",
   "execution_count": 34,
   "id": "d77389f5",
   "metadata": {},
   "outputs": [
    {
     "name": "stderr",
     "output_type": "stream",
     "text": [
      "/var/folders/12/ztwysxfn0knb0pl6wlzd08fm0000gq/T/ipykernel_57262/4203668547.py:1: FutureWarning: The default value of regex will change from True to False in a future version.\n",
      "  df['Cpu Type'] = df['Cpu Type'].str.replace(r'( +[A-Za-z0-9\\-]{3,8})$', '')\n"
     ]
    }
   ],
   "source": [
    "df['Cpu Type'] = df['Cpu Type'].str.replace(r'( +[A-Za-z0-9\\-]{3,8})$', '')\n",
    "# using this replace [regex pattern], we can find the generation and write a logic for it..."
   ]
  },
  {
   "cell_type": "code",
   "execution_count": 35,
   "id": "0fa59355",
   "metadata": {},
   "outputs": [
    {
     "data": {
      "text/plain": [
       "0                 Intel Core i5\n",
       "1                 Intel Core i5\n",
       "2                 Intel Core i5\n",
       "3                 Intel Core i7\n",
       "4                 Intel Core i5\n",
       "                 ...           \n",
       "1298              Intel Core i7\n",
       "1299              Intel Core i7\n",
       "1300    Intel Celeron Dual Core\n",
       "1301              Intel Core i7\n",
       "1302    Intel Celeron Dual Core\n",
       "Name: Cpu Type, Length: 1303, dtype: object"
      ]
     },
     "execution_count": 35,
     "metadata": {},
     "output_type": "execute_result"
    }
   ],
   "source": [
    "df['Cpu Type']"
   ]
  },
  {
   "cell_type": "code",
   "execution_count": 36,
   "id": "61cda86c",
   "metadata": {},
   "outputs": [
    {
     "data": {
      "text/html": [
       "<div>\n",
       "<style scoped>\n",
       "    .dataframe tbody tr th:only-of-type {\n",
       "        vertical-align: middle;\n",
       "    }\n",
       "\n",
       "    .dataframe tbody tr th {\n",
       "        vertical-align: top;\n",
       "    }\n",
       "\n",
       "    .dataframe thead th {\n",
       "        text-align: right;\n",
       "    }\n",
       "</style>\n",
       "<table border=\"1\" class=\"dataframe\">\n",
       "  <thead>\n",
       "    <tr style=\"text-align: right;\">\n",
       "      <th></th>\n",
       "      <th>Company</th>\n",
       "      <th>TypeName</th>\n",
       "      <th>Inches</th>\n",
       "      <th>ScreenResolution</th>\n",
       "      <th>Cpu</th>\n",
       "      <th>Ram</th>\n",
       "      <th>Memory</th>\n",
       "      <th>Gpu</th>\n",
       "      <th>OpSys</th>\n",
       "      <th>Weight</th>\n",
       "      <th>Price</th>\n",
       "      <th>DisplayType</th>\n",
       "      <th>DisplayResolution</th>\n",
       "      <th>TouchScreen</th>\n",
       "      <th>Cpu Type</th>\n",
       "      <th>Cpu Power</th>\n",
       "    </tr>\n",
       "  </thead>\n",
       "  <tbody>\n",
       "    <tr>\n",
       "      <th>0</th>\n",
       "      <td>Apple</td>\n",
       "      <td>Ultrabook</td>\n",
       "      <td>13.3</td>\n",
       "      <td>IPS Panel Retina Display 2560x1600</td>\n",
       "      <td>Intel Core i5 2.3GHz</td>\n",
       "      <td>8GB</td>\n",
       "      <td>128GB SSD</td>\n",
       "      <td>Intel Iris Plus Graphics 640</td>\n",
       "      <td>macOS</td>\n",
       "      <td>1.37kg</td>\n",
       "      <td>71378.6832</td>\n",
       "      <td>IPS Panel Retina Display</td>\n",
       "      <td>2560x1600</td>\n",
       "      <td>False</td>\n",
       "      <td>Intel Core i5</td>\n",
       "      <td>2.3GHz</td>\n",
       "    </tr>\n",
       "    <tr>\n",
       "      <th>1</th>\n",
       "      <td>Apple</td>\n",
       "      <td>Ultrabook</td>\n",
       "      <td>13.3</td>\n",
       "      <td>1440x900</td>\n",
       "      <td>Intel Core i5 1.8GHz</td>\n",
       "      <td>8GB</td>\n",
       "      <td>128GB Flash Storage</td>\n",
       "      <td>Intel HD Graphics 6000</td>\n",
       "      <td>macOS</td>\n",
       "      <td>1.34kg</td>\n",
       "      <td>47895.5232</td>\n",
       "      <td>NaN</td>\n",
       "      <td>1440x900</td>\n",
       "      <td>NaN</td>\n",
       "      <td>Intel Core i5</td>\n",
       "      <td>1.8GHz</td>\n",
       "    </tr>\n",
       "    <tr>\n",
       "      <th>2</th>\n",
       "      <td>HP</td>\n",
       "      <td>Notebook</td>\n",
       "      <td>15.6</td>\n",
       "      <td>Full HD 1920x1080</td>\n",
       "      <td>Intel Core i5 7200U 2.5GHz</td>\n",
       "      <td>8GB</td>\n",
       "      <td>256GB SSD</td>\n",
       "      <td>Intel HD Graphics 620</td>\n",
       "      <td>No OS</td>\n",
       "      <td>1.86kg</td>\n",
       "      <td>30636.0000</td>\n",
       "      <td>Full HD</td>\n",
       "      <td>1920x1080</td>\n",
       "      <td>False</td>\n",
       "      <td>Intel Core i5</td>\n",
       "      <td>2.5GHz</td>\n",
       "    </tr>\n",
       "  </tbody>\n",
       "</table>\n",
       "</div>"
      ],
      "text/plain": [
       "  Company   TypeName  Inches                    ScreenResolution  \\\n",
       "0   Apple  Ultrabook    13.3  IPS Panel Retina Display 2560x1600   \n",
       "1   Apple  Ultrabook    13.3                            1440x900   \n",
       "2      HP   Notebook    15.6                   Full HD 1920x1080   \n",
       "\n",
       "                          Cpu  Ram               Memory  \\\n",
       "0        Intel Core i5 2.3GHz  8GB            128GB SSD   \n",
       "1        Intel Core i5 1.8GHz  8GB  128GB Flash Storage   \n",
       "2  Intel Core i5 7200U 2.5GHz  8GB            256GB SSD   \n",
       "\n",
       "                            Gpu  OpSys  Weight       Price  \\\n",
       "0  Intel Iris Plus Graphics 640  macOS  1.37kg  71378.6832   \n",
       "1        Intel HD Graphics 6000  macOS  1.34kg  47895.5232   \n",
       "2         Intel HD Graphics 620  No OS  1.86kg  30636.0000   \n",
       "\n",
       "                 DisplayType DisplayResolution TouchScreen       Cpu Type  \\\n",
       "0  IPS Panel Retina Display          2560x1600       False  Intel Core i5   \n",
       "1                        NaN          1440x900         NaN  Intel Core i5   \n",
       "2                   Full HD          1920x1080       False  Intel Core i5   \n",
       "\n",
       "  Cpu Power  \n",
       "0    2.3GHz  \n",
       "1    1.8GHz  \n",
       "2    2.5GHz  "
      ]
     },
     "execution_count": 36,
     "metadata": {},
     "output_type": "execute_result"
    }
   ],
   "source": [
    "df.head(3)"
   ]
  },
  {
   "cell_type": "code",
   "execution_count": 37,
   "id": "f6baa674",
   "metadata": {},
   "outputs": [
    {
     "data": {
      "text/plain": [
       "8GB     619\n",
       "4GB     375\n",
       "16GB    200\n",
       "6GB      41\n",
       "12GB     25\n",
       "2GB      22\n",
       "32GB     17\n",
       "24GB      3\n",
       "64GB      1\n",
       "Name: Ram, dtype: int64"
      ]
     },
     "execution_count": 37,
     "metadata": {},
     "output_type": "execute_result"
    }
   ],
   "source": [
    "df['Ram'].value_counts()"
   ]
  },
  {
   "cell_type": "code",
   "execution_count": 38,
   "id": "e4576ae8",
   "metadata": {},
   "outputs": [],
   "source": [
    "storage_pattern = r'([A-Z a-z0-9\\-\\.]+SSD)|([A-Z a-z0-9\\-\\.]+HDD)|([A-Z a-z0-9\\-\\.]+Flash Storage)|([A-Z a-z0-9\\-\\.]+Hybrid)'"
   ]
  },
  {
   "cell_type": "code",
   "execution_count": 39,
   "id": "e6e81d1e",
   "metadata": {
    "scrolled": true
   },
   "outputs": [],
   "source": [
    "# storage_df = df['Memory'].str.extract(r'([A-Z a-z0-9\\-\\.]+SSD)|([A-Z a-z0-9\\-\\.]+HDD)|([A-Z a-z0-9\\-\\.]+Flash Storage)|([A-Z a-z0-9\\-\\.]+Hybrid)')\n",
    "storage_df = (df['Memory'].str.extractall(storage_pattern)).groupby(level=0).first()"
   ]
  },
  {
   "cell_type": "code",
   "execution_count": 41,
   "id": "0f2bd158",
   "metadata": {
    "scrolled": true
   },
   "outputs": [],
   "source": [
    "# storage_df.loc[1247]['HDD']"
   ]
  },
  {
   "cell_type": "code",
   "execution_count": 42,
   "id": "220ee663",
   "metadata": {},
   "outputs": [
    {
     "data": {
      "text/plain": [
       "Company                                     Asus\n",
       "TypeName                                  Gaming\n",
       "Inches                                      15.6\n",
       "ScreenResolution     IPS Panel Full HD 1920x1080\n",
       "Cpu                  Intel Core i7 6700HQ 2.6GHz\n",
       "Ram                                         16GB\n",
       "Memory                      256GB SSD +  1TB HDD\n",
       "Gpu                      Nvidia GeForce GTX 1070\n",
       "OpSys                                 Windows 10\n",
       "Weight                                    2.34kg\n",
       "Price                                   123876.0\n",
       "DisplayType                   IPS Panel Full HD \n",
       "DisplayResolution                      1920x1080\n",
       "TouchScreen                                False\n",
       "Cpu Type                           Intel Core i7\n",
       "Cpu Power                                 2.6GHz\n",
       "Name: 1247, dtype: object"
      ]
     },
     "execution_count": 42,
     "metadata": {},
     "output_type": "execute_result"
    }
   ],
   "source": [
    "df.loc[1247]"
   ]
  },
  {
   "cell_type": "code",
   "execution_count": 43,
   "id": "0d40ceea",
   "metadata": {},
   "outputs": [],
   "source": [
    "storage_df.rename(columns={0:'SSD', 1: 'HDD', 2: 'Flash Storage', 3: 'Hybrid'}, inplace=True)"
   ]
  },
  {
   "cell_type": "code",
   "execution_count": 44,
   "id": "54a6753e",
   "metadata": {},
   "outputs": [
    {
     "data": {
      "text/plain": [
       "SSD              256GB SSD\n",
       "HDD                1TB HDD\n",
       "Flash Storage         None\n",
       "Hybrid                None\n",
       "Name: 1247, dtype: object"
      ]
     },
     "execution_count": 44,
     "metadata": {},
     "output_type": "execute_result"
    }
   ],
   "source": [
    "storage_df.loc[1247]"
   ]
  },
  {
   "cell_type": "code",
   "execution_count": 45,
   "id": "e6bd5bfe",
   "metadata": {},
   "outputs": [
    {
     "data": {
      "text/plain": [
       "Company                                     Asus\n",
       "TypeName                                  Gaming\n",
       "Inches                                      15.6\n",
       "ScreenResolution     IPS Panel Full HD 1920x1080\n",
       "Cpu                  Intel Core i7 6700HQ 2.6GHz\n",
       "Ram                                         16GB\n",
       "Memory                      256GB SSD +  1TB HDD\n",
       "Gpu                      Nvidia GeForce GTX 1070\n",
       "OpSys                                 Windows 10\n",
       "Weight                                    2.34kg\n",
       "Price                                   123876.0\n",
       "DisplayType                   IPS Panel Full HD \n",
       "DisplayResolution                      1920x1080\n",
       "TouchScreen                                False\n",
       "Cpu Type                           Intel Core i7\n",
       "Cpu Power                                 2.6GHz\n",
       "Name: 1247, dtype: object"
      ]
     },
     "execution_count": 45,
     "metadata": {},
     "output_type": "execute_result"
    }
   ],
   "source": [
    "df.loc[1247]"
   ]
  },
  {
   "cell_type": "code",
   "execution_count": 46,
   "id": "a5a8c326",
   "metadata": {
    "scrolled": true
   },
   "outputs": [],
   "source": [
    "# pd.merge(df, storage_df, left_index=True, right_index=True)"
   ]
  },
  {
   "cell_type": "code",
   "execution_count": 47,
   "id": "73eb620e",
   "metadata": {
    "scrolled": true
   },
   "outputs": [
    {
     "data": {
      "text/plain": [
       "256GB SSD                        412\n",
       "1TB HDD                          223\n",
       "500GB HDD                        132\n",
       "512GB SSD                        118\n",
       "128GB SSD +  1TB HDD              94\n",
       "128GB SSD                         76\n",
       "256GB SSD +  1TB HDD              73\n",
       "32GB Flash Storage                38\n",
       "2TB HDD                           16\n",
       "64GB Flash Storage                15\n",
       "512GB SSD +  1TB HDD              14\n",
       "1TB SSD                           14\n",
       "256GB SSD +  2TB HDD              10\n",
       "1.0TB Hybrid                       9\n",
       "256GB Flash Storage                8\n",
       "16GB Flash Storage                 7\n",
       "32GB SSD                           6\n",
       "180GB SSD                          5\n",
       "128GB Flash Storage                4\n",
       "512GB SSD +  2TB HDD               3\n",
       "16GB SSD                           3\n",
       "512GB Flash Storage                2\n",
       "1TB SSD +  1TB HDD                 2\n",
       "256GB SSD +  500GB HDD             2\n",
       "128GB SSD +  2TB HDD               2\n",
       "256GB SSD +  256GB SSD             2\n",
       "512GB SSD +  256GB SSD             1\n",
       "512GB SSD +  512GB SSD             1\n",
       "64GB Flash Storage +  1TB HDD      1\n",
       "1TB HDD +  1TB HDD                 1\n",
       "32GB HDD                           1\n",
       "64GB SSD                           1\n",
       "128GB HDD                          1\n",
       "240GB SSD                          1\n",
       "8GB SSD                            1\n",
       "508GB Hybrid                       1\n",
       "1.0TB HDD                          1\n",
       "512GB SSD +  1.0TB Hybrid          1\n",
       "256GB SSD +  1.0TB Hybrid          1\n",
       "Name: Memory, dtype: int64"
      ]
     },
     "execution_count": 47,
     "metadata": {},
     "output_type": "execute_result"
    }
   ],
   "source": [
    "df['Memory'].value_counts()"
   ]
  },
  {
   "cell_type": "code",
   "execution_count": 48,
   "id": "20e28407",
   "metadata": {},
   "outputs": [],
   "source": [
    "df_joined = df.join(storage_df)"
   ]
  },
  {
   "cell_type": "code",
   "execution_count": 49,
   "id": "29f0cc2f",
   "metadata": {
    "scrolled": true
   },
   "outputs": [
    {
     "data": {
      "text/plain": [
       "Company                                     Asus\n",
       "TypeName                                  Gaming\n",
       "Inches                                      15.6\n",
       "ScreenResolution     IPS Panel Full HD 1920x1080\n",
       "Cpu                  Intel Core i7 6700HQ 2.6GHz\n",
       "Ram                                         16GB\n",
       "Memory                      256GB SSD +  1TB HDD\n",
       "Gpu                      Nvidia GeForce GTX 1070\n",
       "OpSys                                 Windows 10\n",
       "Weight                                    2.34kg\n",
       "Price                                   123876.0\n",
       "DisplayType                   IPS Panel Full HD \n",
       "DisplayResolution                      1920x1080\n",
       "TouchScreen                                False\n",
       "Cpu Type                           Intel Core i7\n",
       "Cpu Power                                 2.6GHz\n",
       "SSD                                    256GB SSD\n",
       "HDD                                      1TB HDD\n",
       "Flash Storage                               None\n",
       "Hybrid                                      None\n",
       "Name: 1247, dtype: object"
      ]
     },
     "execution_count": 49,
     "metadata": {},
     "output_type": "execute_result"
    }
   ],
   "source": [
    "df_joined.loc[1247]"
   ]
  },
  {
   "cell_type": "code",
   "execution_count": 50,
   "id": "f2ebf3ab",
   "metadata": {},
   "outputs": [
    {
     "data": {
      "text/plain": [
       "256GB SSD    500\n",
       "128GB SSD    172\n",
       "512GB SSD    138\n",
       "1TB SSD       16\n",
       "32GB SSD       6\n",
       "180GB SSD      5\n",
       "16GB SSD       3\n",
       "64GB SSD       1\n",
       "240GB SSD      1\n",
       "8GB SSD        1\n",
       "Name: SSD, dtype: int64"
      ]
     },
     "execution_count": 50,
     "metadata": {},
     "output_type": "execute_result"
    }
   ],
   "source": [
    "df_joined['SSD'].value_counts()"
   ]
  },
  {
   "cell_type": "code",
   "execution_count": 51,
   "id": "471e8b36",
   "metadata": {},
   "outputs": [
    {
     "data": {
      "text/plain": [
       "1TB HDD        224\n",
       "  1TB HDD      184\n",
       "500GB HDD      132\n",
       "2TB HDD         16\n",
       "  2TB HDD       15\n",
       "  500GB HDD      2\n",
       "32GB HDD         1\n",
       "128GB HDD        1\n",
       "1.0TB HDD        1\n",
       "Name: HDD, dtype: int64"
      ]
     },
     "execution_count": 51,
     "metadata": {},
     "output_type": "execute_result"
    }
   ],
   "source": [
    "df_joined['HDD'].value_counts()"
   ]
  },
  {
   "cell_type": "code",
   "execution_count": 52,
   "id": "db639f67",
   "metadata": {},
   "outputs": [
    {
     "data": {
      "text/plain": [
       "32GB Flash Storage     38\n",
       "64GB Flash Storage     16\n",
       "256GB Flash Storage     8\n",
       "16GB Flash Storage      7\n",
       "128GB Flash Storage     4\n",
       "512GB Flash Storage     2\n",
       "Name: Flash Storage, dtype: int64"
      ]
     },
     "execution_count": 52,
     "metadata": {},
     "output_type": "execute_result"
    }
   ],
   "source": [
    "df_joined['Flash Storage'].value_counts()"
   ]
  },
  {
   "cell_type": "code",
   "execution_count": 53,
   "id": "7cacbdc1",
   "metadata": {},
   "outputs": [
    {
     "data": {
      "text/plain": [
       "1.0TB Hybrid      9\n",
       "  1.0TB Hybrid    2\n",
       "508GB Hybrid      1\n",
       "Name: Hybrid, dtype: int64"
      ]
     },
     "execution_count": 53,
     "metadata": {},
     "output_type": "execute_result"
    }
   ],
   "source": [
    "df_joined['Hybrid'].value_counts()"
   ]
  },
  {
   "cell_type": "code",
   "execution_count": 54,
   "id": "b6698456",
   "metadata": {
    "scrolled": true
   },
   "outputs": [
    {
     "data": {
      "text/html": [
       "<div>\n",
       "<style scoped>\n",
       "    .dataframe tbody tr th:only-of-type {\n",
       "        vertical-align: middle;\n",
       "    }\n",
       "\n",
       "    .dataframe tbody tr th {\n",
       "        vertical-align: top;\n",
       "    }\n",
       "\n",
       "    .dataframe thead th {\n",
       "        text-align: right;\n",
       "    }\n",
       "</style>\n",
       "<table border=\"1\" class=\"dataframe\">\n",
       "  <thead>\n",
       "    <tr style=\"text-align: right;\">\n",
       "      <th></th>\n",
       "      <th>Company</th>\n",
       "      <th>TypeName</th>\n",
       "      <th>Inches</th>\n",
       "      <th>ScreenResolution</th>\n",
       "      <th>Cpu</th>\n",
       "      <th>Ram</th>\n",
       "      <th>Memory</th>\n",
       "      <th>Gpu</th>\n",
       "      <th>OpSys</th>\n",
       "      <th>Weight</th>\n",
       "      <th>Price</th>\n",
       "      <th>DisplayType</th>\n",
       "      <th>DisplayResolution</th>\n",
       "      <th>TouchScreen</th>\n",
       "      <th>Cpu Type</th>\n",
       "      <th>Cpu Power</th>\n",
       "      <th>SSD</th>\n",
       "      <th>HDD</th>\n",
       "      <th>Flash Storage</th>\n",
       "      <th>Hybrid</th>\n",
       "    </tr>\n",
       "  </thead>\n",
       "  <tbody>\n",
       "    <tr>\n",
       "      <th>0</th>\n",
       "      <td>Apple</td>\n",
       "      <td>Ultrabook</td>\n",
       "      <td>13.3</td>\n",
       "      <td>IPS Panel Retina Display 2560x1600</td>\n",
       "      <td>Intel Core i5 2.3GHz</td>\n",
       "      <td>8GB</td>\n",
       "      <td>128GB SSD</td>\n",
       "      <td>Intel Iris Plus Graphics 640</td>\n",
       "      <td>macOS</td>\n",
       "      <td>1.37kg</td>\n",
       "      <td>71378.6832</td>\n",
       "      <td>IPS Panel Retina Display</td>\n",
       "      <td>2560x1600</td>\n",
       "      <td>False</td>\n",
       "      <td>Intel Core i5</td>\n",
       "      <td>2.3GHz</td>\n",
       "      <td>128GB SSD</td>\n",
       "      <td>None</td>\n",
       "      <td>None</td>\n",
       "      <td>None</td>\n",
       "    </tr>\n",
       "    <tr>\n",
       "      <th>1</th>\n",
       "      <td>Apple</td>\n",
       "      <td>Ultrabook</td>\n",
       "      <td>13.3</td>\n",
       "      <td>1440x900</td>\n",
       "      <td>Intel Core i5 1.8GHz</td>\n",
       "      <td>8GB</td>\n",
       "      <td>128GB Flash Storage</td>\n",
       "      <td>Intel HD Graphics 6000</td>\n",
       "      <td>macOS</td>\n",
       "      <td>1.34kg</td>\n",
       "      <td>47895.5232</td>\n",
       "      <td>NaN</td>\n",
       "      <td>1440x900</td>\n",
       "      <td>NaN</td>\n",
       "      <td>Intel Core i5</td>\n",
       "      <td>1.8GHz</td>\n",
       "      <td>None</td>\n",
       "      <td>None</td>\n",
       "      <td>128GB Flash Storage</td>\n",
       "      <td>None</td>\n",
       "    </tr>\n",
       "    <tr>\n",
       "      <th>2</th>\n",
       "      <td>HP</td>\n",
       "      <td>Notebook</td>\n",
       "      <td>15.6</td>\n",
       "      <td>Full HD 1920x1080</td>\n",
       "      <td>Intel Core i5 7200U 2.5GHz</td>\n",
       "      <td>8GB</td>\n",
       "      <td>256GB SSD</td>\n",
       "      <td>Intel HD Graphics 620</td>\n",
       "      <td>No OS</td>\n",
       "      <td>1.86kg</td>\n",
       "      <td>30636.0000</td>\n",
       "      <td>Full HD</td>\n",
       "      <td>1920x1080</td>\n",
       "      <td>False</td>\n",
       "      <td>Intel Core i5</td>\n",
       "      <td>2.5GHz</td>\n",
       "      <td>256GB SSD</td>\n",
       "      <td>None</td>\n",
       "      <td>None</td>\n",
       "      <td>None</td>\n",
       "    </tr>\n",
       "  </tbody>\n",
       "</table>\n",
       "</div>"
      ],
      "text/plain": [
       "  Company   TypeName  Inches                    ScreenResolution  \\\n",
       "0   Apple  Ultrabook    13.3  IPS Panel Retina Display 2560x1600   \n",
       "1   Apple  Ultrabook    13.3                            1440x900   \n",
       "2      HP   Notebook    15.6                   Full HD 1920x1080   \n",
       "\n",
       "                          Cpu  Ram               Memory  \\\n",
       "0        Intel Core i5 2.3GHz  8GB            128GB SSD   \n",
       "1        Intel Core i5 1.8GHz  8GB  128GB Flash Storage   \n",
       "2  Intel Core i5 7200U 2.5GHz  8GB            256GB SSD   \n",
       "\n",
       "                            Gpu  OpSys  Weight       Price  \\\n",
       "0  Intel Iris Plus Graphics 640  macOS  1.37kg  71378.6832   \n",
       "1        Intel HD Graphics 6000  macOS  1.34kg  47895.5232   \n",
       "2         Intel HD Graphics 620  No OS  1.86kg  30636.0000   \n",
       "\n",
       "                 DisplayType DisplayResolution TouchScreen       Cpu Type  \\\n",
       "0  IPS Panel Retina Display          2560x1600       False  Intel Core i5   \n",
       "1                        NaN          1440x900         NaN  Intel Core i5   \n",
       "2                   Full HD          1920x1080       False  Intel Core i5   \n",
       "\n",
       "  Cpu Power        SSD   HDD        Flash Storage Hybrid  \n",
       "0    2.3GHz  128GB SSD  None                 None   None  \n",
       "1    1.8GHz       None  None  128GB Flash Storage   None  \n",
       "2    2.5GHz  256GB SSD  None                 None   None  "
      ]
     },
     "execution_count": 54,
     "metadata": {},
     "output_type": "execute_result"
    }
   ],
   "source": [
    "df_joined.head(3)"
   ]
  },
  {
   "cell_type": "code",
   "execution_count": 55,
   "id": "b59a9c30",
   "metadata": {
    "scrolled": true
   },
   "outputs": [],
   "source": [
    "# df_joined['SSD'] = df_joined['SSD'].str.replace('TB', '000GB')"
   ]
  },
  {
   "cell_type": "code",
   "execution_count": 56,
   "id": "abbc7903",
   "metadata": {},
   "outputs": [],
   "source": [
    "# df_joined['SSD'].value_counts()"
   ]
  },
  {
   "cell_type": "code",
   "execution_count": 57,
   "id": "bd30eafc",
   "metadata": {},
   "outputs": [],
   "source": [
    "df_joined['SSD'] = df_joined['SSD'].apply(lambda x: str.strip(x) if x is not None else x).str.split(' ').str.get(0)"
   ]
  },
  {
   "cell_type": "code",
   "execution_count": 58,
   "id": "3af4ffa7",
   "metadata": {},
   "outputs": [],
   "source": [
    "# df_joined['SSD'].str.extract(r'([0-9\\.]+)+(GB|TB)').map(lambda x: x if x)"
   ]
  },
  {
   "cell_type": "code",
   "execution_count": 59,
   "id": "7c73eab6",
   "metadata": {},
   "outputs": [
    {
     "data": {
      "text/plain": [
       "0       128GB\n",
       "1        None\n",
       "2       256GB\n",
       "3       512GB\n",
       "4       256GB\n",
       "        ...  \n",
       "1298    128GB\n",
       "1299    512GB\n",
       "1300     None\n",
       "1301     None\n",
       "1302     None\n",
       "Name: SSD, Length: 1303, dtype: object"
      ]
     },
     "execution_count": 59,
     "metadata": {},
     "output_type": "execute_result"
    }
   ],
   "source": [
    "df_joined['SSD']"
   ]
  },
  {
   "cell_type": "code",
   "execution_count": 60,
   "id": "6bfc57c0",
   "metadata": {},
   "outputs": [],
   "source": [
    "def replace_gb_tb(val):\n",
    "    if pd.isna(val):\n",
    "        return val\n",
    "    elif 'GB' in val:\n",
    "        return float(val.replace('GB', ''))\n",
    "    elif 'TB' in val:\n",
    "        val2 = val.replace('TB', '')\n",
    "        return float(val2)*1000.0"
   ]
  },
  {
   "cell_type": "code",
   "execution_count": 61,
   "id": "0d3a7b9c",
   "metadata": {},
   "outputs": [],
   "source": [
    "df_joined['SSD'] = df_joined['SSD'].apply(lambda x: replace_gb_tb(x))"
   ]
  },
  {
   "cell_type": "code",
   "execution_count": 62,
   "id": "ccec0b36",
   "metadata": {},
   "outputs": [
    {
     "data": {
      "text/plain": [
       "256.0     500\n",
       "128.0     172\n",
       "512.0     138\n",
       "1000.0     16\n",
       "32.0        6\n",
       "180.0       5\n",
       "16.0        3\n",
       "64.0        1\n",
       "240.0       1\n",
       "8.0         1\n",
       "Name: SSD, dtype: int64"
      ]
     },
     "execution_count": 62,
     "metadata": {},
     "output_type": "execute_result"
    }
   ],
   "source": [
    "df_joined['SSD'].value_counts()"
   ]
  },
  {
   "cell_type": "code",
   "execution_count": 63,
   "id": "68dd0182",
   "metadata": {},
   "outputs": [],
   "source": [
    "df_joined['HDD'] = df_joined['HDD'].apply(lambda x: str.strip(x) if x is not None else x).str.split(' ').str.get(0)"
   ]
  },
  {
   "cell_type": "code",
   "execution_count": 64,
   "id": "23416ec9",
   "metadata": {},
   "outputs": [],
   "source": [
    "df_joined['HDD'] = df_joined['HDD'].apply(lambda x: replace_gb_tb(x))"
   ]
  },
  {
   "cell_type": "code",
   "execution_count": 65,
   "id": "8a32e583",
   "metadata": {},
   "outputs": [],
   "source": [
    "# df_joined['HDD'] = df_joined['HDD'].str.replace('TB', '000GB')"
   ]
  },
  {
   "cell_type": "code",
   "execution_count": 66,
   "id": "8d5920fe",
   "metadata": {},
   "outputs": [
    {
     "data": {
      "text/plain": [
       "1000.0    409\n",
       "500.0     134\n",
       "2000.0     31\n",
       "32.0        1\n",
       "128.0       1\n",
       "Name: HDD, dtype: int64"
      ]
     },
     "execution_count": 66,
     "metadata": {},
     "output_type": "execute_result"
    }
   ],
   "source": [
    "df_joined['HDD'].value_counts()"
   ]
  },
  {
   "cell_type": "code",
   "execution_count": 67,
   "id": "d0e4e7f1",
   "metadata": {},
   "outputs": [],
   "source": [
    "df_joined['Flash Storage'] = df_joined['Flash Storage'].apply(lambda x: str.strip(x) if x is not None else x).str.split(' ').str.get(0)"
   ]
  },
  {
   "cell_type": "code",
   "execution_count": 68,
   "id": "d9c864eb",
   "metadata": {},
   "outputs": [],
   "source": [
    "df_joined['Flash Storage'] = df_joined['Flash Storage'].apply(lambda x: replace_gb_tb(x))"
   ]
  },
  {
   "cell_type": "code",
   "execution_count": 69,
   "id": "21fa44c6",
   "metadata": {},
   "outputs": [
    {
     "data": {
      "text/plain": [
       "SSD                   None\n",
       "HDD              1.0TB HDD\n",
       "Flash Storage         None\n",
       "Hybrid                None\n",
       "Name: 1075, dtype: object"
      ]
     },
     "execution_count": 69,
     "metadata": {},
     "output_type": "execute_result"
    }
   ],
   "source": [
    "storage_df.iloc[1075]"
   ]
  },
  {
   "cell_type": "code",
   "execution_count": 70,
   "id": "125ad107",
   "metadata": {},
   "outputs": [],
   "source": [
    "df_joined['Hybrid'] = df_joined['Hybrid'].apply(lambda x: str.strip(x) if x is not None else x).str.split(' ').str.get(0)"
   ]
  },
  {
   "cell_type": "code",
   "execution_count": 71,
   "id": "a528f907",
   "metadata": {},
   "outputs": [],
   "source": [
    "df_joined['Hybrid'] = df_joined['Hybrid'].apply(lambda x: replace_gb_tb(x))"
   ]
  },
  {
   "cell_type": "code",
   "execution_count": 72,
   "id": "d3bf9126",
   "metadata": {},
   "outputs": [
    {
     "data": {
      "text/plain": [
       "1000.0    11\n",
       "508.0      1\n",
       "Name: Hybrid, dtype: int64"
      ]
     },
     "execution_count": 72,
     "metadata": {},
     "output_type": "execute_result"
    }
   ],
   "source": [
    "df_joined['Hybrid'].value_counts()"
   ]
  },
  {
   "cell_type": "code",
   "execution_count": 73,
   "id": "41e65322",
   "metadata": {},
   "outputs": [
    {
     "data": {
      "text/plain": [
       "Company                                     Asus\n",
       "TypeName                                  Gaming\n",
       "Inches                                      15.6\n",
       "ScreenResolution     IPS Panel Full HD 1920x1080\n",
       "Cpu                  Intel Core i7 6700HQ 2.6GHz\n",
       "Ram                                         16GB\n",
       "Memory                      256GB SSD +  1TB HDD\n",
       "Gpu                      Nvidia GeForce GTX 1070\n",
       "OpSys                                 Windows 10\n",
       "Weight                                    2.34kg\n",
       "Price                                   123876.0\n",
       "DisplayType                   IPS Panel Full HD \n",
       "DisplayResolution                      1920x1080\n",
       "TouchScreen                                False\n",
       "Cpu Type                           Intel Core i7\n",
       "Cpu Power                                 2.6GHz\n",
       "SSD                                        256.0\n",
       "HDD                                       1000.0\n",
       "Flash Storage                                NaN\n",
       "Hybrid                                       NaN\n",
       "Name: 1247, dtype: object"
      ]
     },
     "execution_count": 73,
     "metadata": {},
     "output_type": "execute_result"
    }
   ],
   "source": [
    "df_joined.loc[1247]"
   ]
  },
  {
   "cell_type": "code",
   "execution_count": 74,
   "id": "7f3c885f",
   "metadata": {},
   "outputs": [
    {
     "data": {
      "text/plain": [
       "['Intel HD Graphics 620',\n",
       " 'Intel HD Graphics 520',\n",
       " 'Intel UHD Graphics 620',\n",
       " 'Nvidia GeForce GTX 1050',\n",
       " 'Nvidia GeForce GTX 1060',\n",
       " 'Nvidia GeForce 940MX',\n",
       " 'AMD Radeon 530',\n",
       " 'Intel HD Graphics 500',\n",
       " 'Intel HD Graphics 400',\n",
       " 'Nvidia GeForce GTX 1070',\n",
       " 'Intel HD Graphics',\n",
       " 'Nvidia GeForce GTX 1050 Ti',\n",
       " 'AMD Radeon R5 M430',\n",
       " 'Nvidia GeForce 930MX',\n",
       " 'AMD Radeon 520',\n",
       " 'Nvidia GeForce MX150',\n",
       " 'Intel HD Graphics 515',\n",
       " 'Intel HD Graphics 615',\n",
       " 'AMD Radeon R7 M445',\n",
       " 'Nvidia GeForce GTX 960M',\n",
       " 'Nvidia GeForce 920MX',\n",
       " 'Intel HD Graphics 505',\n",
       " 'AMD Radeon R5',\n",
       " 'Nvidia GeForce GTX 980M',\n",
       " 'Intel HD Graphics 405',\n",
       " 'Nvidia Quadro M1200',\n",
       " 'AMD Radeon R5 M420',\n",
       " 'Intel Iris Plus Graphics 640',\n",
       " 'Nvidia GeForce GTX 950M',\n",
       " 'AMD Radeon R5 M330',\n",
       " 'Nvidia GeForce 920M',\n",
       " 'Nvidia GeForce GTX 1080',\n",
       " 'Nvidia GeForce 930M',\n",
       " 'Nvidia GeForce MX130',\n",
       " 'Nvidia GeForce 930MX ',\n",
       " 'Nvidia Quadro M620',\n",
       " 'Intel HD Graphics 6000',\n",
       " 'AMD Radeon R7 M440',\n",
       " 'Nvidia GeForce 920MX ',\n",
       " 'Nvidia GeForce GTX 970M',\n",
       " 'AMD Radeon R2',\n",
       " 'AMD Radeon RX 580',\n",
       " 'Nvidia GeForce GT 940MX',\n",
       " 'AMD Radeon R4 Graphics',\n",
       " 'Nvidia GeForce GTX 965M',\n",
       " 'Nvidia GeForce GTX 940MX',\n",
       " 'Intel HD Graphics 630',\n",
       " 'AMD Radeon R2 Graphics',\n",
       " 'AMD Radeon RX 550',\n",
       " 'Intel HD Graphics 510',\n",
       " 'Nvidia Quadro M1000M',\n",
       " 'Nvidia Quadro M2200M',\n",
       " 'AMD Radeon R4',\n",
       " 'AMD Radeon R5 M420X',\n",
       " 'Nvidia GeForce GTX 1050M',\n",
       " 'Nvidia GeForce 150MX',\n",
       " 'AMD Radeon R7 M460',\n",
       " 'Nvidia GeForce GTX 960',\n",
       " 'Intel Iris Plus Graphics 650',\n",
       " 'Nvidia Quadro M520M',\n",
       " 'Nvidia GeForce GTX 1050Ti',\n",
       " 'Nvidia Quadro M2200',\n",
       " 'Nvidia Quadro M2000M',\n",
       " 'Nvidia GeForce GTX 960<U+039C>',\n",
       " 'Intel Iris Graphics 540',\n",
       " 'AMD Radeon RX 540',\n",
       " 'Intel HD Graphics 5300',\n",
       " 'AMD FirePro W4190M ',\n",
       " 'Nvidia GeForce 920',\n",
       " 'Nvidia GeForce 960M',\n",
       " 'AMD Radeon R7 Graphics',\n",
       " 'Nvidia GeForce 940M',\n",
       " 'Nvidia GeForce GTX 930MX',\n",
       " 'Nvidia Quadro 3000M',\n",
       " 'AMD Radeon R7 M360',\n",
       " 'AMD Radeon R7 M465',\n",
       " 'Nvidia Quadro M3000M',\n",
       " 'AMD Radeon R3',\n",
       " 'Nvidia GeForce GTX 980 ',\n",
       " 'Nvidia Quadro M500M',\n",
       " 'AMD Radeon R7 M365X',\n",
       " 'AMD Radeon R9 M385',\n",
       " 'AMD Radeon R5 M315',\n",
       " 'AMD FirePro W6150M',\n",
       " 'Intel HD Graphics 620 ',\n",
       " 'AMD FirePro W4190M',\n",
       " 'Nvidia GeForce GTX 940M',\n",
       " 'Nvidia GeForce GTX1060',\n",
       " 'AMD Radeon R5 430',\n",
       " 'AMD Radeon Pro 455',\n",
       " 'Intel Iris Pro Graphics',\n",
       " 'AMD Radeon Pro 555',\n",
       " 'AMD Radeon Pro 560',\n",
       " 'AMD R4 Graphics',\n",
       " 'AMD Radeon RX 560',\n",
       " 'Nvidia GTX 980 SLI',\n",
       " 'AMD R17M-M1-70',\n",
       " 'Intel Iris Graphics 550',\n",
       " 'AMD FirePro W5130M',\n",
       " 'Nvidia GeForce GTX 1070M',\n",
       " 'Intel HD Graphics 530',\n",
       " 'Nvidia GeForce GTX1080',\n",
       " 'Nvidia GeForce GTX1050 Ti',\n",
       " 'Nvidia Quadro M620M',\n",
       " 'Intel Graphics 620',\n",
       " 'AMD Radeon R5 520',\n",
       " 'AMD Radeon R7',\n",
       " 'Intel HD Graphics 540',\n",
       " 'AMD Radeon 540',\n",
       " 'ARM Mali T860 MP4']"
      ]
     },
     "execution_count": 74,
     "metadata": {},
     "output_type": "execute_result"
    }
   ],
   "source": [
    "# we can have a list of labels based on the performance of these GPUs and label then accodingly.\n",
    "list(df_joined['Gpu'].value_counts().index)"
   ]
  },
  {
   "cell_type": "code",
   "execution_count": 75,
   "id": "4368c39e",
   "metadata": {},
   "outputs": [
    {
     "data": {
      "text/plain": [
       "Windows 10      1072\n",
       "No OS             66\n",
       "Linux             62\n",
       "Windows 7         45\n",
       "Chrome OS         27\n",
       "macOS             13\n",
       "Mac OS X           8\n",
       "Windows 10 S       8\n",
       "Android            2\n",
       "Name: OpSys, dtype: int64"
      ]
     },
     "execution_count": 75,
     "metadata": {},
     "output_type": "execute_result"
    }
   ],
   "source": [
    "# label encoding...\n",
    "df_joined['OpSys'].value_counts()"
   ]
  },
  {
   "cell_type": "code",
   "execution_count": 76,
   "id": "51aa9e25",
   "metadata": {},
   "outputs": [],
   "source": [
    "df_joined['Weight'] = df_joined['Weight'].str.replace('kg', '').astype('float')"
   ]
  },
  {
   "cell_type": "code",
   "execution_count": 77,
   "id": "a7751fd8",
   "metadata": {
    "scrolled": true
   },
   "outputs": [
    {
     "data": {
      "text/html": [
       "<div>\n",
       "<style scoped>\n",
       "    .dataframe tbody tr th:only-of-type {\n",
       "        vertical-align: middle;\n",
       "    }\n",
       "\n",
       "    .dataframe tbody tr th {\n",
       "        vertical-align: top;\n",
       "    }\n",
       "\n",
       "    .dataframe thead th {\n",
       "        text-align: right;\n",
       "    }\n",
       "</style>\n",
       "<table border=\"1\" class=\"dataframe\">\n",
       "  <thead>\n",
       "    <tr style=\"text-align: right;\">\n",
       "      <th></th>\n",
       "      <th>Company</th>\n",
       "      <th>TypeName</th>\n",
       "      <th>Inches</th>\n",
       "      <th>ScreenResolution</th>\n",
       "      <th>Cpu</th>\n",
       "      <th>Ram</th>\n",
       "      <th>Memory</th>\n",
       "      <th>Gpu</th>\n",
       "      <th>OpSys</th>\n",
       "      <th>Weight</th>\n",
       "      <th>Price</th>\n",
       "      <th>DisplayType</th>\n",
       "      <th>DisplayResolution</th>\n",
       "      <th>TouchScreen</th>\n",
       "      <th>Cpu Type</th>\n",
       "      <th>Cpu Power</th>\n",
       "      <th>SSD</th>\n",
       "      <th>HDD</th>\n",
       "      <th>Flash Storage</th>\n",
       "      <th>Hybrid</th>\n",
       "    </tr>\n",
       "  </thead>\n",
       "  <tbody>\n",
       "    <tr>\n",
       "      <th>0</th>\n",
       "      <td>Apple</td>\n",
       "      <td>Ultrabook</td>\n",
       "      <td>13.3</td>\n",
       "      <td>IPS Panel Retina Display 2560x1600</td>\n",
       "      <td>Intel Core i5 2.3GHz</td>\n",
       "      <td>8GB</td>\n",
       "      <td>128GB SSD</td>\n",
       "      <td>Intel Iris Plus Graphics 640</td>\n",
       "      <td>macOS</td>\n",
       "      <td>1.37</td>\n",
       "      <td>71378.6832</td>\n",
       "      <td>IPS Panel Retina Display</td>\n",
       "      <td>2560x1600</td>\n",
       "      <td>False</td>\n",
       "      <td>Intel Core i5</td>\n",
       "      <td>2.3GHz</td>\n",
       "      <td>128.0</td>\n",
       "      <td>NaN</td>\n",
       "      <td>NaN</td>\n",
       "      <td>NaN</td>\n",
       "    </tr>\n",
       "    <tr>\n",
       "      <th>1</th>\n",
       "      <td>Apple</td>\n",
       "      <td>Ultrabook</td>\n",
       "      <td>13.3</td>\n",
       "      <td>1440x900</td>\n",
       "      <td>Intel Core i5 1.8GHz</td>\n",
       "      <td>8GB</td>\n",
       "      <td>128GB Flash Storage</td>\n",
       "      <td>Intel HD Graphics 6000</td>\n",
       "      <td>macOS</td>\n",
       "      <td>1.34</td>\n",
       "      <td>47895.5232</td>\n",
       "      <td>NaN</td>\n",
       "      <td>1440x900</td>\n",
       "      <td>NaN</td>\n",
       "      <td>Intel Core i5</td>\n",
       "      <td>1.8GHz</td>\n",
       "      <td>NaN</td>\n",
       "      <td>NaN</td>\n",
       "      <td>128.0</td>\n",
       "      <td>NaN</td>\n",
       "    </tr>\n",
       "    <tr>\n",
       "      <th>2</th>\n",
       "      <td>HP</td>\n",
       "      <td>Notebook</td>\n",
       "      <td>15.6</td>\n",
       "      <td>Full HD 1920x1080</td>\n",
       "      <td>Intel Core i5 7200U 2.5GHz</td>\n",
       "      <td>8GB</td>\n",
       "      <td>256GB SSD</td>\n",
       "      <td>Intel HD Graphics 620</td>\n",
       "      <td>No OS</td>\n",
       "      <td>1.86</td>\n",
       "      <td>30636.0000</td>\n",
       "      <td>Full HD</td>\n",
       "      <td>1920x1080</td>\n",
       "      <td>False</td>\n",
       "      <td>Intel Core i5</td>\n",
       "      <td>2.5GHz</td>\n",
       "      <td>256.0</td>\n",
       "      <td>NaN</td>\n",
       "      <td>NaN</td>\n",
       "      <td>NaN</td>\n",
       "    </tr>\n",
       "    <tr>\n",
       "      <th>3</th>\n",
       "      <td>Apple</td>\n",
       "      <td>Ultrabook</td>\n",
       "      <td>15.4</td>\n",
       "      <td>IPS Panel Retina Display 2880x1800</td>\n",
       "      <td>Intel Core i7 2.7GHz</td>\n",
       "      <td>16GB</td>\n",
       "      <td>512GB SSD</td>\n",
       "      <td>AMD Radeon Pro 455</td>\n",
       "      <td>macOS</td>\n",
       "      <td>1.83</td>\n",
       "      <td>135195.3360</td>\n",
       "      <td>IPS Panel Retina Display</td>\n",
       "      <td>2880x1800</td>\n",
       "      <td>False</td>\n",
       "      <td>Intel Core i7</td>\n",
       "      <td>2.7GHz</td>\n",
       "      <td>512.0</td>\n",
       "      <td>NaN</td>\n",
       "      <td>NaN</td>\n",
       "      <td>NaN</td>\n",
       "    </tr>\n",
       "    <tr>\n",
       "      <th>4</th>\n",
       "      <td>Apple</td>\n",
       "      <td>Ultrabook</td>\n",
       "      <td>13.3</td>\n",
       "      <td>IPS Panel Retina Display 2560x1600</td>\n",
       "      <td>Intel Core i5 3.1GHz</td>\n",
       "      <td>8GB</td>\n",
       "      <td>256GB SSD</td>\n",
       "      <td>Intel Iris Plus Graphics 650</td>\n",
       "      <td>macOS</td>\n",
       "      <td>1.37</td>\n",
       "      <td>96095.8080</td>\n",
       "      <td>IPS Panel Retina Display</td>\n",
       "      <td>2560x1600</td>\n",
       "      <td>False</td>\n",
       "      <td>Intel Core i5</td>\n",
       "      <td>3.1GHz</td>\n",
       "      <td>256.0</td>\n",
       "      <td>NaN</td>\n",
       "      <td>NaN</td>\n",
       "      <td>NaN</td>\n",
       "    </tr>\n",
       "    <tr>\n",
       "      <th>...</th>\n",
       "      <td>...</td>\n",
       "      <td>...</td>\n",
       "      <td>...</td>\n",
       "      <td>...</td>\n",
       "      <td>...</td>\n",
       "      <td>...</td>\n",
       "      <td>...</td>\n",
       "      <td>...</td>\n",
       "      <td>...</td>\n",
       "      <td>...</td>\n",
       "      <td>...</td>\n",
       "      <td>...</td>\n",
       "      <td>...</td>\n",
       "      <td>...</td>\n",
       "      <td>...</td>\n",
       "      <td>...</td>\n",
       "      <td>...</td>\n",
       "      <td>...</td>\n",
       "      <td>...</td>\n",
       "      <td>...</td>\n",
       "    </tr>\n",
       "    <tr>\n",
       "      <th>1298</th>\n",
       "      <td>Lenovo</td>\n",
       "      <td>2 in 1 Convertible</td>\n",
       "      <td>14.0</td>\n",
       "      <td>IPS Panel Full HD / Touchscreen 1920x1080</td>\n",
       "      <td>Intel Core i7 6500U 2.5GHz</td>\n",
       "      <td>4GB</td>\n",
       "      <td>128GB SSD</td>\n",
       "      <td>Intel HD Graphics 520</td>\n",
       "      <td>Windows 10</td>\n",
       "      <td>1.80</td>\n",
       "      <td>33992.6400</td>\n",
       "      <td>IPS Panel Full HD / Touchscreen</td>\n",
       "      <td>1920x1080</td>\n",
       "      <td>True</td>\n",
       "      <td>Intel Core i7</td>\n",
       "      <td>2.5GHz</td>\n",
       "      <td>128.0</td>\n",
       "      <td>NaN</td>\n",
       "      <td>NaN</td>\n",
       "      <td>NaN</td>\n",
       "    </tr>\n",
       "    <tr>\n",
       "      <th>1299</th>\n",
       "      <td>Lenovo</td>\n",
       "      <td>2 in 1 Convertible</td>\n",
       "      <td>13.3</td>\n",
       "      <td>IPS Panel Quad HD+ / Touchscreen 3200x1800</td>\n",
       "      <td>Intel Core i7 6500U 2.5GHz</td>\n",
       "      <td>16GB</td>\n",
       "      <td>512GB SSD</td>\n",
       "      <td>Intel HD Graphics 520</td>\n",
       "      <td>Windows 10</td>\n",
       "      <td>1.30</td>\n",
       "      <td>79866.7200</td>\n",
       "      <td>IPS Panel Quad HD+ / Touchscreen</td>\n",
       "      <td>3200x1800</td>\n",
       "      <td>True</td>\n",
       "      <td>Intel Core i7</td>\n",
       "      <td>2.5GHz</td>\n",
       "      <td>512.0</td>\n",
       "      <td>NaN</td>\n",
       "      <td>NaN</td>\n",
       "      <td>NaN</td>\n",
       "    </tr>\n",
       "    <tr>\n",
       "      <th>1300</th>\n",
       "      <td>Lenovo</td>\n",
       "      <td>Notebook</td>\n",
       "      <td>14.0</td>\n",
       "      <td>1366x768</td>\n",
       "      <td>Intel Celeron Dual Core N3050 1.6GHz</td>\n",
       "      <td>2GB</td>\n",
       "      <td>64GB Flash Storage</td>\n",
       "      <td>Intel HD Graphics</td>\n",
       "      <td>Windows 10</td>\n",
       "      <td>1.50</td>\n",
       "      <td>12201.1200</td>\n",
       "      <td>NaN</td>\n",
       "      <td>1366x768</td>\n",
       "      <td>NaN</td>\n",
       "      <td>Intel Celeron Dual Core</td>\n",
       "      <td>1.6GHz</td>\n",
       "      <td>NaN</td>\n",
       "      <td>NaN</td>\n",
       "      <td>64.0</td>\n",
       "      <td>NaN</td>\n",
       "    </tr>\n",
       "    <tr>\n",
       "      <th>1301</th>\n",
       "      <td>HP</td>\n",
       "      <td>Notebook</td>\n",
       "      <td>15.6</td>\n",
       "      <td>1366x768</td>\n",
       "      <td>Intel Core i7 6500U 2.5GHz</td>\n",
       "      <td>6GB</td>\n",
       "      <td>1TB HDD</td>\n",
       "      <td>AMD Radeon R5 M330</td>\n",
       "      <td>Windows 10</td>\n",
       "      <td>2.19</td>\n",
       "      <td>40705.9200</td>\n",
       "      <td>NaN</td>\n",
       "      <td>1366x768</td>\n",
       "      <td>NaN</td>\n",
       "      <td>Intel Core i7</td>\n",
       "      <td>2.5GHz</td>\n",
       "      <td>NaN</td>\n",
       "      <td>1000.0</td>\n",
       "      <td>NaN</td>\n",
       "      <td>NaN</td>\n",
       "    </tr>\n",
       "    <tr>\n",
       "      <th>1302</th>\n",
       "      <td>Asus</td>\n",
       "      <td>Notebook</td>\n",
       "      <td>15.6</td>\n",
       "      <td>1366x768</td>\n",
       "      <td>Intel Celeron Dual Core N3050 1.6GHz</td>\n",
       "      <td>4GB</td>\n",
       "      <td>500GB HDD</td>\n",
       "      <td>Intel HD Graphics</td>\n",
       "      <td>Windows 10</td>\n",
       "      <td>2.20</td>\n",
       "      <td>19660.3200</td>\n",
       "      <td>NaN</td>\n",
       "      <td>1366x768</td>\n",
       "      <td>NaN</td>\n",
       "      <td>Intel Celeron Dual Core</td>\n",
       "      <td>1.6GHz</td>\n",
       "      <td>NaN</td>\n",
       "      <td>500.0</td>\n",
       "      <td>NaN</td>\n",
       "      <td>NaN</td>\n",
       "    </tr>\n",
       "  </tbody>\n",
       "</table>\n",
       "<p>1303 rows × 20 columns</p>\n",
       "</div>"
      ],
      "text/plain": [
       "     Company            TypeName  Inches  \\\n",
       "0      Apple           Ultrabook    13.3   \n",
       "1      Apple           Ultrabook    13.3   \n",
       "2         HP            Notebook    15.6   \n",
       "3      Apple           Ultrabook    15.4   \n",
       "4      Apple           Ultrabook    13.3   \n",
       "...      ...                 ...     ...   \n",
       "1298  Lenovo  2 in 1 Convertible    14.0   \n",
       "1299  Lenovo  2 in 1 Convertible    13.3   \n",
       "1300  Lenovo            Notebook    14.0   \n",
       "1301      HP            Notebook    15.6   \n",
       "1302    Asus            Notebook    15.6   \n",
       "\n",
       "                                ScreenResolution  \\\n",
       "0             IPS Panel Retina Display 2560x1600   \n",
       "1                                       1440x900   \n",
       "2                              Full HD 1920x1080   \n",
       "3             IPS Panel Retina Display 2880x1800   \n",
       "4             IPS Panel Retina Display 2560x1600   \n",
       "...                                          ...   \n",
       "1298   IPS Panel Full HD / Touchscreen 1920x1080   \n",
       "1299  IPS Panel Quad HD+ / Touchscreen 3200x1800   \n",
       "1300                                    1366x768   \n",
       "1301                                    1366x768   \n",
       "1302                                    1366x768   \n",
       "\n",
       "                                       Cpu   Ram               Memory  \\\n",
       "0                     Intel Core i5 2.3GHz   8GB            128GB SSD   \n",
       "1                     Intel Core i5 1.8GHz   8GB  128GB Flash Storage   \n",
       "2               Intel Core i5 7200U 2.5GHz   8GB            256GB SSD   \n",
       "3                     Intel Core i7 2.7GHz  16GB            512GB SSD   \n",
       "4                     Intel Core i5 3.1GHz   8GB            256GB SSD   \n",
       "...                                    ...   ...                  ...   \n",
       "1298            Intel Core i7 6500U 2.5GHz   4GB            128GB SSD   \n",
       "1299            Intel Core i7 6500U 2.5GHz  16GB            512GB SSD   \n",
       "1300  Intel Celeron Dual Core N3050 1.6GHz   2GB   64GB Flash Storage   \n",
       "1301            Intel Core i7 6500U 2.5GHz   6GB              1TB HDD   \n",
       "1302  Intel Celeron Dual Core N3050 1.6GHz   4GB            500GB HDD   \n",
       "\n",
       "                               Gpu       OpSys  Weight        Price  \\\n",
       "0     Intel Iris Plus Graphics 640       macOS    1.37   71378.6832   \n",
       "1           Intel HD Graphics 6000       macOS    1.34   47895.5232   \n",
       "2            Intel HD Graphics 620       No OS    1.86   30636.0000   \n",
       "3               AMD Radeon Pro 455       macOS    1.83  135195.3360   \n",
       "4     Intel Iris Plus Graphics 650       macOS    1.37   96095.8080   \n",
       "...                            ...         ...     ...          ...   \n",
       "1298         Intel HD Graphics 520  Windows 10    1.80   33992.6400   \n",
       "1299         Intel HD Graphics 520  Windows 10    1.30   79866.7200   \n",
       "1300             Intel HD Graphics  Windows 10    1.50   12201.1200   \n",
       "1301            AMD Radeon R5 M330  Windows 10    2.19   40705.9200   \n",
       "1302             Intel HD Graphics  Windows 10    2.20   19660.3200   \n",
       "\n",
       "                            DisplayType DisplayResolution TouchScreen  \\\n",
       "0             IPS Panel Retina Display          2560x1600       False   \n",
       "1                                   NaN          1440x900         NaN   \n",
       "2                              Full HD          1920x1080       False   \n",
       "3             IPS Panel Retina Display          2880x1800       False   \n",
       "4             IPS Panel Retina Display          2560x1600       False   \n",
       "...                                 ...               ...         ...   \n",
       "1298   IPS Panel Full HD / Touchscreen          1920x1080        True   \n",
       "1299  IPS Panel Quad HD+ / Touchscreen          3200x1800        True   \n",
       "1300                                NaN          1366x768         NaN   \n",
       "1301                                NaN          1366x768         NaN   \n",
       "1302                                NaN          1366x768         NaN   \n",
       "\n",
       "                     Cpu Type Cpu Power    SSD     HDD  Flash Storage  Hybrid  \n",
       "0               Intel Core i5    2.3GHz  128.0     NaN            NaN     NaN  \n",
       "1               Intel Core i5    1.8GHz    NaN     NaN          128.0     NaN  \n",
       "2               Intel Core i5    2.5GHz  256.0     NaN            NaN     NaN  \n",
       "3               Intel Core i7    2.7GHz  512.0     NaN            NaN     NaN  \n",
       "4               Intel Core i5    3.1GHz  256.0     NaN            NaN     NaN  \n",
       "...                       ...       ...    ...     ...            ...     ...  \n",
       "1298            Intel Core i7    2.5GHz  128.0     NaN            NaN     NaN  \n",
       "1299            Intel Core i7    2.5GHz  512.0     NaN            NaN     NaN  \n",
       "1300  Intel Celeron Dual Core    1.6GHz    NaN     NaN           64.0     NaN  \n",
       "1301            Intel Core i7    2.5GHz    NaN  1000.0            NaN     NaN  \n",
       "1302  Intel Celeron Dual Core    1.6GHz    NaN   500.0            NaN     NaN  \n",
       "\n",
       "[1303 rows x 20 columns]"
      ]
     },
     "execution_count": 77,
     "metadata": {},
     "output_type": "execute_result"
    }
   ],
   "source": [
    "df_joined"
   ]
  },
  {
   "cell_type": "code",
   "execution_count": 78,
   "id": "89e690bf",
   "metadata": {},
   "outputs": [
    {
     "data": {
      "text/plain": [
       "0        71378.6832\n",
       "1        47895.5232\n",
       "2        30636.0000\n",
       "3       135195.3360\n",
       "4        96095.8080\n",
       "           ...     \n",
       "1298     33992.6400\n",
       "1299     79866.7200\n",
       "1300     12201.1200\n",
       "1301     40705.9200\n",
       "1302     19660.3200\n",
       "Name: Price, Length: 1303, dtype: float64"
      ]
     },
     "execution_count": 78,
     "metadata": {},
     "output_type": "execute_result"
    }
   ],
   "source": [
    "df_joined['Price']"
   ]
  },
  {
   "cell_type": "code",
   "execution_count": 79,
   "id": "1cba5781",
   "metadata": {},
   "outputs": [],
   "source": [
    "df_joined['IPS'] = df_joined['DisplayType'].apply(lambda x: x if pd.isna(x) else (1 if 'IPS' in x else 0))"
   ]
  },
  {
   "cell_type": "code",
   "execution_count": 80,
   "id": "78312326",
   "metadata": {
    "scrolled": true
   },
   "outputs": [
    {
     "data": {
      "text/plain": [
       "0       1.0\n",
       "1       NaN\n",
       "2       0.0\n",
       "3       1.0\n",
       "4       1.0\n",
       "       ... \n",
       "1298    1.0\n",
       "1299    1.0\n",
       "1300    NaN\n",
       "1301    NaN\n",
       "1302    NaN\n",
       "Name: IPS, Length: 1303, dtype: float64"
      ]
     },
     "execution_count": 80,
     "metadata": {},
     "output_type": "execute_result"
    }
   ],
   "source": [
    "df_joined['IPS']"
   ]
  },
  {
   "cell_type": "code",
   "execution_count": 81,
   "id": "8f26eb16",
   "metadata": {},
   "outputs": [],
   "source": [
    "def Ips_Touchscreen(val):\n",
    "    if pd.isna(val):\n",
    "        return (np.nan, np.nan)\n",
    "    else:\n",
    "        return ('IPS' in val, 'Touchscreen' in val)"
   ]
  },
  {
   "cell_type": "code",
   "execution_count": 82,
   "id": "aabb03ee",
   "metadata": {},
   "outputs": [],
   "source": [
    "# df_joined['IPS','Touchscreen'] = df_joined['DisplayType'].apply(Ips_Touchscreen)"
   ]
  },
  {
   "cell_type": "code",
   "execution_count": 83,
   "id": "30a4c17d",
   "metadata": {
    "scrolled": true
   },
   "outputs": [],
   "source": [
    "df_joined[['IPS','Touchscreen']] = list((df_joined['DisplayType'].apply(lambda x: (np.nan,np.nan)\n",
    "                                                  if pd.isna(x) else ('IPS' in x, 'Touchscreen' in x))))"
   ]
  },
  {
   "cell_type": "code",
   "execution_count": 84,
   "id": "93140858",
   "metadata": {},
   "outputs": [
    {
     "data": {
      "text/html": [
       "<div>\n",
       "<style scoped>\n",
       "    .dataframe tbody tr th:only-of-type {\n",
       "        vertical-align: middle;\n",
       "    }\n",
       "\n",
       "    .dataframe tbody tr th {\n",
       "        vertical-align: top;\n",
       "    }\n",
       "\n",
       "    .dataframe thead th {\n",
       "        text-align: right;\n",
       "    }\n",
       "</style>\n",
       "<table border=\"1\" class=\"dataframe\">\n",
       "  <thead>\n",
       "    <tr style=\"text-align: right;\">\n",
       "      <th></th>\n",
       "      <th>IPS</th>\n",
       "      <th>Touchscreen</th>\n",
       "    </tr>\n",
       "  </thead>\n",
       "  <tbody>\n",
       "    <tr>\n",
       "      <th>0</th>\n",
       "      <td>True</td>\n",
       "      <td>False</td>\n",
       "    </tr>\n",
       "    <tr>\n",
       "      <th>1</th>\n",
       "      <td>NaN</td>\n",
       "      <td>NaN</td>\n",
       "    </tr>\n",
       "    <tr>\n",
       "      <th>2</th>\n",
       "      <td>False</td>\n",
       "      <td>False</td>\n",
       "    </tr>\n",
       "    <tr>\n",
       "      <th>3</th>\n",
       "      <td>True</td>\n",
       "      <td>False</td>\n",
       "    </tr>\n",
       "    <tr>\n",
       "      <th>4</th>\n",
       "      <td>True</td>\n",
       "      <td>False</td>\n",
       "    </tr>\n",
       "    <tr>\n",
       "      <th>...</th>\n",
       "      <td>...</td>\n",
       "      <td>...</td>\n",
       "    </tr>\n",
       "    <tr>\n",
       "      <th>1298</th>\n",
       "      <td>True</td>\n",
       "      <td>True</td>\n",
       "    </tr>\n",
       "    <tr>\n",
       "      <th>1299</th>\n",
       "      <td>True</td>\n",
       "      <td>True</td>\n",
       "    </tr>\n",
       "    <tr>\n",
       "      <th>1300</th>\n",
       "      <td>NaN</td>\n",
       "      <td>NaN</td>\n",
       "    </tr>\n",
       "    <tr>\n",
       "      <th>1301</th>\n",
       "      <td>NaN</td>\n",
       "      <td>NaN</td>\n",
       "    </tr>\n",
       "    <tr>\n",
       "      <th>1302</th>\n",
       "      <td>NaN</td>\n",
       "      <td>NaN</td>\n",
       "    </tr>\n",
       "  </tbody>\n",
       "</table>\n",
       "<p>1303 rows × 2 columns</p>\n",
       "</div>"
      ],
      "text/plain": [
       "        IPS Touchscreen\n",
       "0      True       False\n",
       "1       NaN         NaN\n",
       "2     False       False\n",
       "3      True       False\n",
       "4      True       False\n",
       "...     ...         ...\n",
       "1298   True        True\n",
       "1299   True        True\n",
       "1300    NaN         NaN\n",
       "1301    NaN         NaN\n",
       "1302    NaN         NaN\n",
       "\n",
       "[1303 rows x 2 columns]"
      ]
     },
     "execution_count": 84,
     "metadata": {},
     "output_type": "execute_result"
    }
   ],
   "source": [
    "df_joined[['IPS','Touchscreen']]"
   ]
  },
  {
   "cell_type": "code",
   "execution_count": 85,
   "id": "0306991e",
   "metadata": {},
   "outputs": [],
   "source": [
    "# df_joined[['asd', 'asdf']] = list(df_joined['DisplayType'].apply(lambda row: Ips_Touchscreen(row)))"
   ]
  },
  {
   "cell_type": "code",
   "execution_count": 87,
   "id": "9925724f",
   "metadata": {
    "scrolled": true
   },
   "outputs": [
    {
     "data": {
      "text/html": [
       "<div>\n",
       "<style scoped>\n",
       "    .dataframe tbody tr th:only-of-type {\n",
       "        vertical-align: middle;\n",
       "    }\n",
       "\n",
       "    .dataframe tbody tr th {\n",
       "        vertical-align: top;\n",
       "    }\n",
       "\n",
       "    .dataframe thead th {\n",
       "        text-align: right;\n",
       "    }\n",
       "</style>\n",
       "<table border=\"1\" class=\"dataframe\">\n",
       "  <thead>\n",
       "    <tr style=\"text-align: right;\">\n",
       "      <th></th>\n",
       "      <th>Company</th>\n",
       "      <th>TypeName</th>\n",
       "      <th>Inches</th>\n",
       "      <th>ScreenResolution</th>\n",
       "      <th>Cpu</th>\n",
       "      <th>Ram</th>\n",
       "      <th>Memory</th>\n",
       "      <th>Gpu</th>\n",
       "      <th>OpSys</th>\n",
       "      <th>Weight</th>\n",
       "      <th>...</th>\n",
       "      <th>DisplayResolution</th>\n",
       "      <th>TouchScreen</th>\n",
       "      <th>Cpu Type</th>\n",
       "      <th>Cpu Power</th>\n",
       "      <th>SSD</th>\n",
       "      <th>HDD</th>\n",
       "      <th>Flash Storage</th>\n",
       "      <th>Hybrid</th>\n",
       "      <th>IPS</th>\n",
       "      <th>Touchscreen</th>\n",
       "    </tr>\n",
       "  </thead>\n",
       "  <tbody>\n",
       "    <tr>\n",
       "      <th>0</th>\n",
       "      <td>Apple</td>\n",
       "      <td>Ultrabook</td>\n",
       "      <td>13.3</td>\n",
       "      <td>IPS Panel Retina Display 2560x1600</td>\n",
       "      <td>Intel Core i5 2.3GHz</td>\n",
       "      <td>8GB</td>\n",
       "      <td>128GB SSD</td>\n",
       "      <td>Intel Iris Plus Graphics 640</td>\n",
       "      <td>macOS</td>\n",
       "      <td>1.37</td>\n",
       "      <td>...</td>\n",
       "      <td>2560x1600</td>\n",
       "      <td>False</td>\n",
       "      <td>Intel Core i5</td>\n",
       "      <td>2.3GHz</td>\n",
       "      <td>128.0</td>\n",
       "      <td>NaN</td>\n",
       "      <td>NaN</td>\n",
       "      <td>NaN</td>\n",
       "      <td>True</td>\n",
       "      <td>False</td>\n",
       "    </tr>\n",
       "    <tr>\n",
       "      <th>1</th>\n",
       "      <td>Apple</td>\n",
       "      <td>Ultrabook</td>\n",
       "      <td>13.3</td>\n",
       "      <td>1440x900</td>\n",
       "      <td>Intel Core i5 1.8GHz</td>\n",
       "      <td>8GB</td>\n",
       "      <td>128GB Flash Storage</td>\n",
       "      <td>Intel HD Graphics 6000</td>\n",
       "      <td>macOS</td>\n",
       "      <td>1.34</td>\n",
       "      <td>...</td>\n",
       "      <td>1440x900</td>\n",
       "      <td>NaN</td>\n",
       "      <td>Intel Core i5</td>\n",
       "      <td>1.8GHz</td>\n",
       "      <td>NaN</td>\n",
       "      <td>NaN</td>\n",
       "      <td>128.0</td>\n",
       "      <td>NaN</td>\n",
       "      <td>NaN</td>\n",
       "      <td>NaN</td>\n",
       "    </tr>\n",
       "    <tr>\n",
       "      <th>2</th>\n",
       "      <td>HP</td>\n",
       "      <td>Notebook</td>\n",
       "      <td>15.6</td>\n",
       "      <td>Full HD 1920x1080</td>\n",
       "      <td>Intel Core i5 7200U 2.5GHz</td>\n",
       "      <td>8GB</td>\n",
       "      <td>256GB SSD</td>\n",
       "      <td>Intel HD Graphics 620</td>\n",
       "      <td>No OS</td>\n",
       "      <td>1.86</td>\n",
       "      <td>...</td>\n",
       "      <td>1920x1080</td>\n",
       "      <td>False</td>\n",
       "      <td>Intel Core i5</td>\n",
       "      <td>2.5GHz</td>\n",
       "      <td>256.0</td>\n",
       "      <td>NaN</td>\n",
       "      <td>NaN</td>\n",
       "      <td>NaN</td>\n",
       "      <td>False</td>\n",
       "      <td>False</td>\n",
       "    </tr>\n",
       "  </tbody>\n",
       "</table>\n",
       "<p>3 rows × 22 columns</p>\n",
       "</div>"
      ],
      "text/plain": [
       "  Company   TypeName  Inches                    ScreenResolution  \\\n",
       "0   Apple  Ultrabook    13.3  IPS Panel Retina Display 2560x1600   \n",
       "1   Apple  Ultrabook    13.3                            1440x900   \n",
       "2      HP   Notebook    15.6                   Full HD 1920x1080   \n",
       "\n",
       "                          Cpu  Ram               Memory  \\\n",
       "0        Intel Core i5 2.3GHz  8GB            128GB SSD   \n",
       "1        Intel Core i5 1.8GHz  8GB  128GB Flash Storage   \n",
       "2  Intel Core i5 7200U 2.5GHz  8GB            256GB SSD   \n",
       "\n",
       "                            Gpu  OpSys  Weight  ...  DisplayResolution  \\\n",
       "0  Intel Iris Plus Graphics 640  macOS    1.37  ...          2560x1600   \n",
       "1        Intel HD Graphics 6000  macOS    1.34  ...           1440x900   \n",
       "2         Intel HD Graphics 620  No OS    1.86  ...          1920x1080   \n",
       "\n",
       "  TouchScreen       Cpu Type Cpu Power    SSD HDD  Flash Storage  Hybrid  \\\n",
       "0       False  Intel Core i5    2.3GHz  128.0 NaN            NaN     NaN   \n",
       "1         NaN  Intel Core i5    1.8GHz    NaN NaN          128.0     NaN   \n",
       "2       False  Intel Core i5    2.5GHz  256.0 NaN            NaN     NaN   \n",
       "\n",
       "     IPS  Touchscreen  \n",
       "0   True        False  \n",
       "1    NaN          NaN  \n",
       "2  False        False  \n",
       "\n",
       "[3 rows x 22 columns]"
      ]
     },
     "execution_count": 87,
     "metadata": {},
     "output_type": "execute_result"
    }
   ],
   "source": [
    "df_joined.head(3)"
   ]
  },
  {
   "cell_type": "code",
   "execution_count": 88,
   "id": "01fa8fe3",
   "metadata": {},
   "outputs": [],
   "source": [
    "# parsing to list will divide the assignment into 2 columns but direct apply wont...\n",
    "# list((df_joined['DisplayType'].apply(lambda x: (np.nan,np.nan)\n",
    "#                                                   if pd.isna(x) else ('IPS' in x, 'Touchscreen' in x))))"
   ]
  },
  {
   "cell_type": "code",
   "execution_count": 89,
   "id": "b595713f",
   "metadata": {},
   "outputs": [],
   "source": [
    "# This won't - get assigned to only 1 column....\n",
    "# (df_joined['DisplayType'].apply(lambda x: (np.nan,np.nan)\n",
    "#                                                   if pd.isna(x) else ('IPS' in x, 'Touchscreen' in x)))"
   ]
  },
  {
   "cell_type": "code",
   "execution_count": 90,
   "id": "d5761aac",
   "metadata": {
    "scrolled": true
   },
   "outputs": [
    {
     "data": {
      "text/html": [
       "<div>\n",
       "<style scoped>\n",
       "    .dataframe tbody tr th:only-of-type {\n",
       "        vertical-align: middle;\n",
       "    }\n",
       "\n",
       "    .dataframe tbody tr th {\n",
       "        vertical-align: top;\n",
       "    }\n",
       "\n",
       "    .dataframe thead th {\n",
       "        text-align: right;\n",
       "    }\n",
       "</style>\n",
       "<table border=\"1\" class=\"dataframe\">\n",
       "  <thead>\n",
       "    <tr style=\"text-align: right;\">\n",
       "      <th></th>\n",
       "      <th>Company</th>\n",
       "      <th>TypeName</th>\n",
       "      <th>Inches</th>\n",
       "      <th>ScreenResolution</th>\n",
       "      <th>Cpu</th>\n",
       "      <th>Ram</th>\n",
       "      <th>Memory</th>\n",
       "      <th>Gpu</th>\n",
       "      <th>OpSys</th>\n",
       "      <th>Weight</th>\n",
       "      <th>...</th>\n",
       "      <th>DisplayResolution</th>\n",
       "      <th>TouchScreen</th>\n",
       "      <th>Cpu Type</th>\n",
       "      <th>Cpu Power</th>\n",
       "      <th>SSD</th>\n",
       "      <th>HDD</th>\n",
       "      <th>Flash Storage</th>\n",
       "      <th>Hybrid</th>\n",
       "      <th>IPS</th>\n",
       "      <th>Touchscreen</th>\n",
       "    </tr>\n",
       "  </thead>\n",
       "  <tbody>\n",
       "    <tr>\n",
       "      <th>0</th>\n",
       "      <td>Apple</td>\n",
       "      <td>Ultrabook</td>\n",
       "      <td>13.3</td>\n",
       "      <td>IPS Panel Retina Display 2560x1600</td>\n",
       "      <td>Intel Core i5 2.3GHz</td>\n",
       "      <td>8GB</td>\n",
       "      <td>128GB SSD</td>\n",
       "      <td>Intel Iris Plus Graphics 640</td>\n",
       "      <td>macOS</td>\n",
       "      <td>1.37</td>\n",
       "      <td>...</td>\n",
       "      <td>2560x1600</td>\n",
       "      <td>False</td>\n",
       "      <td>Intel Core i5</td>\n",
       "      <td>2.3GHz</td>\n",
       "      <td>128.0</td>\n",
       "      <td>NaN</td>\n",
       "      <td>NaN</td>\n",
       "      <td>NaN</td>\n",
       "      <td>True</td>\n",
       "      <td>False</td>\n",
       "    </tr>\n",
       "    <tr>\n",
       "      <th>1</th>\n",
       "      <td>Apple</td>\n",
       "      <td>Ultrabook</td>\n",
       "      <td>13.3</td>\n",
       "      <td>1440x900</td>\n",
       "      <td>Intel Core i5 1.8GHz</td>\n",
       "      <td>8GB</td>\n",
       "      <td>128GB Flash Storage</td>\n",
       "      <td>Intel HD Graphics 6000</td>\n",
       "      <td>macOS</td>\n",
       "      <td>1.34</td>\n",
       "      <td>...</td>\n",
       "      <td>1440x900</td>\n",
       "      <td>NaN</td>\n",
       "      <td>Intel Core i5</td>\n",
       "      <td>1.8GHz</td>\n",
       "      <td>NaN</td>\n",
       "      <td>NaN</td>\n",
       "      <td>128.0</td>\n",
       "      <td>NaN</td>\n",
       "      <td>NaN</td>\n",
       "      <td>NaN</td>\n",
       "    </tr>\n",
       "    <tr>\n",
       "      <th>2</th>\n",
       "      <td>HP</td>\n",
       "      <td>Notebook</td>\n",
       "      <td>15.6</td>\n",
       "      <td>Full HD 1920x1080</td>\n",
       "      <td>Intel Core i5 7200U 2.5GHz</td>\n",
       "      <td>8GB</td>\n",
       "      <td>256GB SSD</td>\n",
       "      <td>Intel HD Graphics 620</td>\n",
       "      <td>No OS</td>\n",
       "      <td>1.86</td>\n",
       "      <td>...</td>\n",
       "      <td>1920x1080</td>\n",
       "      <td>False</td>\n",
       "      <td>Intel Core i5</td>\n",
       "      <td>2.5GHz</td>\n",
       "      <td>256.0</td>\n",
       "      <td>NaN</td>\n",
       "      <td>NaN</td>\n",
       "      <td>NaN</td>\n",
       "      <td>False</td>\n",
       "      <td>False</td>\n",
       "    </tr>\n",
       "  </tbody>\n",
       "</table>\n",
       "<p>3 rows × 22 columns</p>\n",
       "</div>"
      ],
      "text/plain": [
       "  Company   TypeName  Inches                    ScreenResolution  \\\n",
       "0   Apple  Ultrabook    13.3  IPS Panel Retina Display 2560x1600   \n",
       "1   Apple  Ultrabook    13.3                            1440x900   \n",
       "2      HP   Notebook    15.6                   Full HD 1920x1080   \n",
       "\n",
       "                          Cpu  Ram               Memory  \\\n",
       "0        Intel Core i5 2.3GHz  8GB            128GB SSD   \n",
       "1        Intel Core i5 1.8GHz  8GB  128GB Flash Storage   \n",
       "2  Intel Core i5 7200U 2.5GHz  8GB            256GB SSD   \n",
       "\n",
       "                            Gpu  OpSys  Weight  ...  DisplayResolution  \\\n",
       "0  Intel Iris Plus Graphics 640  macOS    1.37  ...          2560x1600   \n",
       "1        Intel HD Graphics 6000  macOS    1.34  ...           1440x900   \n",
       "2         Intel HD Graphics 620  No OS    1.86  ...          1920x1080   \n",
       "\n",
       "  TouchScreen       Cpu Type Cpu Power    SSD HDD  Flash Storage  Hybrid  \\\n",
       "0       False  Intel Core i5    2.3GHz  128.0 NaN            NaN     NaN   \n",
       "1         NaN  Intel Core i5    1.8GHz    NaN NaN          128.0     NaN   \n",
       "2       False  Intel Core i5    2.5GHz  256.0 NaN            NaN     NaN   \n",
       "\n",
       "     IPS  Touchscreen  \n",
       "0   True        False  \n",
       "1    NaN          NaN  \n",
       "2  False        False  \n",
       "\n",
       "[3 rows x 22 columns]"
      ]
     },
     "execution_count": 90,
     "metadata": {},
     "output_type": "execute_result"
    }
   ],
   "source": [
    "df_joined.head(3)"
   ]
  },
  {
   "cell_type": "code",
   "execution_count": 91,
   "id": "19de927c",
   "metadata": {},
   "outputs": [],
   "source": [
    "df_joined.drop(['TouchScreen'], axis=1, inplace=True)"
   ]
  },
  {
   "cell_type": "code",
   "execution_count": 92,
   "id": "6efc6edc",
   "metadata": {},
   "outputs": [],
   "source": [
    "# CPU type and company name should be different...\n",
    "# Also, you can keep the Type as other in case if we're having CPUs with less records..."
   ]
  },
  {
   "cell_type": "code",
   "execution_count": 93,
   "id": "e97a560f",
   "metadata": {
    "scrolled": false
   },
   "outputs": [],
   "source": [
    "list(df_joined['Cpu Type'].value_counts().index)\n",
    "import re"
   ]
  },
  {
   "cell_type": "code",
   "execution_count": 94,
   "id": "74103e3e",
   "metadata": {},
   "outputs": [],
   "source": [
    "df_joined[['Processor', 'Processor Power']] = df_joined['Cpu Type'].apply(func=lambda x: re.split(' ', x, maxsplit=1)).tolist()"
   ]
  },
  {
   "cell_type": "code",
   "execution_count": 95,
   "id": "1a0c0786",
   "metadata": {
    "scrolled": true
   },
   "outputs": [],
   "source": [
    "# df_joined.drop(df_joined.columns[20], axis=1, inplace=True)"
   ]
  },
  {
   "cell_type": "code",
   "execution_count": 96,
   "id": "76a987b8",
   "metadata": {
    "scrolled": true
   },
   "outputs": [
    {
     "data": {
      "text/html": [
       "<div>\n",
       "<style scoped>\n",
       "    .dataframe tbody tr th:only-of-type {\n",
       "        vertical-align: middle;\n",
       "    }\n",
       "\n",
       "    .dataframe tbody tr th {\n",
       "        vertical-align: top;\n",
       "    }\n",
       "\n",
       "    .dataframe thead th {\n",
       "        text-align: right;\n",
       "    }\n",
       "</style>\n",
       "<table border=\"1\" class=\"dataframe\">\n",
       "  <thead>\n",
       "    <tr style=\"text-align: right;\">\n",
       "      <th></th>\n",
       "      <th>Company</th>\n",
       "      <th>TypeName</th>\n",
       "      <th>Inches</th>\n",
       "      <th>ScreenResolution</th>\n",
       "      <th>Cpu</th>\n",
       "      <th>Ram</th>\n",
       "      <th>Memory</th>\n",
       "      <th>Gpu</th>\n",
       "      <th>OpSys</th>\n",
       "      <th>Weight</th>\n",
       "      <th>...</th>\n",
       "      <th>Cpu Type</th>\n",
       "      <th>Cpu Power</th>\n",
       "      <th>SSD</th>\n",
       "      <th>HDD</th>\n",
       "      <th>Flash Storage</th>\n",
       "      <th>Hybrid</th>\n",
       "      <th>IPS</th>\n",
       "      <th>Touchscreen</th>\n",
       "      <th>Processor</th>\n",
       "      <th>Processor Power</th>\n",
       "    </tr>\n",
       "  </thead>\n",
       "  <tbody>\n",
       "    <tr>\n",
       "      <th>0</th>\n",
       "      <td>Apple</td>\n",
       "      <td>Ultrabook</td>\n",
       "      <td>13.3</td>\n",
       "      <td>IPS Panel Retina Display 2560x1600</td>\n",
       "      <td>Intel Core i5 2.3GHz</td>\n",
       "      <td>8GB</td>\n",
       "      <td>128GB SSD</td>\n",
       "      <td>Intel Iris Plus Graphics 640</td>\n",
       "      <td>macOS</td>\n",
       "      <td>1.37</td>\n",
       "      <td>...</td>\n",
       "      <td>Intel Core i5</td>\n",
       "      <td>2.3GHz</td>\n",
       "      <td>128.0</td>\n",
       "      <td>NaN</td>\n",
       "      <td>NaN</td>\n",
       "      <td>NaN</td>\n",
       "      <td>True</td>\n",
       "      <td>False</td>\n",
       "      <td>Intel</td>\n",
       "      <td>Core i5</td>\n",
       "    </tr>\n",
       "    <tr>\n",
       "      <th>1</th>\n",
       "      <td>Apple</td>\n",
       "      <td>Ultrabook</td>\n",
       "      <td>13.3</td>\n",
       "      <td>1440x900</td>\n",
       "      <td>Intel Core i5 1.8GHz</td>\n",
       "      <td>8GB</td>\n",
       "      <td>128GB Flash Storage</td>\n",
       "      <td>Intel HD Graphics 6000</td>\n",
       "      <td>macOS</td>\n",
       "      <td>1.34</td>\n",
       "      <td>...</td>\n",
       "      <td>Intel Core i5</td>\n",
       "      <td>1.8GHz</td>\n",
       "      <td>NaN</td>\n",
       "      <td>NaN</td>\n",
       "      <td>128.0</td>\n",
       "      <td>NaN</td>\n",
       "      <td>NaN</td>\n",
       "      <td>NaN</td>\n",
       "      <td>Intel</td>\n",
       "      <td>Core i5</td>\n",
       "    </tr>\n",
       "    <tr>\n",
       "      <th>2</th>\n",
       "      <td>HP</td>\n",
       "      <td>Notebook</td>\n",
       "      <td>15.6</td>\n",
       "      <td>Full HD 1920x1080</td>\n",
       "      <td>Intel Core i5 7200U 2.5GHz</td>\n",
       "      <td>8GB</td>\n",
       "      <td>256GB SSD</td>\n",
       "      <td>Intel HD Graphics 620</td>\n",
       "      <td>No OS</td>\n",
       "      <td>1.86</td>\n",
       "      <td>...</td>\n",
       "      <td>Intel Core i5</td>\n",
       "      <td>2.5GHz</td>\n",
       "      <td>256.0</td>\n",
       "      <td>NaN</td>\n",
       "      <td>NaN</td>\n",
       "      <td>NaN</td>\n",
       "      <td>False</td>\n",
       "      <td>False</td>\n",
       "      <td>Intel</td>\n",
       "      <td>Core i5</td>\n",
       "    </tr>\n",
       "  </tbody>\n",
       "</table>\n",
       "<p>3 rows × 23 columns</p>\n",
       "</div>"
      ],
      "text/plain": [
       "  Company   TypeName  Inches                    ScreenResolution  \\\n",
       "0   Apple  Ultrabook    13.3  IPS Panel Retina Display 2560x1600   \n",
       "1   Apple  Ultrabook    13.3                            1440x900   \n",
       "2      HP   Notebook    15.6                   Full HD 1920x1080   \n",
       "\n",
       "                          Cpu  Ram               Memory  \\\n",
       "0        Intel Core i5 2.3GHz  8GB            128GB SSD   \n",
       "1        Intel Core i5 1.8GHz  8GB  128GB Flash Storage   \n",
       "2  Intel Core i5 7200U 2.5GHz  8GB            256GB SSD   \n",
       "\n",
       "                            Gpu  OpSys  Weight  ...       Cpu Type Cpu Power  \\\n",
       "0  Intel Iris Plus Graphics 640  macOS    1.37  ...  Intel Core i5    2.3GHz   \n",
       "1        Intel HD Graphics 6000  macOS    1.34  ...  Intel Core i5    1.8GHz   \n",
       "2         Intel HD Graphics 620  No OS    1.86  ...  Intel Core i5    2.5GHz   \n",
       "\n",
       "     SSD HDD Flash Storage  Hybrid    IPS  Touchscreen  Processor  \\\n",
       "0  128.0 NaN           NaN     NaN   True        False      Intel   \n",
       "1    NaN NaN         128.0     NaN    NaN          NaN      Intel   \n",
       "2  256.0 NaN           NaN     NaN  False        False      Intel   \n",
       "\n",
       "  Processor Power  \n",
       "0         Core i5  \n",
       "1         Core i5  \n",
       "2         Core i5  \n",
       "\n",
       "[3 rows x 23 columns]"
      ]
     },
     "execution_count": 96,
     "metadata": {},
     "output_type": "execute_result"
    }
   ],
   "source": [
    "df_joined.head(3)"
   ]
  },
  {
   "cell_type": "code",
   "execution_count": 97,
   "id": "22f298c0",
   "metadata": {},
   "outputs": [
    {
     "data": {
      "text/plain": [
       "Intel      1240\n",
       "AMD          62\n",
       "Samsung       1\n",
       "Name: Processor, dtype: int64"
      ]
     },
     "execution_count": 97,
     "metadata": {},
     "output_type": "execute_result"
    }
   ],
   "source": [
    "df_joined['Processor'].value_counts()"
   ]
  },
  {
   "cell_type": "code",
   "execution_count": 170,
   "id": "6dbc09f3",
   "metadata": {},
   "outputs": [],
   "source": [
    "df_filtered = df_joined.copy()"
   ]
  },
  {
   "cell_type": "code",
   "execution_count": 171,
   "id": "4dbb33cf",
   "metadata": {},
   "outputs": [],
   "source": [
    "df_filtered.to_csv('Filtered Laptop Data.csv')"
   ]
  },
  {
   "cell_type": "code",
   "execution_count": 172,
   "id": "a024e39f",
   "metadata": {
    "scrolled": true
   },
   "outputs": [],
   "source": [
    "# df_filtered.drop(['ScreenResolution', 'Cpu', 'Memory'])"
   ]
  },
  {
   "cell_type": "code",
   "execution_count": 173,
   "id": "e54a24af",
   "metadata": {},
   "outputs": [
    {
     "data": {
      "text/plain": [
       "Intel HD Graphics 620      281\n",
       "Intel HD Graphics 520      185\n",
       "Intel UHD Graphics 620      68\n",
       "Nvidia GeForce GTX 1050     66\n",
       "Nvidia GeForce GTX 1060     48\n",
       "                          ... \n",
       "AMD Radeon R5 520            1\n",
       "AMD Radeon R7                1\n",
       "Intel HD Graphics 540        1\n",
       "AMD Radeon 540               1\n",
       "ARM Mali T860 MP4            1\n",
       "Name: Gpu, Length: 110, dtype: int64"
      ]
     },
     "execution_count": 173,
     "metadata": {},
     "output_type": "execute_result"
    }
   ],
   "source": [
    "df_filtered['Gpu'].value_counts()"
   ]
  },
  {
   "cell_type": "code",
   "execution_count": 174,
   "id": "a7f56351",
   "metadata": {},
   "outputs": [
    {
     "data": {
      "text/html": [
       "<div>\n",
       "<style scoped>\n",
       "    .dataframe tbody tr th:only-of-type {\n",
       "        vertical-align: middle;\n",
       "    }\n",
       "\n",
       "    .dataframe tbody tr th {\n",
       "        vertical-align: top;\n",
       "    }\n",
       "\n",
       "    .dataframe thead th {\n",
       "        text-align: right;\n",
       "    }\n",
       "</style>\n",
       "<table border=\"1\" class=\"dataframe\">\n",
       "  <thead>\n",
       "    <tr style=\"text-align: right;\">\n",
       "      <th></th>\n",
       "      <th>Company</th>\n",
       "      <th>TypeName</th>\n",
       "      <th>Inches</th>\n",
       "      <th>ScreenResolution</th>\n",
       "      <th>Cpu</th>\n",
       "      <th>Ram</th>\n",
       "      <th>Memory</th>\n",
       "      <th>Gpu</th>\n",
       "      <th>OpSys</th>\n",
       "      <th>Weight</th>\n",
       "      <th>...</th>\n",
       "      <th>Cpu Type</th>\n",
       "      <th>Cpu Power</th>\n",
       "      <th>SSD</th>\n",
       "      <th>HDD</th>\n",
       "      <th>Flash Storage</th>\n",
       "      <th>Hybrid</th>\n",
       "      <th>IPS</th>\n",
       "      <th>Touchscreen</th>\n",
       "      <th>Processor</th>\n",
       "      <th>Processor Power</th>\n",
       "    </tr>\n",
       "  </thead>\n",
       "  <tbody>\n",
       "    <tr>\n",
       "      <th>1247</th>\n",
       "      <td>Asus</td>\n",
       "      <td>Gaming</td>\n",
       "      <td>15.6</td>\n",
       "      <td>IPS Panel Full HD 1920x1080</td>\n",
       "      <td>Intel Core i7 6700HQ 2.6GHz</td>\n",
       "      <td>16GB</td>\n",
       "      <td>256GB SSD +  1TB HDD</td>\n",
       "      <td>Nvidia GeForce GTX 1070</td>\n",
       "      <td>Windows 10</td>\n",
       "      <td>2.34</td>\n",
       "      <td>...</td>\n",
       "      <td>Intel Core i7</td>\n",
       "      <td>2.6GHz</td>\n",
       "      <td>256.0</td>\n",
       "      <td>1000.0</td>\n",
       "      <td>NaN</td>\n",
       "      <td>NaN</td>\n",
       "      <td>True</td>\n",
       "      <td>False</td>\n",
       "      <td>Intel</td>\n",
       "      <td>Core i7</td>\n",
       "    </tr>\n",
       "  </tbody>\n",
       "</table>\n",
       "<p>1 rows × 23 columns</p>\n",
       "</div>"
      ],
      "text/plain": [
       "     Company TypeName  Inches             ScreenResolution  \\\n",
       "1247    Asus   Gaming    15.6  IPS Panel Full HD 1920x1080   \n",
       "\n",
       "                              Cpu   Ram                Memory  \\\n",
       "1247  Intel Core i7 6700HQ 2.6GHz  16GB  256GB SSD +  1TB HDD   \n",
       "\n",
       "                          Gpu       OpSys  Weight  ...       Cpu Type  \\\n",
       "1247  Nvidia GeForce GTX 1070  Windows 10    2.34  ...  Intel Core i7   \n",
       "\n",
       "     Cpu Power    SSD     HDD Flash Storage  Hybrid   IPS  Touchscreen  \\\n",
       "1247    2.6GHz  256.0  1000.0           NaN     NaN  True        False   \n",
       "\n",
       "      Processor Processor Power  \n",
       "1247      Intel         Core i7  \n",
       "\n",
       "[1 rows x 23 columns]"
      ]
     },
     "execution_count": 174,
     "metadata": {},
     "output_type": "execute_result"
    }
   ],
   "source": [
    "df_filtered.loc[[1247]]"
   ]
  },
  {
   "cell_type": "code",
   "execution_count": 175,
   "id": "4126d2a5",
   "metadata": {},
   "outputs": [
    {
     "data": {
      "text/plain": [
       "Index(['Company', 'TypeName', 'Inches', 'ScreenResolution', 'Cpu', 'Ram',\n",
       "       'Memory', 'Gpu', 'OpSys', 'Weight', 'Price', 'DisplayType',\n",
       "       'DisplayResolution', 'Cpu Type', 'Cpu Power', 'SSD', 'HDD',\n",
       "       'Flash Storage', 'Hybrid', 'IPS', 'Touchscreen', 'Processor',\n",
       "       'Processor Power'],\n",
       "      dtype='object')"
      ]
     },
     "execution_count": 175,
     "metadata": {},
     "output_type": "execute_result"
    }
   ],
   "source": [
    "df_filtered.columns"
   ]
  },
  {
   "cell_type": "code",
   "execution_count": 176,
   "id": "a65517ee",
   "metadata": {},
   "outputs": [
    {
     "data": {
      "text/plain": [
       "<AxesSubplot:xlabel='Cpu Power', ylabel='Price'>"
      ]
     },
     "execution_count": 176,
     "metadata": {},
     "output_type": "execute_result"
    },
    {
     "data": {
      "image/png": "[encoded data removed]",
      "text/plain": [
       "<Figure size 432x288 with 1 Axes>"
      ]
     },
     "metadata": {},
     "output_type": "display_data"
    }
   ],
   "source": [
    "sns.lineplot(x=df_filtered[df_filtered['Processor']== 'Intel']['Cpu Power'].str.replace('GHz', '').astype('float32').sort_values(),\n",
    "             y=df_filtered[df_filtered['Processor']== 'Intel']['Price'])\n",
    "#df_filtered['Cpu Power'].str.replace('GHz', '')"
   ]
  },
  {
   "cell_type": "code",
   "execution_count": 177,
   "id": "97182fb6",
   "metadata": {},
   "outputs": [
    {
     "data": {
      "text/plain": [
       "0       False\n",
       "1       False\n",
       "2       False\n",
       "3       False\n",
       "4       False\n",
       "        ...  \n",
       "1298    False\n",
       "1299    False\n",
       "1300    False\n",
       "1301    False\n",
       "1302    False\n",
       "Name: Cpu Power, Length: 1303, dtype: bool"
      ]
     },
     "execution_count": 177,
     "metadata": {},
     "output_type": "execute_result"
    }
   ],
   "source": [
    "df_filtered['Cpu Power'].str.replace('GHz', '').str.contains('0.9')"
   ]
  },
  {
   "cell_type": "code",
   "execution_count": 178,
   "id": "70ec93ad",
   "metadata": {},
   "outputs": [
    {
     "data": {
      "text/html": [
       "<div>\n",
       "<style scoped>\n",
       "    .dataframe tbody tr th:only-of-type {\n",
       "        vertical-align: middle;\n",
       "    }\n",
       "\n",
       "    .dataframe tbody tr th {\n",
       "        vertical-align: top;\n",
       "    }\n",
       "\n",
       "    .dataframe thead th {\n",
       "        text-align: right;\n",
       "    }\n",
       "</style>\n",
       "<table border=\"1\" class=\"dataframe\">\n",
       "  <thead>\n",
       "    <tr style=\"text-align: right;\">\n",
       "      <th></th>\n",
       "      <th>Price</th>\n",
       "    </tr>\n",
       "    <tr>\n",
       "      <th>Cpu Power</th>\n",
       "      <th></th>\n",
       "    </tr>\n",
       "  </thead>\n",
       "  <tbody>\n",
       "    <tr>\n",
       "      <th>3.1GHz</th>\n",
       "      <td>155268.576</td>\n",
       "    </tr>\n",
       "  </tbody>\n",
       "</table>\n",
       "</div>"
      ],
      "text/plain": [
       "                Price\n",
       "Cpu Power            \n",
       " 3.1GHz    155268.576"
      ]
     },
     "execution_count": 178,
     "metadata": {},
     "output_type": "execute_result"
    }
   ],
   "source": [
    "df_filtered[df_filtered['Cpu Power'].str.contains('3.1')][['Cpu Power', 'Price']].groupby('Cpu Power').mean()"
   ]
  },
  {
   "cell_type": "code",
   "execution_count": 179,
   "id": "e7ffeae6",
   "metadata": {},
   "outputs": [
    {
     "data": {
      "text/html": [
       "<div>\n",
       "<style scoped>\n",
       "    .dataframe tbody tr th:only-of-type {\n",
       "        vertical-align: middle;\n",
       "    }\n",
       "\n",
       "    .dataframe tbody tr th {\n",
       "        vertical-align: top;\n",
       "    }\n",
       "\n",
       "    .dataframe thead th {\n",
       "        text-align: right;\n",
       "    }\n",
       "</style>\n",
       "<table border=\"1\" class=\"dataframe\">\n",
       "  <thead>\n",
       "    <tr style=\"text-align: right;\">\n",
       "      <th></th>\n",
       "      <th>Cpu Type</th>\n",
       "      <th>Cpu Power</th>\n",
       "      <th>Processor</th>\n",
       "      <th>Processor Power</th>\n",
       "    </tr>\n",
       "  </thead>\n",
       "  <tbody>\n",
       "    <tr>\n",
       "      <th>0</th>\n",
       "      <td>Intel Core i5</td>\n",
       "      <td>2.3GHz</td>\n",
       "      <td>Intel</td>\n",
       "      <td>Core i5</td>\n",
       "    </tr>\n",
       "    <tr>\n",
       "      <th>1</th>\n",
       "      <td>Intel Core i5</td>\n",
       "      <td>1.8GHz</td>\n",
       "      <td>Intel</td>\n",
       "      <td>Core i5</td>\n",
       "    </tr>\n",
       "    <tr>\n",
       "      <th>2</th>\n",
       "      <td>Intel Core i5</td>\n",
       "      <td>2.5GHz</td>\n",
       "      <td>Intel</td>\n",
       "      <td>Core i5</td>\n",
       "    </tr>\n",
       "    <tr>\n",
       "      <th>3</th>\n",
       "      <td>Intel Core i7</td>\n",
       "      <td>2.7GHz</td>\n",
       "      <td>Intel</td>\n",
       "      <td>Core i7</td>\n",
       "    </tr>\n",
       "    <tr>\n",
       "      <th>4</th>\n",
       "      <td>Intel Core i5</td>\n",
       "      <td>3.1GHz</td>\n",
       "      <td>Intel</td>\n",
       "      <td>Core i5</td>\n",
       "    </tr>\n",
       "    <tr>\n",
       "      <th>...</th>\n",
       "      <td>...</td>\n",
       "      <td>...</td>\n",
       "      <td>...</td>\n",
       "      <td>...</td>\n",
       "    </tr>\n",
       "    <tr>\n",
       "      <th>1298</th>\n",
       "      <td>Intel Core i7</td>\n",
       "      <td>2.5GHz</td>\n",
       "      <td>Intel</td>\n",
       "      <td>Core i7</td>\n",
       "    </tr>\n",
       "    <tr>\n",
       "      <th>1299</th>\n",
       "      <td>Intel Core i7</td>\n",
       "      <td>2.5GHz</td>\n",
       "      <td>Intel</td>\n",
       "      <td>Core i7</td>\n",
       "    </tr>\n",
       "    <tr>\n",
       "      <th>1300</th>\n",
       "      <td>Intel Celeron Dual Core</td>\n",
       "      <td>1.6GHz</td>\n",
       "      <td>Intel</td>\n",
       "      <td>Celeron Dual Core</td>\n",
       "    </tr>\n",
       "    <tr>\n",
       "      <th>1301</th>\n",
       "      <td>Intel Core i7</td>\n",
       "      <td>2.5GHz</td>\n",
       "      <td>Intel</td>\n",
       "      <td>Core i7</td>\n",
       "    </tr>\n",
       "    <tr>\n",
       "      <th>1302</th>\n",
       "      <td>Intel Celeron Dual Core</td>\n",
       "      <td>1.6GHz</td>\n",
       "      <td>Intel</td>\n",
       "      <td>Celeron Dual Core</td>\n",
       "    </tr>\n",
       "  </tbody>\n",
       "</table>\n",
       "<p>1303 rows × 4 columns</p>\n",
       "</div>"
      ],
      "text/plain": [
       "                     Cpu Type Cpu Power Processor    Processor Power\n",
       "0               Intel Core i5    2.3GHz     Intel            Core i5\n",
       "1               Intel Core i5    1.8GHz     Intel            Core i5\n",
       "2               Intel Core i5    2.5GHz     Intel            Core i5\n",
       "3               Intel Core i7    2.7GHz     Intel            Core i7\n",
       "4               Intel Core i5    3.1GHz     Intel            Core i5\n",
       "...                       ...       ...       ...                ...\n",
       "1298            Intel Core i7    2.5GHz     Intel            Core i7\n",
       "1299            Intel Core i7    2.5GHz     Intel            Core i7\n",
       "1300  Intel Celeron Dual Core    1.6GHz     Intel  Celeron Dual Core\n",
       "1301            Intel Core i7    2.5GHz     Intel            Core i7\n",
       "1302  Intel Celeron Dual Core    1.6GHz     Intel  Celeron Dual Core\n",
       "\n",
       "[1303 rows x 4 columns]"
      ]
     },
     "execution_count": 179,
     "metadata": {},
     "output_type": "execute_result"
    }
   ],
   "source": [
    "df_filtered[['Cpu Type', 'Cpu Power', 'Processor', 'Processor Power']]"
   ]
  },
  {
   "cell_type": "code",
   "execution_count": 180,
   "id": "8bad9de0",
   "metadata": {},
   "outputs": [
    {
     "data": {
      "text/html": [
       "<div>\n",
       "<style scoped>\n",
       "    .dataframe tbody tr th:only-of-type {\n",
       "        vertical-align: middle;\n",
       "    }\n",
       "\n",
       "    .dataframe tbody tr th {\n",
       "        vertical-align: top;\n",
       "    }\n",
       "\n",
       "    .dataframe thead th {\n",
       "        text-align: right;\n",
       "    }\n",
       "</style>\n",
       "<table border=\"1\" class=\"dataframe\">\n",
       "  <thead>\n",
       "    <tr style=\"text-align: right;\">\n",
       "      <th></th>\n",
       "      <th>Cpu Type</th>\n",
       "      <th>Cpu Power</th>\n",
       "      <th>Processor</th>\n",
       "      <th>Processor Power</th>\n",
       "    </tr>\n",
       "  </thead>\n",
       "  <tbody>\n",
       "    <tr>\n",
       "      <th>0</th>\n",
       "      <td>Intel Core i5</td>\n",
       "      <td>2.3GHz</td>\n",
       "      <td>Intel</td>\n",
       "      <td>Core i5</td>\n",
       "    </tr>\n",
       "    <tr>\n",
       "      <th>1</th>\n",
       "      <td>Intel Core i5</td>\n",
       "      <td>1.8GHz</td>\n",
       "      <td>Intel</td>\n",
       "      <td>Core i5</td>\n",
       "    </tr>\n",
       "    <tr>\n",
       "      <th>2</th>\n",
       "      <td>Intel Core i5</td>\n",
       "      <td>2.5GHz</td>\n",
       "      <td>Intel</td>\n",
       "      <td>Core i5</td>\n",
       "    </tr>\n",
       "    <tr>\n",
       "      <th>3</th>\n",
       "      <td>Intel Core i7</td>\n",
       "      <td>2.7GHz</td>\n",
       "      <td>Intel</td>\n",
       "      <td>Core i7</td>\n",
       "    </tr>\n",
       "    <tr>\n",
       "      <th>4</th>\n",
       "      <td>Intel Core i5</td>\n",
       "      <td>3.1GHz</td>\n",
       "      <td>Intel</td>\n",
       "      <td>Core i5</td>\n",
       "    </tr>\n",
       "    <tr>\n",
       "      <th>...</th>\n",
       "      <td>...</td>\n",
       "      <td>...</td>\n",
       "      <td>...</td>\n",
       "      <td>...</td>\n",
       "    </tr>\n",
       "    <tr>\n",
       "      <th>1298</th>\n",
       "      <td>Intel Core i7</td>\n",
       "      <td>2.5GHz</td>\n",
       "      <td>Intel</td>\n",
       "      <td>Core i7</td>\n",
       "    </tr>\n",
       "    <tr>\n",
       "      <th>1299</th>\n",
       "      <td>Intel Core i7</td>\n",
       "      <td>2.5GHz</td>\n",
       "      <td>Intel</td>\n",
       "      <td>Core i7</td>\n",
       "    </tr>\n",
       "    <tr>\n",
       "      <th>1300</th>\n",
       "      <td>Intel Celeron Dual Core</td>\n",
       "      <td>1.6GHz</td>\n",
       "      <td>Intel</td>\n",
       "      <td>Celeron Dual Core</td>\n",
       "    </tr>\n",
       "    <tr>\n",
       "      <th>1301</th>\n",
       "      <td>Intel Core i7</td>\n",
       "      <td>2.5GHz</td>\n",
       "      <td>Intel</td>\n",
       "      <td>Core i7</td>\n",
       "    </tr>\n",
       "    <tr>\n",
       "      <th>1302</th>\n",
       "      <td>Intel Celeron Dual Core</td>\n",
       "      <td>1.6GHz</td>\n",
       "      <td>Intel</td>\n",
       "      <td>Celeron Dual Core</td>\n",
       "    </tr>\n",
       "  </tbody>\n",
       "</table>\n",
       "<p>1303 rows × 4 columns</p>\n",
       "</div>"
      ],
      "text/plain": [
       "                     Cpu Type Cpu Power Processor    Processor Power\n",
       "0               Intel Core i5    2.3GHz     Intel            Core i5\n",
       "1               Intel Core i5    1.8GHz     Intel            Core i5\n",
       "2               Intel Core i5    2.5GHz     Intel            Core i5\n",
       "3               Intel Core i7    2.7GHz     Intel            Core i7\n",
       "4               Intel Core i5    3.1GHz     Intel            Core i5\n",
       "...                       ...       ...       ...                ...\n",
       "1298            Intel Core i7    2.5GHz     Intel            Core i7\n",
       "1299            Intel Core i7    2.5GHz     Intel            Core i7\n",
       "1300  Intel Celeron Dual Core    1.6GHz     Intel  Celeron Dual Core\n",
       "1301            Intel Core i7    2.5GHz     Intel            Core i7\n",
       "1302  Intel Celeron Dual Core    1.6GHz     Intel  Celeron Dual Core\n",
       "\n",
       "[1303 rows x 4 columns]"
      ]
     },
     "execution_count": 180,
     "metadata": {},
     "output_type": "execute_result"
    }
   ],
   "source": [
    "df_filtered[['Cpu Type', 'Cpu Power', 'Processor', 'Processor Power']]\n",
    "# we can use types as Intel Core i5 / Core i3 / Core i7 / Other Intel / AMD. with CPU Power Column as separate"
   ]
  },
  {
   "cell_type": "code",
   "execution_count": 181,
   "id": "62a97666",
   "metadata": {
    "scrolled": true
   },
   "outputs": [
    {
     "data": {
      "text/plain": [
       " 2.5GHz     290\n",
       " 2.7GHz     165\n",
       " 2.8GHz     165\n",
       " 1.6GHz     133\n",
       " 2.3GHz      86\n",
       " 1.8GHz      78\n",
       " 2.6GHz      76\n",
       " 2GHz        67\n",
       " 1.1GHz      53\n",
       " 2.4GHz      52\n",
       " 2.9GHz      21\n",
       " 3GHz        19\n",
       " 2.0GHz      19\n",
       " 1.2GHz      15\n",
       " 1.44GHz     12\n",
       " 2.2GHz      11\n",
       " 1.5GHz      10\n",
       " 1.3GHz       6\n",
       " 3.6GHz       5\n",
       " 0.9GHz       4\n",
       " 3.1GHz       3\n",
       " 2.1GHz       3\n",
       " 2.50GHz      3\n",
       " 1.9GHz       2\n",
       " 1.60GHz      1\n",
       " 3.2GHz       1\n",
       " 1.0GHz       1\n",
       " 1.92GHz      1\n",
       " 2.70GHz      1\n",
       "Name: Cpu Power, dtype: int64"
      ]
     },
     "execution_count": 181,
     "metadata": {},
     "output_type": "execute_result"
    }
   ],
   "source": [
    "df_filtered['Cpu Power'].value_counts()"
   ]
  },
  {
   "cell_type": "code",
   "execution_count": 182,
   "id": "648bb66f",
   "metadata": {},
   "outputs": [],
   "source": [
    "# Find PPI and then apply models...\n",
    "df_filtered = df_filtered.join(df['ScreenResolution'].str.extract(r'([0-9 x]+)$')[0].str.split('x', expand=True).rename(\n",
    "    columns={0:'X Resolution', 1: 'Y Resolution'}))"
   ]
  },
  {
   "cell_type": "code",
   "execution_count": 183,
   "id": "87561952",
   "metadata": {},
   "outputs": [],
   "source": [
    "# Pixel per inch\n",
    "df_filtered['X Resolution'] = df_filtered['X Resolution'].astype('float32')\n",
    "df_filtered['Y Resolution'] = df_filtered['Y Resolution'].astype('float32')\n",
    "#df_filtered['PPI'] = df_filtered['Inches']"
   ]
  },
  {
   "cell_type": "code",
   "execution_count": 184,
   "id": "3ca50fc6",
   "metadata": {},
   "outputs": [],
   "source": [
    "df_filtered['PPI'] = (df_filtered['X Resolution']**2 + df_filtered['Y Resolution']**2)**0.5 / df_filtered['Inches']"
   ]
  },
  {
   "cell_type": "code",
   "execution_count": 185,
   "id": "cbdce12c",
   "metadata": {},
   "outputs": [
    {
     "data": {
      "text/html": [
       "<div>\n",
       "<style scoped>\n",
       "    .dataframe tbody tr th:only-of-type {\n",
       "        vertical-align: middle;\n",
       "    }\n",
       "\n",
       "    .dataframe tbody tr th {\n",
       "        vertical-align: top;\n",
       "    }\n",
       "\n",
       "    .dataframe thead th {\n",
       "        text-align: right;\n",
       "    }\n",
       "</style>\n",
       "<table border=\"1\" class=\"dataframe\">\n",
       "  <thead>\n",
       "    <tr style=\"text-align: right;\">\n",
       "      <th></th>\n",
       "      <th>Company</th>\n",
       "      <th>TypeName</th>\n",
       "      <th>Inches</th>\n",
       "      <th>ScreenResolution</th>\n",
       "      <th>Cpu</th>\n",
       "      <th>Ram</th>\n",
       "      <th>Memory</th>\n",
       "      <th>Gpu</th>\n",
       "      <th>OpSys</th>\n",
       "      <th>Weight</th>\n",
       "      <th>...</th>\n",
       "      <th>HDD</th>\n",
       "      <th>Flash Storage</th>\n",
       "      <th>Hybrid</th>\n",
       "      <th>IPS</th>\n",
       "      <th>Touchscreen</th>\n",
       "      <th>Processor</th>\n",
       "      <th>Processor Power</th>\n",
       "      <th>X Resolution</th>\n",
       "      <th>Y Resolution</th>\n",
       "      <th>PPI</th>\n",
       "    </tr>\n",
       "  </thead>\n",
       "  <tbody>\n",
       "    <tr>\n",
       "      <th>0</th>\n",
       "      <td>Apple</td>\n",
       "      <td>Ultrabook</td>\n",
       "      <td>13.3</td>\n",
       "      <td>IPS Panel Retina Display 2560x1600</td>\n",
       "      <td>Intel Core i5 2.3GHz</td>\n",
       "      <td>8GB</td>\n",
       "      <td>128GB SSD</td>\n",
       "      <td>Intel Iris Plus Graphics 640</td>\n",
       "      <td>macOS</td>\n",
       "      <td>1.37</td>\n",
       "      <td>...</td>\n",
       "      <td>NaN</td>\n",
       "      <td>NaN</td>\n",
       "      <td>NaN</td>\n",
       "      <td>True</td>\n",
       "      <td>False</td>\n",
       "      <td>Intel</td>\n",
       "      <td>Core i5</td>\n",
       "      <td>2560.0</td>\n",
       "      <td>1600.0</td>\n",
       "      <td>226.983009</td>\n",
       "    </tr>\n",
       "    <tr>\n",
       "      <th>1</th>\n",
       "      <td>Apple</td>\n",
       "      <td>Ultrabook</td>\n",
       "      <td>13.3</td>\n",
       "      <td>1440x900</td>\n",
       "      <td>Intel Core i5 1.8GHz</td>\n",
       "      <td>8GB</td>\n",
       "      <td>128GB Flash Storage</td>\n",
       "      <td>Intel HD Graphics 6000</td>\n",
       "      <td>macOS</td>\n",
       "      <td>1.34</td>\n",
       "      <td>...</td>\n",
       "      <td>NaN</td>\n",
       "      <td>128.0</td>\n",
       "      <td>NaN</td>\n",
       "      <td>NaN</td>\n",
       "      <td>NaN</td>\n",
       "      <td>Intel</td>\n",
       "      <td>Core i5</td>\n",
       "      <td>1440.0</td>\n",
       "      <td>900.0</td>\n",
       "      <td>127.677938</td>\n",
       "    </tr>\n",
       "    <tr>\n",
       "      <th>2</th>\n",
       "      <td>HP</td>\n",
       "      <td>Notebook</td>\n",
       "      <td>15.6</td>\n",
       "      <td>Full HD 1920x1080</td>\n",
       "      <td>Intel Core i5 7200U 2.5GHz</td>\n",
       "      <td>8GB</td>\n",
       "      <td>256GB SSD</td>\n",
       "      <td>Intel HD Graphics 620</td>\n",
       "      <td>No OS</td>\n",
       "      <td>1.86</td>\n",
       "      <td>...</td>\n",
       "      <td>NaN</td>\n",
       "      <td>NaN</td>\n",
       "      <td>NaN</td>\n",
       "      <td>False</td>\n",
       "      <td>False</td>\n",
       "      <td>Intel</td>\n",
       "      <td>Core i5</td>\n",
       "      <td>1920.0</td>\n",
       "      <td>1080.0</td>\n",
       "      <td>141.212002</td>\n",
       "    </tr>\n",
       "  </tbody>\n",
       "</table>\n",
       "<p>3 rows × 26 columns</p>\n",
       "</div>"
      ],
      "text/plain": [
       "  Company   TypeName  Inches                    ScreenResolution  \\\n",
       "0   Apple  Ultrabook    13.3  IPS Panel Retina Display 2560x1600   \n",
       "1   Apple  Ultrabook    13.3                            1440x900   \n",
       "2      HP   Notebook    15.6                   Full HD 1920x1080   \n",
       "\n",
       "                          Cpu  Ram               Memory  \\\n",
       "0        Intel Core i5 2.3GHz  8GB            128GB SSD   \n",
       "1        Intel Core i5 1.8GHz  8GB  128GB Flash Storage   \n",
       "2  Intel Core i5 7200U 2.5GHz  8GB            256GB SSD   \n",
       "\n",
       "                            Gpu  OpSys  Weight  ...  HDD Flash Storage Hybrid  \\\n",
       "0  Intel Iris Plus Graphics 640  macOS    1.37  ...  NaN           NaN    NaN   \n",
       "1        Intel HD Graphics 6000  macOS    1.34  ...  NaN         128.0    NaN   \n",
       "2         Intel HD Graphics 620  No OS    1.86  ...  NaN           NaN    NaN   \n",
       "\n",
       "     IPS Touchscreen  Processor  Processor Power  X Resolution  Y Resolution  \\\n",
       "0   True       False      Intel          Core i5        2560.0        1600.0   \n",
       "1    NaN         NaN      Intel          Core i5        1440.0         900.0   \n",
       "2  False       False      Intel          Core i5        1920.0        1080.0   \n",
       "\n",
       "          PPI  \n",
       "0  226.983009  \n",
       "1  127.677938  \n",
       "2  141.212002  \n",
       "\n",
       "[3 rows x 26 columns]"
      ]
     },
     "execution_count": 185,
     "metadata": {},
     "output_type": "execute_result"
    }
   ],
   "source": [
    "df_filtered.head(3)"
   ]
  },
  {
   "cell_type": "code",
   "execution_count": 186,
   "id": "e3bbe323",
   "metadata": {},
   "outputs": [],
   "source": [
    "df_filtered.drop(columns = ['Inches', 'ScreenResolution'], inplace=True)"
   ]
  },
  {
   "cell_type": "code",
   "execution_count": 187,
   "id": "1ad9c0d2",
   "metadata": {},
   "outputs": [],
   "source": [
    "df_filtered.drop(columns= ['Cpu', 'Memory', 'DisplayType', 'DisplayResolution'], inplace=True)"
   ]
  },
  {
   "cell_type": "code",
   "execution_count": 188,
   "id": "df151ee1",
   "metadata": {},
   "outputs": [
    {
     "data": {
      "text/plain": [
       "Intel      1240\n",
       "AMD          62\n",
       "Samsung       1\n",
       "Name: Processor, dtype: int64"
      ]
     },
     "execution_count": 188,
     "metadata": {},
     "output_type": "execute_result"
    }
   ],
   "source": [
    "df_filtered['Processor'].value_counts()"
   ]
  },
  {
   "cell_type": "code",
   "execution_count": 189,
   "id": "f4adee96",
   "metadata": {},
   "outputs": [],
   "source": [
    "# Samsung is only 1, so we can drop this row..."
   ]
  },
  {
   "cell_type": "code",
   "execution_count": 190,
   "id": "ce4fc355",
   "metadata": {},
   "outputs": [],
   "source": [
    "df_filtered = df_filtered[df_filtered['Processor'] != 'Samsung']"
   ]
  },
  {
   "cell_type": "code",
   "execution_count": 191,
   "id": "615150e9",
   "metadata": {},
   "outputs": [
    {
     "data": {
      "text/html": [
       "<div>\n",
       "<style scoped>\n",
       "    .dataframe tbody tr th:only-of-type {\n",
       "        vertical-align: middle;\n",
       "    }\n",
       "\n",
       "    .dataframe tbody tr th {\n",
       "        vertical-align: top;\n",
       "    }\n",
       "\n",
       "    .dataframe thead th {\n",
       "        text-align: right;\n",
       "    }\n",
       "</style>\n",
       "<table border=\"1\" class=\"dataframe\">\n",
       "  <thead>\n",
       "    <tr style=\"text-align: right;\">\n",
       "      <th></th>\n",
       "      <th>Company</th>\n",
       "      <th>TypeName</th>\n",
       "      <th>Ram</th>\n",
       "      <th>Gpu</th>\n",
       "      <th>OpSys</th>\n",
       "      <th>Weight</th>\n",
       "      <th>Price</th>\n",
       "      <th>Cpu Type</th>\n",
       "      <th>Cpu Power</th>\n",
       "      <th>SSD</th>\n",
       "      <th>HDD</th>\n",
       "      <th>Flash Storage</th>\n",
       "      <th>Hybrid</th>\n",
       "      <th>IPS</th>\n",
       "      <th>Touchscreen</th>\n",
       "      <th>Processor</th>\n",
       "      <th>Processor Power</th>\n",
       "      <th>X Resolution</th>\n",
       "      <th>Y Resolution</th>\n",
       "      <th>PPI</th>\n",
       "    </tr>\n",
       "  </thead>\n",
       "  <tbody>\n",
       "    <tr>\n",
       "      <th>0</th>\n",
       "      <td>Apple</td>\n",
       "      <td>Ultrabook</td>\n",
       "      <td>8GB</td>\n",
       "      <td>Intel Iris Plus Graphics 640</td>\n",
       "      <td>macOS</td>\n",
       "      <td>1.37</td>\n",
       "      <td>71378.6832</td>\n",
       "      <td>Intel Core i5</td>\n",
       "      <td>2.3GHz</td>\n",
       "      <td>128.0</td>\n",
       "      <td>NaN</td>\n",
       "      <td>NaN</td>\n",
       "      <td>NaN</td>\n",
       "      <td>True</td>\n",
       "      <td>False</td>\n",
       "      <td>Intel</td>\n",
       "      <td>Core i5</td>\n",
       "      <td>2560.0</td>\n",
       "      <td>1600.0</td>\n",
       "      <td>226.983009</td>\n",
       "    </tr>\n",
       "    <tr>\n",
       "      <th>1</th>\n",
       "      <td>Apple</td>\n",
       "      <td>Ultrabook</td>\n",
       "      <td>8GB</td>\n",
       "      <td>Intel HD Graphics 6000</td>\n",
       "      <td>macOS</td>\n",
       "      <td>1.34</td>\n",
       "      <td>47895.5232</td>\n",
       "      <td>Intel Core i5</td>\n",
       "      <td>1.8GHz</td>\n",
       "      <td>NaN</td>\n",
       "      <td>NaN</td>\n",
       "      <td>128.0</td>\n",
       "      <td>NaN</td>\n",
       "      <td>NaN</td>\n",
       "      <td>NaN</td>\n",
       "      <td>Intel</td>\n",
       "      <td>Core i5</td>\n",
       "      <td>1440.0</td>\n",
       "      <td>900.0</td>\n",
       "      <td>127.677938</td>\n",
       "    </tr>\n",
       "    <tr>\n",
       "      <th>2</th>\n",
       "      <td>HP</td>\n",
       "      <td>Notebook</td>\n",
       "      <td>8GB</td>\n",
       "      <td>Intel HD Graphics 620</td>\n",
       "      <td>No OS</td>\n",
       "      <td>1.86</td>\n",
       "      <td>30636.0000</td>\n",
       "      <td>Intel Core i5</td>\n",
       "      <td>2.5GHz</td>\n",
       "      <td>256.0</td>\n",
       "      <td>NaN</td>\n",
       "      <td>NaN</td>\n",
       "      <td>NaN</td>\n",
       "      <td>False</td>\n",
       "      <td>False</td>\n",
       "      <td>Intel</td>\n",
       "      <td>Core i5</td>\n",
       "      <td>1920.0</td>\n",
       "      <td>1080.0</td>\n",
       "      <td>141.212002</td>\n",
       "    </tr>\n",
       "    <tr>\n",
       "      <th>3</th>\n",
       "      <td>Apple</td>\n",
       "      <td>Ultrabook</td>\n",
       "      <td>16GB</td>\n",
       "      <td>AMD Radeon Pro 455</td>\n",
       "      <td>macOS</td>\n",
       "      <td>1.83</td>\n",
       "      <td>135195.3360</td>\n",
       "      <td>Intel Core i7</td>\n",
       "      <td>2.7GHz</td>\n",
       "      <td>512.0</td>\n",
       "      <td>NaN</td>\n",
       "      <td>NaN</td>\n",
       "      <td>NaN</td>\n",
       "      <td>True</td>\n",
       "      <td>False</td>\n",
       "      <td>Intel</td>\n",
       "      <td>Core i7</td>\n",
       "      <td>2880.0</td>\n",
       "      <td>1800.0</td>\n",
       "      <td>220.534620</td>\n",
       "    </tr>\n",
       "    <tr>\n",
       "      <th>4</th>\n",
       "      <td>Apple</td>\n",
       "      <td>Ultrabook</td>\n",
       "      <td>8GB</td>\n",
       "      <td>Intel Iris Plus Graphics 650</td>\n",
       "      <td>macOS</td>\n",
       "      <td>1.37</td>\n",
       "      <td>96095.8080</td>\n",
       "      <td>Intel Core i5</td>\n",
       "      <td>3.1GHz</td>\n",
       "      <td>256.0</td>\n",
       "      <td>NaN</td>\n",
       "      <td>NaN</td>\n",
       "      <td>NaN</td>\n",
       "      <td>True</td>\n",
       "      <td>False</td>\n",
       "      <td>Intel</td>\n",
       "      <td>Core i5</td>\n",
       "      <td>2560.0</td>\n",
       "      <td>1600.0</td>\n",
       "      <td>226.983009</td>\n",
       "    </tr>\n",
       "  </tbody>\n",
       "</table>\n",
       "</div>"
      ],
      "text/plain": [
       "  Company   TypeName   Ram                           Gpu  OpSys  Weight  \\\n",
       "0   Apple  Ultrabook   8GB  Intel Iris Plus Graphics 640  macOS    1.37   \n",
       "1   Apple  Ultrabook   8GB        Intel HD Graphics 6000  macOS    1.34   \n",
       "2      HP   Notebook   8GB         Intel HD Graphics 620  No OS    1.86   \n",
       "3   Apple  Ultrabook  16GB            AMD Radeon Pro 455  macOS    1.83   \n",
       "4   Apple  Ultrabook   8GB  Intel Iris Plus Graphics 650  macOS    1.37   \n",
       "\n",
       "         Price       Cpu Type Cpu Power    SSD  HDD  Flash Storage  Hybrid  \\\n",
       "0   71378.6832  Intel Core i5    2.3GHz  128.0  NaN            NaN     NaN   \n",
       "1   47895.5232  Intel Core i5    1.8GHz    NaN  NaN          128.0     NaN   \n",
       "2   30636.0000  Intel Core i5    2.5GHz  256.0  NaN            NaN     NaN   \n",
       "3  135195.3360  Intel Core i7    2.7GHz  512.0  NaN            NaN     NaN   \n",
       "4   96095.8080  Intel Core i5    3.1GHz  256.0  NaN            NaN     NaN   \n",
       "\n",
       "     IPS Touchscreen Processor Processor Power  X Resolution  Y Resolution  \\\n",
       "0   True       False     Intel         Core i5        2560.0        1600.0   \n",
       "1    NaN         NaN     Intel         Core i5        1440.0         900.0   \n",
       "2  False       False     Intel         Core i5        1920.0        1080.0   \n",
       "3   True       False     Intel         Core i7        2880.0        1800.0   \n",
       "4   True       False     Intel         Core i5        2560.0        1600.0   \n",
       "\n",
       "          PPI  \n",
       "0  226.983009  \n",
       "1  127.677938  \n",
       "2  141.212002  \n",
       "3  220.534620  \n",
       "4  226.983009  "
      ]
     },
     "execution_count": 191,
     "metadata": {},
     "output_type": "execute_result"
    }
   ],
   "source": [
    "df_filtered.head()"
   ]
  },
  {
   "cell_type": "code",
   "execution_count": 192,
   "id": "f80a67ee",
   "metadata": {},
   "outputs": [
    {
     "data": {
      "text/plain": [
       "Int64Index([   0,    1,    2,    3,    4,    5,    6,    7,    8,    9,\n",
       "            ...\n",
       "            1293, 1294, 1295, 1296, 1297, 1298, 1299, 1300, 1301, 1302],\n",
       "           dtype='int64', length=1302)"
      ]
     },
     "execution_count": 192,
     "metadata": {},
     "output_type": "execute_result"
    }
   ],
   "source": [
    "df_filtered.index"
   ]
  },
  {
   "cell_type": "code",
   "execution_count": 193,
   "id": "c800dbd2",
   "metadata": {},
   "outputs": [],
   "source": [
    "df_filtered.drop(columns=['X Resolution', 'Y Resolution'], inplace=True)"
   ]
  },
  {
   "cell_type": "code",
   "execution_count": 194,
   "id": "6b1e072f",
   "metadata": {},
   "outputs": [
    {
     "data": {
      "text/html": [
       "<div>\n",
       "<style scoped>\n",
       "    .dataframe tbody tr th:only-of-type {\n",
       "        vertical-align: middle;\n",
       "    }\n",
       "\n",
       "    .dataframe tbody tr th {\n",
       "        vertical-align: top;\n",
       "    }\n",
       "\n",
       "    .dataframe thead th {\n",
       "        text-align: right;\n",
       "    }\n",
       "</style>\n",
       "<table border=\"1\" class=\"dataframe\">\n",
       "  <thead>\n",
       "    <tr style=\"text-align: right;\">\n",
       "      <th></th>\n",
       "      <th>Company</th>\n",
       "      <th>TypeName</th>\n",
       "      <th>Ram</th>\n",
       "      <th>Gpu</th>\n",
       "      <th>OpSys</th>\n",
       "      <th>Weight</th>\n",
       "      <th>Price</th>\n",
       "      <th>Cpu Type</th>\n",
       "      <th>Cpu Power</th>\n",
       "      <th>SSD</th>\n",
       "      <th>HDD</th>\n",
       "      <th>Flash Storage</th>\n",
       "      <th>Hybrid</th>\n",
       "      <th>IPS</th>\n",
       "      <th>Touchscreen</th>\n",
       "      <th>Processor</th>\n",
       "      <th>Processor Power</th>\n",
       "      <th>PPI</th>\n",
       "    </tr>\n",
       "  </thead>\n",
       "  <tbody>\n",
       "    <tr>\n",
       "      <th>0</th>\n",
       "      <td>Apple</td>\n",
       "      <td>Ultrabook</td>\n",
       "      <td>8GB</td>\n",
       "      <td>Intel Iris Plus Graphics 640</td>\n",
       "      <td>macOS</td>\n",
       "      <td>1.37</td>\n",
       "      <td>71378.6832</td>\n",
       "      <td>Intel Core i5</td>\n",
       "      <td>2.3GHz</td>\n",
       "      <td>128.0</td>\n",
       "      <td>NaN</td>\n",
       "      <td>NaN</td>\n",
       "      <td>NaN</td>\n",
       "      <td>True</td>\n",
       "      <td>False</td>\n",
       "      <td>Intel</td>\n",
       "      <td>Core i5</td>\n",
       "      <td>226.983009</td>\n",
       "    </tr>\n",
       "    <tr>\n",
       "      <th>1</th>\n",
       "      <td>Apple</td>\n",
       "      <td>Ultrabook</td>\n",
       "      <td>8GB</td>\n",
       "      <td>Intel HD Graphics 6000</td>\n",
       "      <td>macOS</td>\n",
       "      <td>1.34</td>\n",
       "      <td>47895.5232</td>\n",
       "      <td>Intel Core i5</td>\n",
       "      <td>1.8GHz</td>\n",
       "      <td>NaN</td>\n",
       "      <td>NaN</td>\n",
       "      <td>128.0</td>\n",
       "      <td>NaN</td>\n",
       "      <td>NaN</td>\n",
       "      <td>NaN</td>\n",
       "      <td>Intel</td>\n",
       "      <td>Core i5</td>\n",
       "      <td>127.677938</td>\n",
       "    </tr>\n",
       "    <tr>\n",
       "      <th>2</th>\n",
       "      <td>HP</td>\n",
       "      <td>Notebook</td>\n",
       "      <td>8GB</td>\n",
       "      <td>Intel HD Graphics 620</td>\n",
       "      <td>No OS</td>\n",
       "      <td>1.86</td>\n",
       "      <td>30636.0000</td>\n",
       "      <td>Intel Core i5</td>\n",
       "      <td>2.5GHz</td>\n",
       "      <td>256.0</td>\n",
       "      <td>NaN</td>\n",
       "      <td>NaN</td>\n",
       "      <td>NaN</td>\n",
       "      <td>False</td>\n",
       "      <td>False</td>\n",
       "      <td>Intel</td>\n",
       "      <td>Core i5</td>\n",
       "      <td>141.212002</td>\n",
       "    </tr>\n",
       "    <tr>\n",
       "      <th>3</th>\n",
       "      <td>Apple</td>\n",
       "      <td>Ultrabook</td>\n",
       "      <td>16GB</td>\n",
       "      <td>AMD Radeon Pro 455</td>\n",
       "      <td>macOS</td>\n",
       "      <td>1.83</td>\n",
       "      <td>135195.3360</td>\n",
       "      <td>Intel Core i7</td>\n",
       "      <td>2.7GHz</td>\n",
       "      <td>512.0</td>\n",
       "      <td>NaN</td>\n",
       "      <td>NaN</td>\n",
       "      <td>NaN</td>\n",
       "      <td>True</td>\n",
       "      <td>False</td>\n",
       "      <td>Intel</td>\n",
       "      <td>Core i7</td>\n",
       "      <td>220.534620</td>\n",
       "    </tr>\n",
       "    <tr>\n",
       "      <th>4</th>\n",
       "      <td>Apple</td>\n",
       "      <td>Ultrabook</td>\n",
       "      <td>8GB</td>\n",
       "      <td>Intel Iris Plus Graphics 650</td>\n",
       "      <td>macOS</td>\n",
       "      <td>1.37</td>\n",
       "      <td>96095.8080</td>\n",
       "      <td>Intel Core i5</td>\n",
       "      <td>3.1GHz</td>\n",
       "      <td>256.0</td>\n",
       "      <td>NaN</td>\n",
       "      <td>NaN</td>\n",
       "      <td>NaN</td>\n",
       "      <td>True</td>\n",
       "      <td>False</td>\n",
       "      <td>Intel</td>\n",
       "      <td>Core i5</td>\n",
       "      <td>226.983009</td>\n",
       "    </tr>\n",
       "  </tbody>\n",
       "</table>\n",
       "</div>"
      ],
      "text/plain": [
       "  Company   TypeName   Ram                           Gpu  OpSys  Weight  \\\n",
       "0   Apple  Ultrabook   8GB  Intel Iris Plus Graphics 640  macOS    1.37   \n",
       "1   Apple  Ultrabook   8GB        Intel HD Graphics 6000  macOS    1.34   \n",
       "2      HP   Notebook   8GB         Intel HD Graphics 620  No OS    1.86   \n",
       "3   Apple  Ultrabook  16GB            AMD Radeon Pro 455  macOS    1.83   \n",
       "4   Apple  Ultrabook   8GB  Intel Iris Plus Graphics 650  macOS    1.37   \n",
       "\n",
       "         Price       Cpu Type Cpu Power    SSD  HDD  Flash Storage  Hybrid  \\\n",
       "0   71378.6832  Intel Core i5    2.3GHz  128.0  NaN            NaN     NaN   \n",
       "1   47895.5232  Intel Core i5    1.8GHz    NaN  NaN          128.0     NaN   \n",
       "2   30636.0000  Intel Core i5    2.5GHz  256.0  NaN            NaN     NaN   \n",
       "3  135195.3360  Intel Core i7    2.7GHz  512.0  NaN            NaN     NaN   \n",
       "4   96095.8080  Intel Core i5    3.1GHz  256.0  NaN            NaN     NaN   \n",
       "\n",
       "     IPS Touchscreen Processor Processor Power         PPI  \n",
       "0   True       False     Intel         Core i5  226.983009  \n",
       "1    NaN         NaN     Intel         Core i5  127.677938  \n",
       "2  False       False     Intel         Core i5  141.212002  \n",
       "3   True       False     Intel         Core i7  220.534620  \n",
       "4   True       False     Intel         Core i5  226.983009  "
      ]
     },
     "execution_count": 194,
     "metadata": {},
     "output_type": "execute_result"
    }
   ],
   "source": [
    "df_filtered.head()"
   ]
  },
  {
   "cell_type": "code",
   "execution_count": 195,
   "id": "2d82cd7a",
   "metadata": {
    "scrolled": true
   },
   "outputs": [
    {
     "data": {
      "text/plain": [
       "Intel Core i7               527\n",
       "Intel Core i5               423\n",
       "Intel Core i3               136\n",
       "Intel Celeron Dual Core      80\n",
       "Intel Pentium Quad Core      27\n",
       "Intel Core M                 18\n",
       "AMD A9-Series                17\n",
       "Intel Atom                   13\n",
       "AMD A6-Series                11\n",
       "AMD E-Series                  9\n",
       "Intel Celeron Quad Core       8\n",
       "AMD A12-Series                8\n",
       "AMD A8-Series                 4\n",
       "AMD Ryzen                     4\n",
       "AMD A10-Series                4\n",
       "Intel Pentium Dual Core       3\n",
       "AMD FX                        2\n",
       "AMD A10-Series A10-9620P      2\n",
       "Intel Xeon E3-1505M V6        2\n",
       "Intel Xeon E3-1535M v6        1\n",
       "Intel Xeon E3-1535M v5        1\n",
       "Intel Core M m3               1\n",
       "AMD A4-Series                 1\n",
       "Name: Cpu Type, dtype: int64"
      ]
     },
     "execution_count": 195,
     "metadata": {},
     "output_type": "execute_result"
    }
   ],
   "source": [
    "df_filtered['Cpu Type'].value_counts()"
   ]
  },
  {
   "cell_type": "code",
   "execution_count": 196,
   "id": "31806da8",
   "metadata": {},
   "outputs": [],
   "source": [
    "def fetch_processor_name(val):\n",
    "    if val == 'Intel Core i7' or val == 'Intel Core i5' or val == 'Intel Core i3':\n",
    "        return val\n",
    "    else:\n",
    "        company_val = val.split()[0]\n",
    "        if company_val == 'Intel':\n",
    "            return 'Other Intel'\n",
    "        elif company_val == 'AMD':\n",
    "            return 'AMD'\n",
    "        else:\n",
    "            return 'Other'"
   ]
  },
  {
   "cell_type": "code",
   "execution_count": 197,
   "id": "4072ca5c",
   "metadata": {},
   "outputs": [],
   "source": [
    "df_filtered['Cpu Type'] = df_filtered['Cpu Type'].apply(fetch_processor_name)"
   ]
  },
  {
   "cell_type": "code",
   "execution_count": 198,
   "id": "6a8498f0",
   "metadata": {},
   "outputs": [
    {
     "data": {
      "text/html": [
       "<div>\n",
       "<style scoped>\n",
       "    .dataframe tbody tr th:only-of-type {\n",
       "        vertical-align: middle;\n",
       "    }\n",
       "\n",
       "    .dataframe tbody tr th {\n",
       "        vertical-align: top;\n",
       "    }\n",
       "\n",
       "    .dataframe thead th {\n",
       "        text-align: right;\n",
       "    }\n",
       "</style>\n",
       "<table border=\"1\" class=\"dataframe\">\n",
       "  <thead>\n",
       "    <tr style=\"text-align: right;\">\n",
       "      <th></th>\n",
       "      <th>Company</th>\n",
       "      <th>TypeName</th>\n",
       "      <th>Ram</th>\n",
       "      <th>Gpu</th>\n",
       "      <th>OpSys</th>\n",
       "      <th>Weight</th>\n",
       "      <th>Price</th>\n",
       "      <th>Cpu Type</th>\n",
       "      <th>Cpu Power</th>\n",
       "      <th>SSD</th>\n",
       "      <th>HDD</th>\n",
       "      <th>Flash Storage</th>\n",
       "      <th>Hybrid</th>\n",
       "      <th>IPS</th>\n",
       "      <th>Touchscreen</th>\n",
       "      <th>Processor</th>\n",
       "      <th>Processor Power</th>\n",
       "      <th>PPI</th>\n",
       "    </tr>\n",
       "  </thead>\n",
       "  <tbody>\n",
       "    <tr>\n",
       "      <th>0</th>\n",
       "      <td>Apple</td>\n",
       "      <td>Ultrabook</td>\n",
       "      <td>8GB</td>\n",
       "      <td>Intel Iris Plus Graphics 640</td>\n",
       "      <td>macOS</td>\n",
       "      <td>1.37</td>\n",
       "      <td>71378.6832</td>\n",
       "      <td>Intel Core i5</td>\n",
       "      <td>2.3GHz</td>\n",
       "      <td>128.0</td>\n",
       "      <td>NaN</td>\n",
       "      <td>NaN</td>\n",
       "      <td>NaN</td>\n",
       "      <td>True</td>\n",
       "      <td>False</td>\n",
       "      <td>Intel</td>\n",
       "      <td>Core i5</td>\n",
       "      <td>226.983009</td>\n",
       "    </tr>\n",
       "    <tr>\n",
       "      <th>1</th>\n",
       "      <td>Apple</td>\n",
       "      <td>Ultrabook</td>\n",
       "      <td>8GB</td>\n",
       "      <td>Intel HD Graphics 6000</td>\n",
       "      <td>macOS</td>\n",
       "      <td>1.34</td>\n",
       "      <td>47895.5232</td>\n",
       "      <td>Intel Core i5</td>\n",
       "      <td>1.8GHz</td>\n",
       "      <td>NaN</td>\n",
       "      <td>NaN</td>\n",
       "      <td>128.0</td>\n",
       "      <td>NaN</td>\n",
       "      <td>NaN</td>\n",
       "      <td>NaN</td>\n",
       "      <td>Intel</td>\n",
       "      <td>Core i5</td>\n",
       "      <td>127.677938</td>\n",
       "    </tr>\n",
       "    <tr>\n",
       "      <th>2</th>\n",
       "      <td>HP</td>\n",
       "      <td>Notebook</td>\n",
       "      <td>8GB</td>\n",
       "      <td>Intel HD Graphics 620</td>\n",
       "      <td>No OS</td>\n",
       "      <td>1.86</td>\n",
       "      <td>30636.0000</td>\n",
       "      <td>Intel Core i5</td>\n",
       "      <td>2.5GHz</td>\n",
       "      <td>256.0</td>\n",
       "      <td>NaN</td>\n",
       "      <td>NaN</td>\n",
       "      <td>NaN</td>\n",
       "      <td>False</td>\n",
       "      <td>False</td>\n",
       "      <td>Intel</td>\n",
       "      <td>Core i5</td>\n",
       "      <td>141.212002</td>\n",
       "    </tr>\n",
       "    <tr>\n",
       "      <th>3</th>\n",
       "      <td>Apple</td>\n",
       "      <td>Ultrabook</td>\n",
       "      <td>16GB</td>\n",
       "      <td>AMD Radeon Pro 455</td>\n",
       "      <td>macOS</td>\n",
       "      <td>1.83</td>\n",
       "      <td>135195.3360</td>\n",
       "      <td>Intel Core i7</td>\n",
       "      <td>2.7GHz</td>\n",
       "      <td>512.0</td>\n",
       "      <td>NaN</td>\n",
       "      <td>NaN</td>\n",
       "      <td>NaN</td>\n",
       "      <td>True</td>\n",
       "      <td>False</td>\n",
       "      <td>Intel</td>\n",
       "      <td>Core i7</td>\n",
       "      <td>220.534620</td>\n",
       "    </tr>\n",
       "    <tr>\n",
       "      <th>4</th>\n",
       "      <td>Apple</td>\n",
       "      <td>Ultrabook</td>\n",
       "      <td>8GB</td>\n",
       "      <td>Intel Iris Plus Graphics 650</td>\n",
       "      <td>macOS</td>\n",
       "      <td>1.37</td>\n",
       "      <td>96095.8080</td>\n",
       "      <td>Intel Core i5</td>\n",
       "      <td>3.1GHz</td>\n",
       "      <td>256.0</td>\n",
       "      <td>NaN</td>\n",
       "      <td>NaN</td>\n",
       "      <td>NaN</td>\n",
       "      <td>True</td>\n",
       "      <td>False</td>\n",
       "      <td>Intel</td>\n",
       "      <td>Core i5</td>\n",
       "      <td>226.983009</td>\n",
       "    </tr>\n",
       "  </tbody>\n",
       "</table>\n",
       "</div>"
      ],
      "text/plain": [
       "  Company   TypeName   Ram                           Gpu  OpSys  Weight  \\\n",
       "0   Apple  Ultrabook   8GB  Intel Iris Plus Graphics 640  macOS    1.37   \n",
       "1   Apple  Ultrabook   8GB        Intel HD Graphics 6000  macOS    1.34   \n",
       "2      HP   Notebook   8GB         Intel HD Graphics 620  No OS    1.86   \n",
       "3   Apple  Ultrabook  16GB            AMD Radeon Pro 455  macOS    1.83   \n",
       "4   Apple  Ultrabook   8GB  Intel Iris Plus Graphics 650  macOS    1.37   \n",
       "\n",
       "         Price       Cpu Type Cpu Power    SSD  HDD  Flash Storage  Hybrid  \\\n",
       "0   71378.6832  Intel Core i5    2.3GHz  128.0  NaN            NaN     NaN   \n",
       "1   47895.5232  Intel Core i5    1.8GHz    NaN  NaN          128.0     NaN   \n",
       "2   30636.0000  Intel Core i5    2.5GHz  256.0  NaN            NaN     NaN   \n",
       "3  135195.3360  Intel Core i7    2.7GHz  512.0  NaN            NaN     NaN   \n",
       "4   96095.8080  Intel Core i5    3.1GHz  256.0  NaN            NaN     NaN   \n",
       "\n",
       "     IPS Touchscreen Processor Processor Power         PPI  \n",
       "0   True       False     Intel         Core i5  226.983009  \n",
       "1    NaN         NaN     Intel         Core i5  127.677938  \n",
       "2  False       False     Intel         Core i5  141.212002  \n",
       "3   True       False     Intel         Core i7  220.534620  \n",
       "4   True       False     Intel         Core i5  226.983009  "
      ]
     },
     "execution_count": 198,
     "metadata": {},
     "output_type": "execute_result"
    }
   ],
   "source": [
    "df_filtered.head()"
   ]
  },
  {
   "cell_type": "code",
   "execution_count": 201,
   "id": "28f3446e",
   "metadata": {},
   "outputs": [
    {
     "data": {
      "text/html": [
       "<div>\n",
       "<style scoped>\n",
       "    .dataframe tbody tr th:only-of-type {\n",
       "        vertical-align: middle;\n",
       "    }\n",
       "\n",
       "    .dataframe tbody tr th {\n",
       "        vertical-align: top;\n",
       "    }\n",
       "\n",
       "    .dataframe thead th {\n",
       "        text-align: right;\n",
       "    }\n",
       "</style>\n",
       "<table border=\"1\" class=\"dataframe\">\n",
       "  <thead>\n",
       "    <tr style=\"text-align: right;\">\n",
       "      <th></th>\n",
       "      <th>Weight</th>\n",
       "      <th>Price</th>\n",
       "      <th>SSD</th>\n",
       "      <th>HDD</th>\n",
       "      <th>Flash Storage</th>\n",
       "      <th>Hybrid</th>\n",
       "      <th>PPI</th>\n",
       "    </tr>\n",
       "  </thead>\n",
       "  <tbody>\n",
       "    <tr>\n",
       "      <th>Weight</th>\n",
       "      <td>1.000000</td>\n",
       "      <td>0.209867</td>\n",
       "      <td>-0.057249</td>\n",
       "      <td>0.168892</td>\n",
       "      <td>-0.261365</td>\n",
       "      <td>0.319176</td>\n",
       "      <td>-0.321883</td>\n",
       "    </tr>\n",
       "    <tr>\n",
       "      <th>Price</th>\n",
       "      <td>0.209867</td>\n",
       "      <td>1.000000</td>\n",
       "      <td>0.546269</td>\n",
       "      <td>0.215827</td>\n",
       "      <td>0.708438</td>\n",
       "      <td>0.062157</td>\n",
       "      <td>0.475368</td>\n",
       "    </tr>\n",
       "    <tr>\n",
       "      <th>SSD</th>\n",
       "      <td>-0.057249</td>\n",
       "      <td>0.546269</td>\n",
       "      <td>1.000000</td>\n",
       "      <td>0.133503</td>\n",
       "      <td>NaN</td>\n",
       "      <td>NaN</td>\n",
       "      <td>0.409951</td>\n",
       "    </tr>\n",
       "    <tr>\n",
       "      <th>HDD</th>\n",
       "      <td>0.168892</td>\n",
       "      <td>0.215827</td>\n",
       "      <td>0.133503</td>\n",
       "      <td>1.000000</td>\n",
       "      <td>NaN</td>\n",
       "      <td>NaN</td>\n",
       "      <td>0.239505</td>\n",
       "    </tr>\n",
       "    <tr>\n",
       "      <th>Flash Storage</th>\n",
       "      <td>-0.261365</td>\n",
       "      <td>0.708438</td>\n",
       "      <td>NaN</td>\n",
       "      <td>NaN</td>\n",
       "      <td>1.000000</td>\n",
       "      <td>NaN</td>\n",
       "      <td>0.405400</td>\n",
       "    </tr>\n",
       "    <tr>\n",
       "      <th>Hybrid</th>\n",
       "      <td>0.319176</td>\n",
       "      <td>0.062157</td>\n",
       "      <td>NaN</td>\n",
       "      <td>NaN</td>\n",
       "      <td>NaN</td>\n",
       "      <td>1.000000</td>\n",
       "      <td>0.821932</td>\n",
       "    </tr>\n",
       "    <tr>\n",
       "      <th>PPI</th>\n",
       "      <td>-0.321883</td>\n",
       "      <td>0.475368</td>\n",
       "      <td>0.409951</td>\n",
       "      <td>0.239505</td>\n",
       "      <td>0.405400</td>\n",
       "      <td>0.821932</td>\n",
       "      <td>1.000000</td>\n",
       "    </tr>\n",
       "  </tbody>\n",
       "</table>\n",
       "</div>"
      ],
      "text/plain": [
       "                 Weight     Price       SSD       HDD  Flash Storage  \\\n",
       "Weight         1.000000  0.209867 -0.057249  0.168892      -0.261365   \n",
       "Price          0.209867  1.000000  0.546269  0.215827       0.708438   \n",
       "SSD           -0.057249  0.546269  1.000000  0.133503            NaN   \n",
       "HDD            0.168892  0.215827  0.133503  1.000000            NaN   \n",
       "Flash Storage -0.261365  0.708438       NaN       NaN       1.000000   \n",
       "Hybrid         0.319176  0.062157       NaN       NaN            NaN   \n",
       "PPI           -0.321883  0.475368  0.409951  0.239505       0.405400   \n",
       "\n",
       "                 Hybrid       PPI  \n",
       "Weight         0.319176 -0.321883  \n",
       "Price          0.062157  0.475368  \n",
       "SSD                 NaN  0.409951  \n",
       "HDD                 NaN  0.239505  \n",
       "Flash Storage       NaN  0.405400  \n",
       "Hybrid         1.000000  0.821932  \n",
       "PPI            0.821932  1.000000  "
      ]
     },
     "execution_count": 201,
     "metadata": {},
     "output_type": "execute_result"
    }
   ],
   "source": [
    "df_filtered.corr()"
   ]
  },
  {
   "cell_type": "code",
   "execution_count": 202,
   "id": "910f11ba",
   "metadata": {},
   "outputs": [],
   "source": [
    "from sklearn.preprocessing import OneHotEncoder"
   ]
  },
  {
   "cell_type": "code",
   "execution_count": 233,
   "id": "4ef7f7f7",
   "metadata": {},
   "outputs": [
    {
     "data": {
      "text/plain": [
       "array([['Apple'],\n",
       "       ['HP'],\n",
       "       ['Acer'],\n",
       "       ['Asus'],\n",
       "       ['Dell'],\n",
       "       ['Lenovo'],\n",
       "       ['Chuwi'],\n",
       "       ['MSI'],\n",
       "       ['Microsoft'],\n",
       "       ['Toshiba'],\n",
       "       ['Huawei'],\n",
       "       ['Xiaomi'],\n",
       "       ['Vero'],\n",
       "       ['Razer'],\n",
       "       ['Mediacom'],\n",
       "       ['Samsung'],\n",
       "       ['Google'],\n",
       "       ['Fujitsu'],\n",
       "       ['LG']], dtype=object)"
      ]
     },
     "execution_count": 233,
     "metadata": {},
     "output_type": "execute_result"
    }
   ],
   "source": [
    "df_filtered['Company'].unique().reshape(-1,1)"
   ]
  },
  {
   "cell_type": "code",
   "execution_count": 272,
   "id": "fb11775a",
   "metadata": {},
   "outputs": [],
   "source": [
    "encode_company = OneHotEncoder(sparse=False, categories=[df_filtered['Company'].unique().tolist()])"
   ]
  },
  {
   "cell_type": "code",
   "execution_count": 274,
   "id": "d2096926",
   "metadata": {},
   "outputs": [
    {
     "data": {
      "text/plain": [
       "[['Apple',\n",
       "  'HP',\n",
       "  'Acer',\n",
       "  'Asus',\n",
       "  'Dell',\n",
       "  'Lenovo',\n",
       "  'Chuwi',\n",
       "  'MSI',\n",
       "  'Microsoft',\n",
       "  'Toshiba',\n",
       "  'Huawei',\n",
       "  'Xiaomi',\n",
       "  'Vero',\n",
       "  'Razer',\n",
       "  'Mediacom',\n",
       "  'Samsung',\n",
       "  'Google',\n",
       "  'Fujitsu',\n",
       "  'LG']]"
      ]
     },
     "execution_count": 274,
     "metadata": {},
     "output_type": "execute_result"
    }
   ],
   "source": [
    "# encode_company.categories"
   ]
  },
  {
   "cell_type": "code",
   "execution_count": 275,
   "id": "927d9971",
   "metadata": {},
   "outputs": [],
   "source": [
    "df_company = pd.DataFrame(data=encode_company.fit_transform(df_filtered[['Company']]), index=df_filtered.index,\n",
    "                         columns=df_filtered['Company'].unique().tolist())"
   ]
  },
  {
   "cell_type": "code",
   "execution_count": 292,
   "id": "68aa9447",
   "metadata": {},
   "outputs": [],
   "source": [
    "# df_filtered.join(df_company)"
   ]
  },
  {
   "cell_type": "code",
   "execution_count": 279,
   "id": "9c15a602",
   "metadata": {},
   "outputs": [
    {
     "data": {
      "text/html": [
       "<div>\n",
       "<style scoped>\n",
       "    .dataframe tbody tr th:only-of-type {\n",
       "        vertical-align: middle;\n",
       "    }\n",
       "\n",
       "    .dataframe tbody tr th {\n",
       "        vertical-align: top;\n",
       "    }\n",
       "\n",
       "    .dataframe thead th {\n",
       "        text-align: right;\n",
       "    }\n",
       "</style>\n",
       "<table border=\"1\" class=\"dataframe\">\n",
       "  <thead>\n",
       "    <tr style=\"text-align: right;\">\n",
       "      <th></th>\n",
       "      <th>Apple</th>\n",
       "      <th>HP</th>\n",
       "      <th>Acer</th>\n",
       "      <th>Asus</th>\n",
       "      <th>Dell</th>\n",
       "      <th>Lenovo</th>\n",
       "      <th>Chuwi</th>\n",
       "      <th>MSI</th>\n",
       "      <th>Microsoft</th>\n",
       "      <th>Toshiba</th>\n",
       "      <th>Huawei</th>\n",
       "      <th>Xiaomi</th>\n",
       "      <th>Vero</th>\n",
       "      <th>Razer</th>\n",
       "      <th>Mediacom</th>\n",
       "      <th>Samsung</th>\n",
       "      <th>Google</th>\n",
       "      <th>Fujitsu</th>\n",
       "      <th>LG</th>\n",
       "    </tr>\n",
       "  </thead>\n",
       "  <tbody>\n",
       "    <tr>\n",
       "      <th>1300</th>\n",
       "      <td>0.0</td>\n",
       "      <td>0.0</td>\n",
       "      <td>0.0</td>\n",
       "      <td>0.0</td>\n",
       "      <td>0.0</td>\n",
       "      <td>1.0</td>\n",
       "      <td>0.0</td>\n",
       "      <td>0.0</td>\n",
       "      <td>0.0</td>\n",
       "      <td>0.0</td>\n",
       "      <td>0.0</td>\n",
       "      <td>0.0</td>\n",
       "      <td>0.0</td>\n",
       "      <td>0.0</td>\n",
       "      <td>0.0</td>\n",
       "      <td>0.0</td>\n",
       "      <td>0.0</td>\n",
       "      <td>0.0</td>\n",
       "      <td>0.0</td>\n",
       "    </tr>\n",
       "    <tr>\n",
       "      <th>1301</th>\n",
       "      <td>0.0</td>\n",
       "      <td>1.0</td>\n",
       "      <td>0.0</td>\n",
       "      <td>0.0</td>\n",
       "      <td>0.0</td>\n",
       "      <td>0.0</td>\n",
       "      <td>0.0</td>\n",
       "      <td>0.0</td>\n",
       "      <td>0.0</td>\n",
       "      <td>0.0</td>\n",
       "      <td>0.0</td>\n",
       "      <td>0.0</td>\n",
       "      <td>0.0</td>\n",
       "      <td>0.0</td>\n",
       "      <td>0.0</td>\n",
       "      <td>0.0</td>\n",
       "      <td>0.0</td>\n",
       "      <td>0.0</td>\n",
       "      <td>0.0</td>\n",
       "    </tr>\n",
       "    <tr>\n",
       "      <th>1302</th>\n",
       "      <td>0.0</td>\n",
       "      <td>0.0</td>\n",
       "      <td>0.0</td>\n",
       "      <td>1.0</td>\n",
       "      <td>0.0</td>\n",
       "      <td>0.0</td>\n",
       "      <td>0.0</td>\n",
       "      <td>0.0</td>\n",
       "      <td>0.0</td>\n",
       "      <td>0.0</td>\n",
       "      <td>0.0</td>\n",
       "      <td>0.0</td>\n",
       "      <td>0.0</td>\n",
       "      <td>0.0</td>\n",
       "      <td>0.0</td>\n",
       "      <td>0.0</td>\n",
       "      <td>0.0</td>\n",
       "      <td>0.0</td>\n",
       "      <td>0.0</td>\n",
       "    </tr>\n",
       "  </tbody>\n",
       "</table>\n",
       "</div>"
      ],
      "text/plain": [
       "      Apple   HP  Acer  Asus  Dell  Lenovo  Chuwi  MSI  Microsoft  Toshiba  \\\n",
       "1300    0.0  0.0   0.0   0.0   0.0     1.0    0.0  0.0        0.0      0.0   \n",
       "1301    0.0  1.0   0.0   0.0   0.0     0.0    0.0  0.0        0.0      0.0   \n",
       "1302    0.0  0.0   0.0   1.0   0.0     0.0    0.0  0.0        0.0      0.0   \n",
       "\n",
       "      Huawei  Xiaomi  Vero  Razer  Mediacom  Samsung  Google  Fujitsu   LG  \n",
       "1300     0.0     0.0   0.0    0.0       0.0      0.0     0.0      0.0  0.0  \n",
       "1301     0.0     0.0   0.0    0.0       0.0      0.0     0.0      0.0  0.0  \n",
       "1302     0.0     0.0   0.0    0.0       0.0      0.0     0.0      0.0  0.0  "
      ]
     },
     "execution_count": 279,
     "metadata": {},
     "output_type": "execute_result"
    }
   ],
   "source": [
    "#df_company.tail(3)"
   ]
  },
  {
   "cell_type": "code",
   "execution_count": 280,
   "id": "f272b680",
   "metadata": {},
   "outputs": [
    {
     "data": {
      "text/html": [
       "<div>\n",
       "<style scoped>\n",
       "    .dataframe tbody tr th:only-of-type {\n",
       "        vertical-align: middle;\n",
       "    }\n",
       "\n",
       "    .dataframe tbody tr th {\n",
       "        vertical-align: top;\n",
       "    }\n",
       "\n",
       "    .dataframe thead th {\n",
       "        text-align: right;\n",
       "    }\n",
       "</style>\n",
       "<table border=\"1\" class=\"dataframe\">\n",
       "  <thead>\n",
       "    <tr style=\"text-align: right;\">\n",
       "      <th></th>\n",
       "      <th>Acer</th>\n",
       "      <th>Apple</th>\n",
       "      <th>Asus</th>\n",
       "      <th>Chuwi</th>\n",
       "      <th>Dell</th>\n",
       "      <th>Fujitsu</th>\n",
       "      <th>Google</th>\n",
       "      <th>HP</th>\n",
       "      <th>Huawei</th>\n",
       "      <th>LG</th>\n",
       "      <th>Lenovo</th>\n",
       "      <th>MSI</th>\n",
       "      <th>Mediacom</th>\n",
       "      <th>Microsoft</th>\n",
       "      <th>Razer</th>\n",
       "      <th>Samsung</th>\n",
       "      <th>Toshiba</th>\n",
       "      <th>Vero</th>\n",
       "      <th>Xiaomi</th>\n",
       "    </tr>\n",
       "  </thead>\n",
       "  <tbody>\n",
       "    <tr>\n",
       "      <th>0</th>\n",
       "      <td>0</td>\n",
       "      <td>1</td>\n",
       "      <td>0</td>\n",
       "      <td>0</td>\n",
       "      <td>0</td>\n",
       "      <td>0</td>\n",
       "      <td>0</td>\n",
       "      <td>0</td>\n",
       "      <td>0</td>\n",
       "      <td>0</td>\n",
       "      <td>0</td>\n",
       "      <td>0</td>\n",
       "      <td>0</td>\n",
       "      <td>0</td>\n",
       "      <td>0</td>\n",
       "      <td>0</td>\n",
       "      <td>0</td>\n",
       "      <td>0</td>\n",
       "      <td>0</td>\n",
       "    </tr>\n",
       "    <tr>\n",
       "      <th>1</th>\n",
       "      <td>0</td>\n",
       "      <td>1</td>\n",
       "      <td>0</td>\n",
       "      <td>0</td>\n",
       "      <td>0</td>\n",
       "      <td>0</td>\n",
       "      <td>0</td>\n",
       "      <td>0</td>\n",
       "      <td>0</td>\n",
       "      <td>0</td>\n",
       "      <td>0</td>\n",
       "      <td>0</td>\n",
       "      <td>0</td>\n",
       "      <td>0</td>\n",
       "      <td>0</td>\n",
       "      <td>0</td>\n",
       "      <td>0</td>\n",
       "      <td>0</td>\n",
       "      <td>0</td>\n",
       "    </tr>\n",
       "    <tr>\n",
       "      <th>2</th>\n",
       "      <td>0</td>\n",
       "      <td>0</td>\n",
       "      <td>0</td>\n",
       "      <td>0</td>\n",
       "      <td>0</td>\n",
       "      <td>0</td>\n",
       "      <td>0</td>\n",
       "      <td>1</td>\n",
       "      <td>0</td>\n",
       "      <td>0</td>\n",
       "      <td>0</td>\n",
       "      <td>0</td>\n",
       "      <td>0</td>\n",
       "      <td>0</td>\n",
       "      <td>0</td>\n",
       "      <td>0</td>\n",
       "      <td>0</td>\n",
       "      <td>0</td>\n",
       "      <td>0</td>\n",
       "    </tr>\n",
       "    <tr>\n",
       "      <th>3</th>\n",
       "      <td>0</td>\n",
       "      <td>1</td>\n",
       "      <td>0</td>\n",
       "      <td>0</td>\n",
       "      <td>0</td>\n",
       "      <td>0</td>\n",
       "      <td>0</td>\n",
       "      <td>0</td>\n",
       "      <td>0</td>\n",
       "      <td>0</td>\n",
       "      <td>0</td>\n",
       "      <td>0</td>\n",
       "      <td>0</td>\n",
       "      <td>0</td>\n",
       "      <td>0</td>\n",
       "      <td>0</td>\n",
       "      <td>0</td>\n",
       "      <td>0</td>\n",
       "      <td>0</td>\n",
       "    </tr>\n",
       "    <tr>\n",
       "      <th>4</th>\n",
       "      <td>0</td>\n",
       "      <td>1</td>\n",
       "      <td>0</td>\n",
       "      <td>0</td>\n",
       "      <td>0</td>\n",
       "      <td>0</td>\n",
       "      <td>0</td>\n",
       "      <td>0</td>\n",
       "      <td>0</td>\n",
       "      <td>0</td>\n",
       "      <td>0</td>\n",
       "      <td>0</td>\n",
       "      <td>0</td>\n",
       "      <td>0</td>\n",
       "      <td>0</td>\n",
       "      <td>0</td>\n",
       "      <td>0</td>\n",
       "      <td>0</td>\n",
       "      <td>0</td>\n",
       "    </tr>\n",
       "    <tr>\n",
       "      <th>...</th>\n",
       "      <td>...</td>\n",
       "      <td>...</td>\n",
       "      <td>...</td>\n",
       "      <td>...</td>\n",
       "      <td>...</td>\n",
       "      <td>...</td>\n",
       "      <td>...</td>\n",
       "      <td>...</td>\n",
       "      <td>...</td>\n",
       "      <td>...</td>\n",
       "      <td>...</td>\n",
       "      <td>...</td>\n",
       "      <td>...</td>\n",
       "      <td>...</td>\n",
       "      <td>...</td>\n",
       "      <td>...</td>\n",
       "      <td>...</td>\n",
       "      <td>...</td>\n",
       "      <td>...</td>\n",
       "    </tr>\n",
       "    <tr>\n",
       "      <th>1298</th>\n",
       "      <td>0</td>\n",
       "      <td>0</td>\n",
       "      <td>0</td>\n",
       "      <td>0</td>\n",
       "      <td>0</td>\n",
       "      <td>0</td>\n",
       "      <td>0</td>\n",
       "      <td>0</td>\n",
       "      <td>0</td>\n",
       "      <td>0</td>\n",
       "      <td>1</td>\n",
       "      <td>0</td>\n",
       "      <td>0</td>\n",
       "      <td>0</td>\n",
       "      <td>0</td>\n",
       "      <td>0</td>\n",
       "      <td>0</td>\n",
       "      <td>0</td>\n",
       "      <td>0</td>\n",
       "    </tr>\n",
       "    <tr>\n",
       "      <th>1299</th>\n",
       "      <td>0</td>\n",
       "      <td>0</td>\n",
       "      <td>0</td>\n",
       "      <td>0</td>\n",
       "      <td>0</td>\n",
       "      <td>0</td>\n",
       "      <td>0</td>\n",
       "      <td>0</td>\n",
       "      <td>0</td>\n",
       "      <td>0</td>\n",
       "      <td>1</td>\n",
       "      <td>0</td>\n",
       "      <td>0</td>\n",
       "      <td>0</td>\n",
       "      <td>0</td>\n",
       "      <td>0</td>\n",
       "      <td>0</td>\n",
       "      <td>0</td>\n",
       "      <td>0</td>\n",
       "    </tr>\n",
       "    <tr>\n",
       "      <th>1300</th>\n",
       "      <td>0</td>\n",
       "      <td>0</td>\n",
       "      <td>0</td>\n",
       "      <td>0</td>\n",
       "      <td>0</td>\n",
       "      <td>0</td>\n",
       "      <td>0</td>\n",
       "      <td>0</td>\n",
       "      <td>0</td>\n",
       "      <td>0</td>\n",
       "      <td>1</td>\n",
       "      <td>0</td>\n",
       "      <td>0</td>\n",
       "      <td>0</td>\n",
       "      <td>0</td>\n",
       "      <td>0</td>\n",
       "      <td>0</td>\n",
       "      <td>0</td>\n",
       "      <td>0</td>\n",
       "    </tr>\n",
       "    <tr>\n",
       "      <th>1301</th>\n",
       "      <td>0</td>\n",
       "      <td>0</td>\n",
       "      <td>0</td>\n",
       "      <td>0</td>\n",
       "      <td>0</td>\n",
       "      <td>0</td>\n",
       "      <td>0</td>\n",
       "      <td>1</td>\n",
       "      <td>0</td>\n",
       "      <td>0</td>\n",
       "      <td>0</td>\n",
       "      <td>0</td>\n",
       "      <td>0</td>\n",
       "      <td>0</td>\n",
       "      <td>0</td>\n",
       "      <td>0</td>\n",
       "      <td>0</td>\n",
       "      <td>0</td>\n",
       "      <td>0</td>\n",
       "    </tr>\n",
       "    <tr>\n",
       "      <th>1302</th>\n",
       "      <td>0</td>\n",
       "      <td>0</td>\n",
       "      <td>1</td>\n",
       "      <td>0</td>\n",
       "      <td>0</td>\n",
       "      <td>0</td>\n",
       "      <td>0</td>\n",
       "      <td>0</td>\n",
       "      <td>0</td>\n",
       "      <td>0</td>\n",
       "      <td>0</td>\n",
       "      <td>0</td>\n",
       "      <td>0</td>\n",
       "      <td>0</td>\n",
       "      <td>0</td>\n",
       "      <td>0</td>\n",
       "      <td>0</td>\n",
       "      <td>0</td>\n",
       "      <td>0</td>\n",
       "    </tr>\n",
       "  </tbody>\n",
       "</table>\n",
       "<p>1302 rows × 19 columns</p>\n",
       "</div>"
      ],
      "text/plain": [
       "      Acer  Apple  Asus  Chuwi  Dell  Fujitsu  Google  HP  Huawei  LG  Lenovo  \\\n",
       "0        0      1     0      0     0        0       0   0       0   0       0   \n",
       "1        0      1     0      0     0        0       0   0       0   0       0   \n",
       "2        0      0     0      0     0        0       0   1       0   0       0   \n",
       "3        0      1     0      0     0        0       0   0       0   0       0   \n",
       "4        0      1     0      0     0        0       0   0       0   0       0   \n",
       "...    ...    ...   ...    ...   ...      ...     ...  ..     ...  ..     ...   \n",
       "1298     0      0     0      0     0        0       0   0       0   0       1   \n",
       "1299     0      0     0      0     0        0       0   0       0   0       1   \n",
       "1300     0      0     0      0     0        0       0   0       0   0       1   \n",
       "1301     0      0     0      0     0        0       0   1       0   0       0   \n",
       "1302     0      0     1      0     0        0       0   0       0   0       0   \n",
       "\n",
       "      MSI  Mediacom  Microsoft  Razer  Samsung  Toshiba  Vero  Xiaomi  \n",
       "0       0         0          0      0        0        0     0       0  \n",
       "1       0         0          0      0        0        0     0       0  \n",
       "2       0         0          0      0        0        0     0       0  \n",
       "3       0         0          0      0        0        0     0       0  \n",
       "4       0         0          0      0        0        0     0       0  \n",
       "...   ...       ...        ...    ...      ...      ...   ...     ...  \n",
       "1298    0         0          0      0        0        0     0       0  \n",
       "1299    0         0          0      0        0        0     0       0  \n",
       "1300    0         0          0      0        0        0     0       0  \n",
       "1301    0         0          0      0        0        0     0       0  \n",
       "1302    0         0          0      0        0        0     0       0  \n",
       "\n",
       "[1302 rows x 19 columns]"
      ]
     },
     "execution_count": 280,
     "metadata": {},
     "output_type": "execute_result"
    }
   ],
   "source": [
    "# pd.get_dummies(df_filtered['Company'])"
   ]
  },
  {
   "cell_type": "code",
   "execution_count": 285,
   "id": "fae1d9f2",
   "metadata": {},
   "outputs": [
    {
     "data": {
      "text/plain": [
       "array(['Ultrabook', 'Notebook', 'Netbook', 'Gaming', '2 in 1 Convertible',\n",
       "       'Workstation'], dtype=object)"
      ]
     },
     "execution_count": 285,
     "metadata": {},
     "output_type": "execute_result"
    }
   ],
   "source": [
    "df_filtered['TypeName'].unique()"
   ]
  },
  {
   "cell_type": "code",
   "execution_count": 283,
   "id": "da0b9330",
   "metadata": {},
   "outputs": [],
   "source": [
    "encode_TypeName = OneHotEncoder(sparse=False, categories=[df_filtered['TypeName'].unique().tolist()])"
   ]
  },
  {
   "cell_type": "code",
   "execution_count": 286,
   "id": "b1c237fc",
   "metadata": {},
   "outputs": [],
   "source": [
    "df_TypeName =  encode_TypeName.fit_transform(df_filtered[['TypeName']])"
   ]
  },
  {
   "cell_type": "code",
   "execution_count": 288,
   "id": "cef4e8ee",
   "metadata": {},
   "outputs": [],
   "source": [
    "df_TypeName = pd.DataFrame(data=df_TypeName, index=df_filtered.index, columns=df_filtered['TypeName'].unique())"
   ]
  },
  {
   "cell_type": "code",
   "execution_count": 294,
   "id": "c3a0f8ed",
   "metadata": {},
   "outputs": [
    {
     "data": {
      "text/html": [
       "<div>\n",
       "<style scoped>\n",
       "    .dataframe tbody tr th:only-of-type {\n",
       "        vertical-align: middle;\n",
       "    }\n",
       "\n",
       "    .dataframe tbody tr th {\n",
       "        vertical-align: top;\n",
       "    }\n",
       "\n",
       "    .dataframe thead th {\n",
       "        text-align: right;\n",
       "    }\n",
       "</style>\n",
       "<table border=\"1\" class=\"dataframe\">\n",
       "  <thead>\n",
       "    <tr style=\"text-align: right;\">\n",
       "      <th></th>\n",
       "      <th>Company</th>\n",
       "      <th>TypeName</th>\n",
       "      <th>Ram</th>\n",
       "      <th>Gpu</th>\n",
       "      <th>OpSys</th>\n",
       "      <th>Weight</th>\n",
       "      <th>Price</th>\n",
       "      <th>Cpu Type</th>\n",
       "      <th>Cpu Power</th>\n",
       "      <th>SSD</th>\n",
       "      <th>...</th>\n",
       "      <th>Touchscreen</th>\n",
       "      <th>Processor</th>\n",
       "      <th>Processor Power</th>\n",
       "      <th>PPI</th>\n",
       "      <th>Ultrabook</th>\n",
       "      <th>Notebook</th>\n",
       "      <th>Netbook</th>\n",
       "      <th>Gaming</th>\n",
       "      <th>2 in 1 Convertible</th>\n",
       "      <th>Workstation</th>\n",
       "    </tr>\n",
       "  </thead>\n",
       "  <tbody>\n",
       "    <tr>\n",
       "      <th>1298</th>\n",
       "      <td>Lenovo</td>\n",
       "      <td>2 in 1 Convertible</td>\n",
       "      <td>4GB</td>\n",
       "      <td>Intel HD Graphics 520</td>\n",
       "      <td>Windows 10</td>\n",
       "      <td>1.80</td>\n",
       "      <td>33992.64</td>\n",
       "      <td>Intel Core i7</td>\n",
       "      <td>2.5GHz</td>\n",
       "      <td>128.0</td>\n",
       "      <td>...</td>\n",
       "      <td>True</td>\n",
       "      <td>Intel</td>\n",
       "      <td>Core i7</td>\n",
       "      <td>157.350516</td>\n",
       "      <td>0.0</td>\n",
       "      <td>0.0</td>\n",
       "      <td>0.0</td>\n",
       "      <td>0.0</td>\n",
       "      <td>1.0</td>\n",
       "      <td>0.0</td>\n",
       "    </tr>\n",
       "    <tr>\n",
       "      <th>1299</th>\n",
       "      <td>Lenovo</td>\n",
       "      <td>2 in 1 Convertible</td>\n",
       "      <td>16GB</td>\n",
       "      <td>Intel HD Graphics 520</td>\n",
       "      <td>Windows 10</td>\n",
       "      <td>1.30</td>\n",
       "      <td>79866.72</td>\n",
       "      <td>Intel Core i7</td>\n",
       "      <td>2.5GHz</td>\n",
       "      <td>512.0</td>\n",
       "      <td>...</td>\n",
       "      <td>True</td>\n",
       "      <td>Intel</td>\n",
       "      <td>Core i7</td>\n",
       "      <td>276.053531</td>\n",
       "      <td>0.0</td>\n",
       "      <td>0.0</td>\n",
       "      <td>0.0</td>\n",
       "      <td>0.0</td>\n",
       "      <td>1.0</td>\n",
       "      <td>0.0</td>\n",
       "    </tr>\n",
       "    <tr>\n",
       "      <th>1300</th>\n",
       "      <td>Lenovo</td>\n",
       "      <td>Notebook</td>\n",
       "      <td>2GB</td>\n",
       "      <td>Intel HD Graphics</td>\n",
       "      <td>Windows 10</td>\n",
       "      <td>1.50</td>\n",
       "      <td>12201.12</td>\n",
       "      <td>Other Intel</td>\n",
       "      <td>1.6GHz</td>\n",
       "      <td>NaN</td>\n",
       "      <td>...</td>\n",
       "      <td>NaN</td>\n",
       "      <td>Intel</td>\n",
       "      <td>Celeron Dual Core</td>\n",
       "      <td>111.935207</td>\n",
       "      <td>0.0</td>\n",
       "      <td>1.0</td>\n",
       "      <td>0.0</td>\n",
       "      <td>0.0</td>\n",
       "      <td>0.0</td>\n",
       "      <td>0.0</td>\n",
       "    </tr>\n",
       "    <tr>\n",
       "      <th>1301</th>\n",
       "      <td>HP</td>\n",
       "      <td>Notebook</td>\n",
       "      <td>6GB</td>\n",
       "      <td>AMD Radeon R5 M330</td>\n",
       "      <td>Windows 10</td>\n",
       "      <td>2.19</td>\n",
       "      <td>40705.92</td>\n",
       "      <td>Intel Core i7</td>\n",
       "      <td>2.5GHz</td>\n",
       "      <td>NaN</td>\n",
       "      <td>...</td>\n",
       "      <td>NaN</td>\n",
       "      <td>Intel</td>\n",
       "      <td>Core i7</td>\n",
       "      <td>100.454673</td>\n",
       "      <td>0.0</td>\n",
       "      <td>1.0</td>\n",
       "      <td>0.0</td>\n",
       "      <td>0.0</td>\n",
       "      <td>0.0</td>\n",
       "      <td>0.0</td>\n",
       "    </tr>\n",
       "    <tr>\n",
       "      <th>1302</th>\n",
       "      <td>Asus</td>\n",
       "      <td>Notebook</td>\n",
       "      <td>4GB</td>\n",
       "      <td>Intel HD Graphics</td>\n",
       "      <td>Windows 10</td>\n",
       "      <td>2.20</td>\n",
       "      <td>19660.32</td>\n",
       "      <td>Other Intel</td>\n",
       "      <td>1.6GHz</td>\n",
       "      <td>NaN</td>\n",
       "      <td>...</td>\n",
       "      <td>NaN</td>\n",
       "      <td>Intel</td>\n",
       "      <td>Celeron Dual Core</td>\n",
       "      <td>100.454673</td>\n",
       "      <td>0.0</td>\n",
       "      <td>1.0</td>\n",
       "      <td>0.0</td>\n",
       "      <td>0.0</td>\n",
       "      <td>0.0</td>\n",
       "      <td>0.0</td>\n",
       "    </tr>\n",
       "  </tbody>\n",
       "</table>\n",
       "<p>5 rows × 24 columns</p>\n",
       "</div>"
      ],
      "text/plain": [
       "     Company            TypeName   Ram                    Gpu       OpSys  \\\n",
       "1298  Lenovo  2 in 1 Convertible   4GB  Intel HD Graphics 520  Windows 10   \n",
       "1299  Lenovo  2 in 1 Convertible  16GB  Intel HD Graphics 520  Windows 10   \n",
       "1300  Lenovo            Notebook   2GB      Intel HD Graphics  Windows 10   \n",
       "1301      HP            Notebook   6GB     AMD Radeon R5 M330  Windows 10   \n",
       "1302    Asus            Notebook   4GB      Intel HD Graphics  Windows 10   \n",
       "\n",
       "      Weight     Price       Cpu Type Cpu Power    SSD  ...  Touchscreen  \\\n",
       "1298    1.80  33992.64  Intel Core i7    2.5GHz  128.0  ...         True   \n",
       "1299    1.30  79866.72  Intel Core i7    2.5GHz  512.0  ...         True   \n",
       "1300    1.50  12201.12    Other Intel    1.6GHz    NaN  ...          NaN   \n",
       "1301    2.19  40705.92  Intel Core i7    2.5GHz    NaN  ...          NaN   \n",
       "1302    2.20  19660.32    Other Intel    1.6GHz    NaN  ...          NaN   \n",
       "\n",
       "      Processor    Processor Power         PPI Ultrabook Notebook Netbook  \\\n",
       "1298      Intel            Core i7  157.350516       0.0      0.0     0.0   \n",
       "1299      Intel            Core i7  276.053531       0.0      0.0     0.0   \n",
       "1300      Intel  Celeron Dual Core  111.935207       0.0      1.0     0.0   \n",
       "1301      Intel            Core i7  100.454673       0.0      1.0     0.0   \n",
       "1302      Intel  Celeron Dual Core  100.454673       0.0      1.0     0.0   \n",
       "\n",
       "      Gaming  2 in 1 Convertible  Workstation  \n",
       "1298     0.0                 1.0          0.0  \n",
       "1299     0.0                 1.0          0.0  \n",
       "1300     0.0                 0.0          0.0  \n",
       "1301     0.0                 0.0          0.0  \n",
       "1302     0.0                 0.0          0.0  \n",
       "\n",
       "[5 rows x 24 columns]"
      ]
     },
     "execution_count": 294,
     "metadata": {},
     "output_type": "execute_result"
    }
   ],
   "source": [
    "df_filtered.join(df_TypeName).tail()"
   ]
  },
  {
   "cell_type": "code",
   "execution_count": 390,
   "id": "384ed58b",
   "metadata": {},
   "outputs": [
    {
     "data": {
      "text/plain": [
       "Windows 10      1072\n",
       "No OS             66\n",
       "Linux             62\n",
       "Windows 7         45\n",
       "Chrome OS         26\n",
       "macOS             13\n",
       "Mac OS X           8\n",
       "Windows 10 S       8\n",
       "Android            2\n",
       "Name: OpSys, dtype: int64"
      ]
     },
     "execution_count": 390,
     "metadata": {},
     "output_type": "execute_result"
    }
   ],
   "source": [
    "df_filtered['OpSys'].value_counts()"
   ]
  },
  {
   "cell_type": "code",
   "execution_count": 391,
   "id": "51953518",
   "metadata": {},
   "outputs": [],
   "source": [
    "encode_OpSys = OneHotEncoder(sparse=False, categories=[df_filtered['OpSys'].unique().tolist()])"
   ]
  },
  {
   "cell_type": "code",
   "execution_count": 393,
   "id": "d69673e9",
   "metadata": {},
   "outputs": [],
   "source": [
    "df_OpSys = encode_OpSys.fit_transform(df_filtered[['OpSys']])"
   ]
  },
  {
   "cell_type": "code",
   "execution_count": 394,
   "id": "02d1b3ed",
   "metadata": {},
   "outputs": [],
   "source": [
    "df_OpSys = pd.DataFrame(data=df_OpSys, index=df_filtered.index, columns=df_filtered['OpSys'].unique())"
   ]
  },
  {
   "cell_type": "code",
   "execution_count": 398,
   "id": "ea7eca78",
   "metadata": {},
   "outputs": [
    {
     "data": {
      "text/html": [
       "<div>\n",
       "<style scoped>\n",
       "    .dataframe tbody tr th:only-of-type {\n",
       "        vertical-align: middle;\n",
       "    }\n",
       "\n",
       "    .dataframe tbody tr th {\n",
       "        vertical-align: top;\n",
       "    }\n",
       "\n",
       "    .dataframe thead th {\n",
       "        text-align: right;\n",
       "    }\n",
       "</style>\n",
       "<table border=\"1\" class=\"dataframe\">\n",
       "  <thead>\n",
       "    <tr style=\"text-align: right;\">\n",
       "      <th></th>\n",
       "      <th>macOS</th>\n",
       "      <th>No OS</th>\n",
       "      <th>Windows 10</th>\n",
       "      <th>Mac OS X</th>\n",
       "      <th>Linux</th>\n",
       "      <th>Android</th>\n",
       "      <th>Windows 10 S</th>\n",
       "      <th>Chrome OS</th>\n",
       "      <th>Windows 7</th>\n",
       "    </tr>\n",
       "  </thead>\n",
       "  <tbody>\n",
       "    <tr>\n",
       "      <th>1300</th>\n",
       "      <td>0.0</td>\n",
       "      <td>0.0</td>\n",
       "      <td>1.0</td>\n",
       "      <td>0.0</td>\n",
       "      <td>0.0</td>\n",
       "      <td>0.0</td>\n",
       "      <td>0.0</td>\n",
       "      <td>0.0</td>\n",
       "      <td>0.0</td>\n",
       "    </tr>\n",
       "    <tr>\n",
       "      <th>1301</th>\n",
       "      <td>0.0</td>\n",
       "      <td>0.0</td>\n",
       "      <td>1.0</td>\n",
       "      <td>0.0</td>\n",
       "      <td>0.0</td>\n",
       "      <td>0.0</td>\n",
       "      <td>0.0</td>\n",
       "      <td>0.0</td>\n",
       "      <td>0.0</td>\n",
       "    </tr>\n",
       "    <tr>\n",
       "      <th>1302</th>\n",
       "      <td>0.0</td>\n",
       "      <td>0.0</td>\n",
       "      <td>1.0</td>\n",
       "      <td>0.0</td>\n",
       "      <td>0.0</td>\n",
       "      <td>0.0</td>\n",
       "      <td>0.0</td>\n",
       "      <td>0.0</td>\n",
       "      <td>0.0</td>\n",
       "    </tr>\n",
       "  </tbody>\n",
       "</table>\n",
       "</div>"
      ],
      "text/plain": [
       "      macOS  No OS  Windows 10  Mac OS X  Linux  Android  Windows 10 S  \\\n",
       "1300    0.0    0.0         1.0       0.0    0.0      0.0           0.0   \n",
       "1301    0.0    0.0         1.0       0.0    0.0      0.0           0.0   \n",
       "1302    0.0    0.0         1.0       0.0    0.0      0.0           0.0   \n",
       "\n",
       "      Chrome OS  Windows 7  \n",
       "1300        0.0        0.0  \n",
       "1301        0.0        0.0  \n",
       "1302        0.0        0.0  "
      ]
     },
     "execution_count": 398,
     "metadata": {},
     "output_type": "execute_result"
    }
   ],
   "source": [
    "df_OpSys.tail(3)"
   ]
  },
  {
   "cell_type": "code",
   "execution_count": 399,
   "id": "c1db2408",
   "metadata": {},
   "outputs": [
    {
     "data": {
      "text/html": [
       "<div>\n",
       "<style scoped>\n",
       "    .dataframe tbody tr th:only-of-type {\n",
       "        vertical-align: middle;\n",
       "    }\n",
       "\n",
       "    .dataframe tbody tr th {\n",
       "        vertical-align: top;\n",
       "    }\n",
       "\n",
       "    .dataframe thead th {\n",
       "        text-align: right;\n",
       "    }\n",
       "</style>\n",
       "<table border=\"1\" class=\"dataframe\">\n",
       "  <thead>\n",
       "    <tr style=\"text-align: right;\">\n",
       "      <th></th>\n",
       "      <th>Company</th>\n",
       "      <th>TypeName</th>\n",
       "      <th>Ram</th>\n",
       "      <th>OpSys</th>\n",
       "      <th>Weight</th>\n",
       "      <th>Price</th>\n",
       "      <th>Cpu Type</th>\n",
       "      <th>Cpu Power</th>\n",
       "      <th>SSD</th>\n",
       "      <th>HDD</th>\n",
       "      <th>...</th>\n",
       "      <th>Samsung</th>\n",
       "      <th>Google</th>\n",
       "      <th>Fujitsu</th>\n",
       "      <th>LG</th>\n",
       "      <th>Ultrabook</th>\n",
       "      <th>Notebook</th>\n",
       "      <th>Netbook</th>\n",
       "      <th>Gaming</th>\n",
       "      <th>2 in 1 Convertible</th>\n",
       "      <th>Workstation</th>\n",
       "    </tr>\n",
       "  </thead>\n",
       "  <tbody>\n",
       "    <tr>\n",
       "      <th>1300</th>\n",
       "      <td>Lenovo</td>\n",
       "      <td>Notebook</td>\n",
       "      <td>2</td>\n",
       "      <td>Windows 10</td>\n",
       "      <td>1.50</td>\n",
       "      <td>12201.12</td>\n",
       "      <td>Other Intel</td>\n",
       "      <td>1.6</td>\n",
       "      <td>NaN</td>\n",
       "      <td>NaN</td>\n",
       "      <td>...</td>\n",
       "      <td>0.0</td>\n",
       "      <td>0.0</td>\n",
       "      <td>0.0</td>\n",
       "      <td>0.0</td>\n",
       "      <td>0.0</td>\n",
       "      <td>1.0</td>\n",
       "      <td>0.0</td>\n",
       "      <td>0.0</td>\n",
       "      <td>0.0</td>\n",
       "      <td>0.0</td>\n",
       "    </tr>\n",
       "    <tr>\n",
       "      <th>1301</th>\n",
       "      <td>HP</td>\n",
       "      <td>Notebook</td>\n",
       "      <td>6</td>\n",
       "      <td>Windows 10</td>\n",
       "      <td>2.19</td>\n",
       "      <td>40705.92</td>\n",
       "      <td>Intel Core i7</td>\n",
       "      <td>2.5</td>\n",
       "      <td>NaN</td>\n",
       "      <td>1000.0</td>\n",
       "      <td>...</td>\n",
       "      <td>0.0</td>\n",
       "      <td>0.0</td>\n",
       "      <td>0.0</td>\n",
       "      <td>0.0</td>\n",
       "      <td>0.0</td>\n",
       "      <td>1.0</td>\n",
       "      <td>0.0</td>\n",
       "      <td>0.0</td>\n",
       "      <td>0.0</td>\n",
       "      <td>0.0</td>\n",
       "    </tr>\n",
       "    <tr>\n",
       "      <th>1302</th>\n",
       "      <td>Asus</td>\n",
       "      <td>Notebook</td>\n",
       "      <td>4</td>\n",
       "      <td>Windows 10</td>\n",
       "      <td>2.20</td>\n",
       "      <td>19660.32</td>\n",
       "      <td>Other Intel</td>\n",
       "      <td>1.6</td>\n",
       "      <td>NaN</td>\n",
       "      <td>500.0</td>\n",
       "      <td>...</td>\n",
       "      <td>0.0</td>\n",
       "      <td>0.0</td>\n",
       "      <td>0.0</td>\n",
       "      <td>0.0</td>\n",
       "      <td>0.0</td>\n",
       "      <td>1.0</td>\n",
       "      <td>0.0</td>\n",
       "      <td>0.0</td>\n",
       "      <td>0.0</td>\n",
       "      <td>0.0</td>\n",
       "    </tr>\n",
       "  </tbody>\n",
       "</table>\n",
       "<p>3 rows × 41 columns</p>\n",
       "</div>"
      ],
      "text/plain": [
       "     Company  TypeName  Ram       OpSys  Weight     Price       Cpu Type  \\\n",
       "1300  Lenovo  Notebook    2  Windows 10    1.50  12201.12    Other Intel   \n",
       "1301      HP  Notebook    6  Windows 10    2.19  40705.92  Intel Core i7   \n",
       "1302    Asus  Notebook    4  Windows 10    2.20  19660.32    Other Intel   \n",
       "\n",
       "      Cpu Power  SSD     HDD  ...  Samsung  Google Fujitsu   LG  Ultrabook  \\\n",
       "1300        1.6  NaN     NaN  ...      0.0     0.0     0.0  0.0        0.0   \n",
       "1301        2.5  NaN  1000.0  ...      0.0     0.0     0.0  0.0        0.0   \n",
       "1302        1.6  NaN   500.0  ...      0.0     0.0     0.0  0.0        0.0   \n",
       "\n",
       "     Notebook  Netbook  Gaming  2 in 1 Convertible  Workstation  \n",
       "1300      1.0      0.0     0.0                 0.0          0.0  \n",
       "1301      1.0      0.0     0.0                 0.0          0.0  \n",
       "1302      1.0      0.0     0.0                 0.0          0.0  \n",
       "\n",
       "[3 rows x 41 columns]"
      ]
     },
     "execution_count": 399,
     "metadata": {},
     "output_type": "execute_result"
    }
   ],
   "source": [
    "df_filtered.tail(3)"
   ]
  },
  {
   "cell_type": "code",
   "execution_count": 304,
   "id": "68ab45eb",
   "metadata": {},
   "outputs": [],
   "source": [
    "# Ram\n",
    "df_filtered['Ram'] = df_filtered['Ram'].str.replace('GB', '').astype('int32')"
   ]
  },
  {
   "cell_type": "code",
   "execution_count": 306,
   "id": "a4800399",
   "metadata": {},
   "outputs": [
    {
     "data": {
      "text/plain": [
       "<AxesSubplot:>"
      ]
     },
     "execution_count": 306,
     "metadata": {},
     "output_type": "execute_result"
    },
    {
     "data": {
      "image/png": "[encoded data removed]",
      "text/plain": [
       "<Figure size 432x288 with 1 Axes>"
      ]
     },
     "metadata": {},
     "output_type": "display_data"
    }
   ],
   "source": [
    "df_filtered['Ram'].value_counts().sort_index().plot()"
   ]
  },
  {
   "cell_type": "code",
   "execution_count": 309,
   "id": "d70c2cbe",
   "metadata": {},
   "outputs": [
    {
     "data": {
      "text/plain": [
       "<AxesSubplot:xlabel='Ram', ylabel='Price'>"
      ]
     },
     "execution_count": 309,
     "metadata": {},
     "output_type": "execute_result"
    },
    {
     "data": {
      "image/png": "[encoded data removed]",
      "text/plain": [
       "<Figure size 432x288 with 1 Axes>"
      ]
     },
     "metadata": {},
     "output_type": "display_data"
    }
   ],
   "source": [
    "sns.lineplot(x=df_filtered['Ram'], y=df_filtered['Price'])"
   ]
  },
  {
   "cell_type": "code",
   "execution_count": 314,
   "id": "a654a2cd",
   "metadata": {
    "scrolled": false
   },
   "outputs": [],
   "source": [
    "# GPU\n",
    "df_filtered['Gpu Brand'] = df_filtered['Gpu'].apply(lambda x: x.split()[0])"
   ]
  },
  {
   "cell_type": "code",
   "execution_count": 317,
   "id": "3a5a2cbf",
   "metadata": {},
   "outputs": [
    {
     "data": {
      "text/plain": [
       "Intel     722\n",
       "Nvidia    400\n",
       "AMD       180\n",
       "Name: Gpu Brand, dtype: int64"
      ]
     },
     "execution_count": 317,
     "metadata": {},
     "output_type": "execute_result"
    }
   ],
   "source": [
    "df_filtered['Gpu Brand'].value_counts()"
   ]
  },
  {
   "cell_type": "code",
   "execution_count": 318,
   "id": "8b50519a",
   "metadata": {},
   "outputs": [],
   "source": [
    "df_filtered.drop(columns=['Gpu'], inplace=True)"
   ]
  },
  {
   "cell_type": "code",
   "execution_count": 321,
   "id": "f2dfb157",
   "metadata": {},
   "outputs": [
    {
     "data": {
      "text/html": [
       "<div>\n",
       "<style scoped>\n",
       "    .dataframe tbody tr th:only-of-type {\n",
       "        vertical-align: middle;\n",
       "    }\n",
       "\n",
       "    .dataframe tbody tr th {\n",
       "        vertical-align: top;\n",
       "    }\n",
       "\n",
       "    .dataframe thead th {\n",
       "        text-align: right;\n",
       "    }\n",
       "</style>\n",
       "<table border=\"1\" class=\"dataframe\">\n",
       "  <thead>\n",
       "    <tr style=\"text-align: right;\">\n",
       "      <th></th>\n",
       "      <th>Company</th>\n",
       "      <th>TypeName</th>\n",
       "      <th>Ram</th>\n",
       "      <th>OpSys</th>\n",
       "      <th>Weight</th>\n",
       "      <th>Price</th>\n",
       "      <th>Cpu Type</th>\n",
       "      <th>Cpu Power</th>\n",
       "      <th>SSD</th>\n",
       "      <th>HDD</th>\n",
       "      <th>Flash Storage</th>\n",
       "      <th>Hybrid</th>\n",
       "      <th>IPS</th>\n",
       "      <th>Touchscreen</th>\n",
       "      <th>Processor</th>\n",
       "      <th>Processor Power</th>\n",
       "      <th>PPI</th>\n",
       "      <th>Gpu Brand</th>\n",
       "    </tr>\n",
       "  </thead>\n",
       "  <tbody>\n",
       "    <tr>\n",
       "      <th>0</th>\n",
       "      <td>Apple</td>\n",
       "      <td>Ultrabook</td>\n",
       "      <td>8</td>\n",
       "      <td>macOS</td>\n",
       "      <td>1.37</td>\n",
       "      <td>71378.6832</td>\n",
       "      <td>Intel Core i5</td>\n",
       "      <td>2.3GHz</td>\n",
       "      <td>128.0</td>\n",
       "      <td>NaN</td>\n",
       "      <td>NaN</td>\n",
       "      <td>NaN</td>\n",
       "      <td>True</td>\n",
       "      <td>False</td>\n",
       "      <td>Intel</td>\n",
       "      <td>Core i5</td>\n",
       "      <td>226.983009</td>\n",
       "      <td>Intel</td>\n",
       "    </tr>\n",
       "    <tr>\n",
       "      <th>1</th>\n",
       "      <td>Apple</td>\n",
       "      <td>Ultrabook</td>\n",
       "      <td>8</td>\n",
       "      <td>macOS</td>\n",
       "      <td>1.34</td>\n",
       "      <td>47895.5232</td>\n",
       "      <td>Intel Core i5</td>\n",
       "      <td>1.8GHz</td>\n",
       "      <td>NaN</td>\n",
       "      <td>NaN</td>\n",
       "      <td>128.0</td>\n",
       "      <td>NaN</td>\n",
       "      <td>NaN</td>\n",
       "      <td>NaN</td>\n",
       "      <td>Intel</td>\n",
       "      <td>Core i5</td>\n",
       "      <td>127.677938</td>\n",
       "      <td>Intel</td>\n",
       "    </tr>\n",
       "    <tr>\n",
       "      <th>2</th>\n",
       "      <td>HP</td>\n",
       "      <td>Notebook</td>\n",
       "      <td>8</td>\n",
       "      <td>No OS</td>\n",
       "      <td>1.86</td>\n",
       "      <td>30636.0000</td>\n",
       "      <td>Intel Core i5</td>\n",
       "      <td>2.5GHz</td>\n",
       "      <td>256.0</td>\n",
       "      <td>NaN</td>\n",
       "      <td>NaN</td>\n",
       "      <td>NaN</td>\n",
       "      <td>False</td>\n",
       "      <td>False</td>\n",
       "      <td>Intel</td>\n",
       "      <td>Core i5</td>\n",
       "      <td>141.212002</td>\n",
       "      <td>Intel</td>\n",
       "    </tr>\n",
       "    <tr>\n",
       "      <th>3</th>\n",
       "      <td>Apple</td>\n",
       "      <td>Ultrabook</td>\n",
       "      <td>16</td>\n",
       "      <td>macOS</td>\n",
       "      <td>1.83</td>\n",
       "      <td>135195.3360</td>\n",
       "      <td>Intel Core i7</td>\n",
       "      <td>2.7GHz</td>\n",
       "      <td>512.0</td>\n",
       "      <td>NaN</td>\n",
       "      <td>NaN</td>\n",
       "      <td>NaN</td>\n",
       "      <td>True</td>\n",
       "      <td>False</td>\n",
       "      <td>Intel</td>\n",
       "      <td>Core i7</td>\n",
       "      <td>220.534620</td>\n",
       "      <td>AMD</td>\n",
       "    </tr>\n",
       "    <tr>\n",
       "      <th>4</th>\n",
       "      <td>Apple</td>\n",
       "      <td>Ultrabook</td>\n",
       "      <td>8</td>\n",
       "      <td>macOS</td>\n",
       "      <td>1.37</td>\n",
       "      <td>96095.8080</td>\n",
       "      <td>Intel Core i5</td>\n",
       "      <td>3.1GHz</td>\n",
       "      <td>256.0</td>\n",
       "      <td>NaN</td>\n",
       "      <td>NaN</td>\n",
       "      <td>NaN</td>\n",
       "      <td>True</td>\n",
       "      <td>False</td>\n",
       "      <td>Intel</td>\n",
       "      <td>Core i5</td>\n",
       "      <td>226.983009</td>\n",
       "      <td>Intel</td>\n",
       "    </tr>\n",
       "  </tbody>\n",
       "</table>\n",
       "</div>"
      ],
      "text/plain": [
       "  Company   TypeName  Ram  OpSys  Weight        Price       Cpu Type  \\\n",
       "0   Apple  Ultrabook    8  macOS    1.37   71378.6832  Intel Core i5   \n",
       "1   Apple  Ultrabook    8  macOS    1.34   47895.5232  Intel Core i5   \n",
       "2      HP   Notebook    8  No OS    1.86   30636.0000  Intel Core i5   \n",
       "3   Apple  Ultrabook   16  macOS    1.83  135195.3360  Intel Core i7   \n",
       "4   Apple  Ultrabook    8  macOS    1.37   96095.8080  Intel Core i5   \n",
       "\n",
       "  Cpu Power    SSD  HDD  Flash Storage  Hybrid    IPS Touchscreen Processor  \\\n",
       "0    2.3GHz  128.0  NaN            NaN     NaN   True       False     Intel   \n",
       "1    1.8GHz    NaN  NaN          128.0     NaN    NaN         NaN     Intel   \n",
       "2    2.5GHz  256.0  NaN            NaN     NaN  False       False     Intel   \n",
       "3    2.7GHz  512.0  NaN            NaN     NaN   True       False     Intel   \n",
       "4    3.1GHz  256.0  NaN            NaN     NaN   True       False     Intel   \n",
       "\n",
       "  Processor Power         PPI Gpu Brand  \n",
       "0         Core i5  226.983009     Intel  \n",
       "1         Core i5  127.677938     Intel  \n",
       "2         Core i5  141.212002     Intel  \n",
       "3         Core i7  220.534620       AMD  \n",
       "4         Core i5  226.983009     Intel  "
      ]
     },
     "execution_count": 321,
     "metadata": {},
     "output_type": "execute_result"
    }
   ],
   "source": [
    "df_filtered.head(5)"
   ]
  },
  {
   "cell_type": "code",
   "execution_count": 322,
   "id": "2fbfbfd7",
   "metadata": {},
   "outputs": [],
   "source": [
    "# One Hot encoder for GPU brand\n",
    "encode_gpu_brand = OneHotEncoder(sparse=False, categories=[df_filtered['Gpu Brand'].unique().tolist()])"
   ]
  },
  {
   "cell_type": "code",
   "execution_count": 325,
   "id": "55cbdb96",
   "metadata": {},
   "outputs": [],
   "source": [
    "df_gpu_brand = encode_gpu_brand.fit_transform(df_filtered[['Gpu Brand']])"
   ]
  },
  {
   "cell_type": "code",
   "execution_count": 326,
   "id": "f57ccd2f",
   "metadata": {},
   "outputs": [],
   "source": [
    "df_gpu_brand = pd.DataFrame(df_gpu_brand, index=df_filtered.index, columns=df_filtered['Gpu Brand'].unique())"
   ]
  },
  {
   "cell_type": "code",
   "execution_count": 512,
   "id": "1fce7025",
   "metadata": {},
   "outputs": [],
   "source": [
    "df_gpu_brand.rename(columns={'Intel': 'Intel GPU', 'AMD': 'AMD GPU', 'Nvidia': 'Nvidia GPU'}, inplace=True)"
   ]
  },
  {
   "cell_type": "code",
   "execution_count": 513,
   "id": "18694d68",
   "metadata": {},
   "outputs": [
    {
     "data": {
      "text/html": [
       "<div>\n",
       "<style scoped>\n",
       "    .dataframe tbody tr th:only-of-type {\n",
       "        vertical-align: middle;\n",
       "    }\n",
       "\n",
       "    .dataframe tbody tr th {\n",
       "        vertical-align: top;\n",
       "    }\n",
       "\n",
       "    .dataframe thead th {\n",
       "        text-align: right;\n",
       "    }\n",
       "</style>\n",
       "<table border=\"1\" class=\"dataframe\">\n",
       "  <thead>\n",
       "    <tr style=\"text-align: right;\">\n",
       "      <th></th>\n",
       "      <th>Intel GPU</th>\n",
       "      <th>AMD GPU</th>\n",
       "      <th>Nvidia GPU</th>\n",
       "    </tr>\n",
       "  </thead>\n",
       "  <tbody>\n",
       "    <tr>\n",
       "      <th>0</th>\n",
       "      <td>1.0</td>\n",
       "      <td>0.0</td>\n",
       "      <td>0.0</td>\n",
       "    </tr>\n",
       "    <tr>\n",
       "      <th>1</th>\n",
       "      <td>1.0</td>\n",
       "      <td>0.0</td>\n",
       "      <td>0.0</td>\n",
       "    </tr>\n",
       "    <tr>\n",
       "      <th>2</th>\n",
       "      <td>1.0</td>\n",
       "      <td>0.0</td>\n",
       "      <td>0.0</td>\n",
       "    </tr>\n",
       "  </tbody>\n",
       "</table>\n",
       "</div>"
      ],
      "text/plain": [
       "   Intel GPU  AMD GPU  Nvidia GPU\n",
       "0        1.0      0.0         0.0\n",
       "1        1.0      0.0         0.0\n",
       "2        1.0      0.0         0.0"
      ]
     },
     "execution_count": 513,
     "metadata": {},
     "output_type": "execute_result"
    }
   ],
   "source": [
    "df_gpu_brand.head(3)"
   ]
  },
  {
   "cell_type": "code",
   "execution_count": 332,
   "id": "b872a23d",
   "metadata": {},
   "outputs": [
    {
     "data": {
      "text/html": [
       "<div>\n",
       "<style scoped>\n",
       "    .dataframe tbody tr th:only-of-type {\n",
       "        vertical-align: middle;\n",
       "    }\n",
       "\n",
       "    .dataframe tbody tr th {\n",
       "        vertical-align: top;\n",
       "    }\n",
       "\n",
       "    .dataframe thead th {\n",
       "        text-align: right;\n",
       "    }\n",
       "</style>\n",
       "<table border=\"1\" class=\"dataframe\">\n",
       "  <thead>\n",
       "    <tr style=\"text-align: right;\">\n",
       "      <th></th>\n",
       "      <th>Company</th>\n",
       "      <th>TypeName</th>\n",
       "      <th>Ram</th>\n",
       "      <th>OpSys</th>\n",
       "      <th>Weight</th>\n",
       "      <th>Price</th>\n",
       "      <th>Cpu Type</th>\n",
       "      <th>Cpu Power</th>\n",
       "      <th>SSD</th>\n",
       "      <th>HDD</th>\n",
       "      <th>Flash Storage</th>\n",
       "      <th>Hybrid</th>\n",
       "      <th>IPS</th>\n",
       "      <th>Touchscreen</th>\n",
       "      <th>Processor</th>\n",
       "      <th>Processor Power</th>\n",
       "      <th>PPI</th>\n",
       "      <th>Gpu Brand</th>\n",
       "    </tr>\n",
       "  </thead>\n",
       "  <tbody>\n",
       "    <tr>\n",
       "      <th>0</th>\n",
       "      <td>Apple</td>\n",
       "      <td>Ultrabook</td>\n",
       "      <td>8</td>\n",
       "      <td>macOS</td>\n",
       "      <td>1.37</td>\n",
       "      <td>71378.6832</td>\n",
       "      <td>Intel Core i5</td>\n",
       "      <td>2.3GHz</td>\n",
       "      <td>128.0</td>\n",
       "      <td>NaN</td>\n",
       "      <td>NaN</td>\n",
       "      <td>NaN</td>\n",
       "      <td>True</td>\n",
       "      <td>False</td>\n",
       "      <td>Intel</td>\n",
       "      <td>Core i5</td>\n",
       "      <td>226.983009</td>\n",
       "      <td>Intel</td>\n",
       "    </tr>\n",
       "    <tr>\n",
       "      <th>1</th>\n",
       "      <td>Apple</td>\n",
       "      <td>Ultrabook</td>\n",
       "      <td>8</td>\n",
       "      <td>macOS</td>\n",
       "      <td>1.34</td>\n",
       "      <td>47895.5232</td>\n",
       "      <td>Intel Core i5</td>\n",
       "      <td>1.8GHz</td>\n",
       "      <td>NaN</td>\n",
       "      <td>NaN</td>\n",
       "      <td>128.0</td>\n",
       "      <td>NaN</td>\n",
       "      <td>NaN</td>\n",
       "      <td>NaN</td>\n",
       "      <td>Intel</td>\n",
       "      <td>Core i5</td>\n",
       "      <td>127.677938</td>\n",
       "      <td>Intel</td>\n",
       "    </tr>\n",
       "    <tr>\n",
       "      <th>2</th>\n",
       "      <td>HP</td>\n",
       "      <td>Notebook</td>\n",
       "      <td>8</td>\n",
       "      <td>No OS</td>\n",
       "      <td>1.86</td>\n",
       "      <td>30636.0000</td>\n",
       "      <td>Intel Core i5</td>\n",
       "      <td>2.5GHz</td>\n",
       "      <td>256.0</td>\n",
       "      <td>NaN</td>\n",
       "      <td>NaN</td>\n",
       "      <td>NaN</td>\n",
       "      <td>False</td>\n",
       "      <td>False</td>\n",
       "      <td>Intel</td>\n",
       "      <td>Core i5</td>\n",
       "      <td>141.212002</td>\n",
       "      <td>Intel</td>\n",
       "    </tr>\n",
       "  </tbody>\n",
       "</table>\n",
       "</div>"
      ],
      "text/plain": [
       "  Company   TypeName  Ram  OpSys  Weight       Price       Cpu Type Cpu Power  \\\n",
       "0   Apple  Ultrabook    8  macOS    1.37  71378.6832  Intel Core i5    2.3GHz   \n",
       "1   Apple  Ultrabook    8  macOS    1.34  47895.5232  Intel Core i5    1.8GHz   \n",
       "2      HP   Notebook    8  No OS    1.86  30636.0000  Intel Core i5    2.5GHz   \n",
       "\n",
       "     SSD  HDD  Flash Storage  Hybrid    IPS Touchscreen Processor  \\\n",
       "0  128.0  NaN            NaN     NaN   True       False     Intel   \n",
       "1    NaN  NaN          128.0     NaN    NaN         NaN     Intel   \n",
       "2  256.0  NaN            NaN     NaN  False       False     Intel   \n",
       "\n",
       "  Processor Power         PPI Gpu Brand  \n",
       "0         Core i5  226.983009     Intel  \n",
       "1         Core i5  127.677938     Intel  \n",
       "2         Core i5  141.212002     Intel  "
      ]
     },
     "execution_count": 332,
     "metadata": {},
     "output_type": "execute_result"
    }
   ],
   "source": [
    "df_filtered.head(3)"
   ]
  },
  {
   "cell_type": "code",
   "execution_count": 335,
   "id": "efa90efb",
   "metadata": {},
   "outputs": [],
   "source": [
    "# df_filtered.join(df_gpu_brand)"
   ]
  },
  {
   "cell_type": "code",
   "execution_count": 336,
   "id": "5ba4fc9a",
   "metadata": {},
   "outputs": [
    {
     "data": {
      "text/plain": [
       "Intel Core i7    527\n",
       "Intel Core i5    423\n",
       "Other Intel      154\n",
       "Intel Core i3    136\n",
       "AMD               62\n",
       "Name: Cpu Type, dtype: int64"
      ]
     },
     "execution_count": 336,
     "metadata": {},
     "output_type": "execute_result"
    }
   ],
   "source": [
    "df_filtered['Cpu Type'].value_counts()"
   ]
  },
  {
   "cell_type": "code",
   "execution_count": 339,
   "id": "6fe34b11",
   "metadata": {},
   "outputs": [
    {
     "data": {
      "text/plain": [
       "array(['Intel Core i5', 'Intel Core i7', 'AMD', 'Intel Core i3',\n",
       "       'Other Intel'], dtype=object)"
      ]
     },
     "execution_count": 339,
     "metadata": {},
     "output_type": "execute_result"
    }
   ],
   "source": [
    "df_filtered['Cpu Type'].unique()"
   ]
  },
  {
   "cell_type": "code",
   "execution_count": 337,
   "id": "85a1e9e4",
   "metadata": {},
   "outputs": [],
   "source": [
    "encode_cpu_type = OneHotEncoder(sparse=False, categories=[df_filtered['Cpu Type'].unique().tolist()])"
   ]
  },
  {
   "cell_type": "code",
   "execution_count": 340,
   "id": "19bd1ac8",
   "metadata": {},
   "outputs": [],
   "source": [
    "df_cpu_type = encode_cpu_type.fit_transform(df_filtered[['Cpu Type']])"
   ]
  },
  {
   "cell_type": "code",
   "execution_count": 341,
   "id": "03a2e088",
   "metadata": {},
   "outputs": [],
   "source": [
    "df_cpu_type = pd.DataFrame(data=df_cpu_type, index=df_filtered.index, columns=df_filtered['Cpu Type'].unique())"
   ]
  },
  {
   "cell_type": "code",
   "execution_count": 348,
   "id": "5e45ec45",
   "metadata": {},
   "outputs": [
    {
     "data": {
      "text/html": [
       "<div>\n",
       "<style scoped>\n",
       "    .dataframe tbody tr th:only-of-type {\n",
       "        vertical-align: middle;\n",
       "    }\n",
       "\n",
       "    .dataframe tbody tr th {\n",
       "        vertical-align: top;\n",
       "    }\n",
       "\n",
       "    .dataframe thead th {\n",
       "        text-align: right;\n",
       "    }\n",
       "</style>\n",
       "<table border=\"1\" class=\"dataframe\">\n",
       "  <thead>\n",
       "    <tr style=\"text-align: right;\">\n",
       "      <th></th>\n",
       "      <th>Intel Core i5</th>\n",
       "      <th>Intel Core i7</th>\n",
       "      <th>AMD</th>\n",
       "      <th>Intel Core i3</th>\n",
       "      <th>Other Intel</th>\n",
       "    </tr>\n",
       "  </thead>\n",
       "  <tbody>\n",
       "    <tr>\n",
       "      <th>0</th>\n",
       "      <td>1.0</td>\n",
       "      <td>0.0</td>\n",
       "      <td>0.0</td>\n",
       "      <td>0.0</td>\n",
       "      <td>0.0</td>\n",
       "    </tr>\n",
       "    <tr>\n",
       "      <th>1</th>\n",
       "      <td>1.0</td>\n",
       "      <td>0.0</td>\n",
       "      <td>0.0</td>\n",
       "      <td>0.0</td>\n",
       "      <td>0.0</td>\n",
       "    </tr>\n",
       "    <tr>\n",
       "      <th>2</th>\n",
       "      <td>1.0</td>\n",
       "      <td>0.0</td>\n",
       "      <td>0.0</td>\n",
       "      <td>0.0</td>\n",
       "      <td>0.0</td>\n",
       "    </tr>\n",
       "  </tbody>\n",
       "</table>\n",
       "</div>"
      ],
      "text/plain": [
       "   Intel Core i5  Intel Core i7  AMD  Intel Core i3  Other Intel\n",
       "0            1.0            0.0  0.0            0.0          0.0\n",
       "1            1.0            0.0  0.0            0.0          0.0\n",
       "2            1.0            0.0  0.0            0.0          0.0"
      ]
     },
     "execution_count": 348,
     "metadata": {},
     "output_type": "execute_result"
    }
   ],
   "source": [
    "df_cpu_type.head(3)"
   ]
  },
  {
   "cell_type": "code",
   "execution_count": 349,
   "id": "918ef1ce",
   "metadata": {},
   "outputs": [
    {
     "data": {
      "text/html": [
       "<div>\n",
       "<style scoped>\n",
       "    .dataframe tbody tr th:only-of-type {\n",
       "        vertical-align: middle;\n",
       "    }\n",
       "\n",
       "    .dataframe tbody tr th {\n",
       "        vertical-align: top;\n",
       "    }\n",
       "\n",
       "    .dataframe thead th {\n",
       "        text-align: right;\n",
       "    }\n",
       "</style>\n",
       "<table border=\"1\" class=\"dataframe\">\n",
       "  <thead>\n",
       "    <tr style=\"text-align: right;\">\n",
       "      <th></th>\n",
       "      <th>Company</th>\n",
       "      <th>TypeName</th>\n",
       "      <th>Ram</th>\n",
       "      <th>OpSys</th>\n",
       "      <th>Weight</th>\n",
       "      <th>Price</th>\n",
       "      <th>Cpu Type</th>\n",
       "      <th>Cpu Power</th>\n",
       "      <th>SSD</th>\n",
       "      <th>HDD</th>\n",
       "      <th>Flash Storage</th>\n",
       "      <th>Hybrid</th>\n",
       "      <th>IPS</th>\n",
       "      <th>Touchscreen</th>\n",
       "      <th>Processor</th>\n",
       "      <th>Processor Power</th>\n",
       "      <th>PPI</th>\n",
       "      <th>Gpu Brand</th>\n",
       "    </tr>\n",
       "  </thead>\n",
       "  <tbody>\n",
       "    <tr>\n",
       "      <th>0</th>\n",
       "      <td>Apple</td>\n",
       "      <td>Ultrabook</td>\n",
       "      <td>8</td>\n",
       "      <td>macOS</td>\n",
       "      <td>1.37</td>\n",
       "      <td>71378.6832</td>\n",
       "      <td>Intel Core i5</td>\n",
       "      <td>2.3GHz</td>\n",
       "      <td>128.0</td>\n",
       "      <td>NaN</td>\n",
       "      <td>NaN</td>\n",
       "      <td>NaN</td>\n",
       "      <td>True</td>\n",
       "      <td>False</td>\n",
       "      <td>Intel</td>\n",
       "      <td>Core i5</td>\n",
       "      <td>226.983009</td>\n",
       "      <td>Intel</td>\n",
       "    </tr>\n",
       "    <tr>\n",
       "      <th>1</th>\n",
       "      <td>Apple</td>\n",
       "      <td>Ultrabook</td>\n",
       "      <td>8</td>\n",
       "      <td>macOS</td>\n",
       "      <td>1.34</td>\n",
       "      <td>47895.5232</td>\n",
       "      <td>Intel Core i5</td>\n",
       "      <td>1.8GHz</td>\n",
       "      <td>NaN</td>\n",
       "      <td>NaN</td>\n",
       "      <td>128.0</td>\n",
       "      <td>NaN</td>\n",
       "      <td>NaN</td>\n",
       "      <td>NaN</td>\n",
       "      <td>Intel</td>\n",
       "      <td>Core i5</td>\n",
       "      <td>127.677938</td>\n",
       "      <td>Intel</td>\n",
       "    </tr>\n",
       "    <tr>\n",
       "      <th>2</th>\n",
       "      <td>HP</td>\n",
       "      <td>Notebook</td>\n",
       "      <td>8</td>\n",
       "      <td>No OS</td>\n",
       "      <td>1.86</td>\n",
       "      <td>30636.0000</td>\n",
       "      <td>Intel Core i5</td>\n",
       "      <td>2.5GHz</td>\n",
       "      <td>256.0</td>\n",
       "      <td>NaN</td>\n",
       "      <td>NaN</td>\n",
       "      <td>NaN</td>\n",
       "      <td>False</td>\n",
       "      <td>False</td>\n",
       "      <td>Intel</td>\n",
       "      <td>Core i5</td>\n",
       "      <td>141.212002</td>\n",
       "      <td>Intel</td>\n",
       "    </tr>\n",
       "  </tbody>\n",
       "</table>\n",
       "</div>"
      ],
      "text/plain": [
       "  Company   TypeName  Ram  OpSys  Weight       Price       Cpu Type Cpu Power  \\\n",
       "0   Apple  Ultrabook    8  macOS    1.37  71378.6832  Intel Core i5    2.3GHz   \n",
       "1   Apple  Ultrabook    8  macOS    1.34  47895.5232  Intel Core i5    1.8GHz   \n",
       "2      HP   Notebook    8  No OS    1.86  30636.0000  Intel Core i5    2.5GHz   \n",
       "\n",
       "     SSD  HDD  Flash Storage  Hybrid    IPS Touchscreen Processor  \\\n",
       "0  128.0  NaN            NaN     NaN   True       False     Intel   \n",
       "1    NaN  NaN          128.0     NaN    NaN         NaN     Intel   \n",
       "2  256.0  NaN            NaN     NaN  False       False     Intel   \n",
       "\n",
       "  Processor Power         PPI Gpu Brand  \n",
       "0         Core i5  226.983009     Intel  \n",
       "1         Core i5  127.677938     Intel  \n",
       "2         Core i5  141.212002     Intel  "
      ]
     },
     "execution_count": 349,
     "metadata": {},
     "output_type": "execute_result"
    }
   ],
   "source": [
    "df_filtered.head(3)"
   ]
  },
  {
   "cell_type": "code",
   "execution_count": 351,
   "id": "19c30b22",
   "metadata": {},
   "outputs": [],
   "source": [
    "# df_filtered.join(df_cpu_type)"
   ]
  },
  {
   "cell_type": "code",
   "execution_count": 352,
   "id": "ced132a2",
   "metadata": {},
   "outputs": [
    {
     "data": {
      "text/html": [
       "<div>\n",
       "<style scoped>\n",
       "    .dataframe tbody tr th:only-of-type {\n",
       "        vertical-align: middle;\n",
       "    }\n",
       "\n",
       "    .dataframe tbody tr th {\n",
       "        vertical-align: top;\n",
       "    }\n",
       "\n",
       "    .dataframe thead th {\n",
       "        text-align: right;\n",
       "    }\n",
       "</style>\n",
       "<table border=\"1\" class=\"dataframe\">\n",
       "  <thead>\n",
       "    <tr style=\"text-align: right;\">\n",
       "      <th></th>\n",
       "      <th>Company</th>\n",
       "      <th>TypeName</th>\n",
       "      <th>Ram</th>\n",
       "      <th>OpSys</th>\n",
       "      <th>Weight</th>\n",
       "      <th>Price</th>\n",
       "      <th>Cpu Type</th>\n",
       "      <th>Cpu Power</th>\n",
       "      <th>SSD</th>\n",
       "      <th>HDD</th>\n",
       "      <th>Flash Storage</th>\n",
       "      <th>Hybrid</th>\n",
       "      <th>IPS</th>\n",
       "      <th>Touchscreen</th>\n",
       "      <th>Processor</th>\n",
       "      <th>Processor Power</th>\n",
       "      <th>PPI</th>\n",
       "      <th>Gpu Brand</th>\n",
       "    </tr>\n",
       "  </thead>\n",
       "  <tbody>\n",
       "    <tr>\n",
       "      <th>0</th>\n",
       "      <td>Apple</td>\n",
       "      <td>Ultrabook</td>\n",
       "      <td>8</td>\n",
       "      <td>macOS</td>\n",
       "      <td>1.37</td>\n",
       "      <td>71378.6832</td>\n",
       "      <td>Intel Core i5</td>\n",
       "      <td>2.3GHz</td>\n",
       "      <td>128.0</td>\n",
       "      <td>NaN</td>\n",
       "      <td>NaN</td>\n",
       "      <td>NaN</td>\n",
       "      <td>True</td>\n",
       "      <td>False</td>\n",
       "      <td>Intel</td>\n",
       "      <td>Core i5</td>\n",
       "      <td>226.983009</td>\n",
       "      <td>Intel</td>\n",
       "    </tr>\n",
       "    <tr>\n",
       "      <th>1</th>\n",
       "      <td>Apple</td>\n",
       "      <td>Ultrabook</td>\n",
       "      <td>8</td>\n",
       "      <td>macOS</td>\n",
       "      <td>1.34</td>\n",
       "      <td>47895.5232</td>\n",
       "      <td>Intel Core i5</td>\n",
       "      <td>1.8GHz</td>\n",
       "      <td>NaN</td>\n",
       "      <td>NaN</td>\n",
       "      <td>128.0</td>\n",
       "      <td>NaN</td>\n",
       "      <td>NaN</td>\n",
       "      <td>NaN</td>\n",
       "      <td>Intel</td>\n",
       "      <td>Core i5</td>\n",
       "      <td>127.677938</td>\n",
       "      <td>Intel</td>\n",
       "    </tr>\n",
       "    <tr>\n",
       "      <th>2</th>\n",
       "      <td>HP</td>\n",
       "      <td>Notebook</td>\n",
       "      <td>8</td>\n",
       "      <td>No OS</td>\n",
       "      <td>1.86</td>\n",
       "      <td>30636.0000</td>\n",
       "      <td>Intel Core i5</td>\n",
       "      <td>2.5GHz</td>\n",
       "      <td>256.0</td>\n",
       "      <td>NaN</td>\n",
       "      <td>NaN</td>\n",
       "      <td>NaN</td>\n",
       "      <td>False</td>\n",
       "      <td>False</td>\n",
       "      <td>Intel</td>\n",
       "      <td>Core i5</td>\n",
       "      <td>141.212002</td>\n",
       "      <td>Intel</td>\n",
       "    </tr>\n",
       "    <tr>\n",
       "      <th>3</th>\n",
       "      <td>Apple</td>\n",
       "      <td>Ultrabook</td>\n",
       "      <td>16</td>\n",
       "      <td>macOS</td>\n",
       "      <td>1.83</td>\n",
       "      <td>135195.3360</td>\n",
       "      <td>Intel Core i7</td>\n",
       "      <td>2.7GHz</td>\n",
       "      <td>512.0</td>\n",
       "      <td>NaN</td>\n",
       "      <td>NaN</td>\n",
       "      <td>NaN</td>\n",
       "      <td>True</td>\n",
       "      <td>False</td>\n",
       "      <td>Intel</td>\n",
       "      <td>Core i7</td>\n",
       "      <td>220.534620</td>\n",
       "      <td>AMD</td>\n",
       "    </tr>\n",
       "    <tr>\n",
       "      <th>4</th>\n",
       "      <td>Apple</td>\n",
       "      <td>Ultrabook</td>\n",
       "      <td>8</td>\n",
       "      <td>macOS</td>\n",
       "      <td>1.37</td>\n",
       "      <td>96095.8080</td>\n",
       "      <td>Intel Core i5</td>\n",
       "      <td>3.1GHz</td>\n",
       "      <td>256.0</td>\n",
       "      <td>NaN</td>\n",
       "      <td>NaN</td>\n",
       "      <td>NaN</td>\n",
       "      <td>True</td>\n",
       "      <td>False</td>\n",
       "      <td>Intel</td>\n",
       "      <td>Core i5</td>\n",
       "      <td>226.983009</td>\n",
       "      <td>Intel</td>\n",
       "    </tr>\n",
       "  </tbody>\n",
       "</table>\n",
       "</div>"
      ],
      "text/plain": [
       "  Company   TypeName  Ram  OpSys  Weight        Price       Cpu Type  \\\n",
       "0   Apple  Ultrabook    8  macOS    1.37   71378.6832  Intel Core i5   \n",
       "1   Apple  Ultrabook    8  macOS    1.34   47895.5232  Intel Core i5   \n",
       "2      HP   Notebook    8  No OS    1.86   30636.0000  Intel Core i5   \n",
       "3   Apple  Ultrabook   16  macOS    1.83  135195.3360  Intel Core i7   \n",
       "4   Apple  Ultrabook    8  macOS    1.37   96095.8080  Intel Core i5   \n",
       "\n",
       "  Cpu Power    SSD  HDD  Flash Storage  Hybrid    IPS Touchscreen Processor  \\\n",
       "0    2.3GHz  128.0  NaN            NaN     NaN   True       False     Intel   \n",
       "1    1.8GHz    NaN  NaN          128.0     NaN    NaN         NaN     Intel   \n",
       "2    2.5GHz  256.0  NaN            NaN     NaN  False       False     Intel   \n",
       "3    2.7GHz  512.0  NaN            NaN     NaN   True       False     Intel   \n",
       "4    3.1GHz  256.0  NaN            NaN     NaN   True       False     Intel   \n",
       "\n",
       "  Processor Power         PPI Gpu Brand  \n",
       "0         Core i5  226.983009     Intel  \n",
       "1         Core i5  127.677938     Intel  \n",
       "2         Core i5  141.212002     Intel  \n",
       "3         Core i7  220.534620       AMD  \n",
       "4         Core i5  226.983009     Intel  "
      ]
     },
     "execution_count": 352,
     "metadata": {},
     "output_type": "execute_result"
    }
   ],
   "source": [
    "df_filtered.head()"
   ]
  },
  {
   "cell_type": "code",
   "execution_count": 355,
   "id": "34640630",
   "metadata": {},
   "outputs": [],
   "source": [
    "# Cpu Power\n",
    "df_filtered['Cpu Power'] = df_filtered['Cpu Power'].str.replace('GHz', '').astype('float32')"
   ]
  },
  {
   "cell_type": "code",
   "execution_count": 514,
   "id": "c823b273",
   "metadata": {},
   "outputs": [],
   "source": [
    "# to keep a backup copy of df\n",
    "df_filtered_copy = df_filtered.copy()\n",
    "# df_filtered = df_filtered_copy.copy()"
   ]
  },
  {
   "cell_type": "code",
   "execution_count": 515,
   "id": "68b0a174",
   "metadata": {},
   "outputs": [],
   "source": [
    "df_filtered.drop(columns=['Processor', 'Processor Power'], inplace=True)"
   ]
  },
  {
   "cell_type": "code",
   "execution_count": 516,
   "id": "ea814cef",
   "metadata": {},
   "outputs": [
    {
     "data": {
      "text/html": [
       "<div>\n",
       "<style scoped>\n",
       "    .dataframe tbody tr th:only-of-type {\n",
       "        vertical-align: middle;\n",
       "    }\n",
       "\n",
       "    .dataframe tbody tr th {\n",
       "        vertical-align: top;\n",
       "    }\n",
       "\n",
       "    .dataframe thead th {\n",
       "        text-align: right;\n",
       "    }\n",
       "</style>\n",
       "<table border=\"1\" class=\"dataframe\">\n",
       "  <thead>\n",
       "    <tr style=\"text-align: right;\">\n",
       "      <th></th>\n",
       "      <th>Company</th>\n",
       "      <th>TypeName</th>\n",
       "      <th>Ram</th>\n",
       "      <th>OpSys</th>\n",
       "      <th>Weight</th>\n",
       "      <th>Price</th>\n",
       "      <th>Cpu Type</th>\n",
       "      <th>Cpu Power</th>\n",
       "      <th>SSD</th>\n",
       "      <th>HDD</th>\n",
       "      <th>Flash Storage</th>\n",
       "      <th>Hybrid</th>\n",
       "      <th>IPS</th>\n",
       "      <th>Touchscreen</th>\n",
       "      <th>PPI</th>\n",
       "      <th>Gpu Brand</th>\n",
       "    </tr>\n",
       "  </thead>\n",
       "  <tbody>\n",
       "    <tr>\n",
       "      <th>0</th>\n",
       "      <td>Apple</td>\n",
       "      <td>Ultrabook</td>\n",
       "      <td>8</td>\n",
       "      <td>macOS</td>\n",
       "      <td>1.37</td>\n",
       "      <td>71378.6832</td>\n",
       "      <td>Intel Core i5</td>\n",
       "      <td>2.3</td>\n",
       "      <td>128.0</td>\n",
       "      <td>NaN</td>\n",
       "      <td>NaN</td>\n",
       "      <td>NaN</td>\n",
       "      <td>True</td>\n",
       "      <td>False</td>\n",
       "      <td>226.983009</td>\n",
       "      <td>Intel</td>\n",
       "    </tr>\n",
       "    <tr>\n",
       "      <th>1</th>\n",
       "      <td>Apple</td>\n",
       "      <td>Ultrabook</td>\n",
       "      <td>8</td>\n",
       "      <td>macOS</td>\n",
       "      <td>1.34</td>\n",
       "      <td>47895.5232</td>\n",
       "      <td>Intel Core i5</td>\n",
       "      <td>1.8</td>\n",
       "      <td>NaN</td>\n",
       "      <td>NaN</td>\n",
       "      <td>128.0</td>\n",
       "      <td>NaN</td>\n",
       "      <td>NaN</td>\n",
       "      <td>NaN</td>\n",
       "      <td>127.677938</td>\n",
       "      <td>Intel</td>\n",
       "    </tr>\n",
       "    <tr>\n",
       "      <th>2</th>\n",
       "      <td>HP</td>\n",
       "      <td>Notebook</td>\n",
       "      <td>8</td>\n",
       "      <td>No OS</td>\n",
       "      <td>1.86</td>\n",
       "      <td>30636.0000</td>\n",
       "      <td>Intel Core i5</td>\n",
       "      <td>2.5</td>\n",
       "      <td>256.0</td>\n",
       "      <td>NaN</td>\n",
       "      <td>NaN</td>\n",
       "      <td>NaN</td>\n",
       "      <td>False</td>\n",
       "      <td>False</td>\n",
       "      <td>141.212002</td>\n",
       "      <td>Intel</td>\n",
       "    </tr>\n",
       "  </tbody>\n",
       "</table>\n",
       "</div>"
      ],
      "text/plain": [
       "  Company   TypeName  Ram  OpSys  Weight       Price       Cpu Type  \\\n",
       "0   Apple  Ultrabook    8  macOS    1.37  71378.6832  Intel Core i5   \n",
       "1   Apple  Ultrabook    8  macOS    1.34  47895.5232  Intel Core i5   \n",
       "2      HP   Notebook    8  No OS    1.86  30636.0000  Intel Core i5   \n",
       "\n",
       "   Cpu Power    SSD  HDD  Flash Storage  Hybrid    IPS Touchscreen  \\\n",
       "0        2.3  128.0  NaN            NaN     NaN   True       False   \n",
       "1        1.8    NaN  NaN          128.0     NaN    NaN         NaN   \n",
       "2        2.5  256.0  NaN            NaN     NaN  False       False   \n",
       "\n",
       "          PPI Gpu Brand  \n",
       "0  226.983009     Intel  \n",
       "1  127.677938     Intel  \n",
       "2  141.212002     Intel  "
      ]
     },
     "execution_count": 516,
     "metadata": {},
     "output_type": "execute_result"
    }
   ],
   "source": [
    "df_filtered.head(3)"
   ]
  },
  {
   "cell_type": "code",
   "execution_count": 517,
   "id": "a349d6b2",
   "metadata": {},
   "outputs": [
    {
     "data": {
      "text/plain": [
       "Dell         297\n",
       "Lenovo       297\n",
       "HP           274\n",
       "Asus         158\n",
       "Acer         103\n",
       "MSI           54\n",
       "Toshiba       48\n",
       "Apple         21\n",
       "Samsung        8\n",
       "Razer          7\n",
       "Mediacom       7\n",
       "Microsoft      6\n",
       "Xiaomi         4\n",
       "Vero           4\n",
       "Chuwi          3\n",
       "Google         3\n",
       "Fujitsu        3\n",
       "LG             3\n",
       "Huawei         2\n",
       "Name: Company, dtype: int64"
      ]
     },
     "execution_count": 517,
     "metadata": {},
     "output_type": "execute_result"
    }
   ],
   "source": [
    "df_filtered['Company'].value_counts()"
   ]
  },
  {
   "cell_type": "code",
   "execution_count": 518,
   "id": "557a072d",
   "metadata": {},
   "outputs": [
    {
     "data": {
      "image/png": "[encoded data removed]",
      "text/plain": [
       "<Figure size 432x288 with 1 Axes>"
      ]
     },
     "metadata": {},
     "output_type": "display_data"
    }
   ],
   "source": [
    "sns.barplot(data=df_filtered, x= 'Company', y='Price', \n",
    "            order=df_filtered.groupby('Company')['Price'].mean().sort_values().index)\n",
    "plt.xticks(rotation='vertical')\n",
    "plt.show()"
   ]
  },
  {
   "cell_type": "code",
   "execution_count": 519,
   "id": "d9e5b191",
   "metadata": {},
   "outputs": [
    {
     "data": {
      "image/png": "[encoded data removed]",
      "text/plain": [
       "<Figure size 432x288 with 1 Axes>"
      ]
     },
     "metadata": {},
     "output_type": "display_data"
    }
   ],
   "source": [
    "sns.barplot(data=df_filtered, x= 'Company', y='Price', \n",
    "            order=df_filtered['Company'].value_counts().index)\n",
    "plt.xticks(rotation='vertical')\n",
    "plt.show()"
   ]
  },
  {
   "cell_type": "code",
   "execution_count": 520,
   "id": "275388a1",
   "metadata": {},
   "outputs": [
    {
     "data": {
      "text/plain": [
       "Company\n",
       "Vero          11584.404000\n",
       "Mediacom      15717.600000\n",
       "Chuwi         16745.726400\n",
       "Acer          33394.615969\n",
       "Fujitsu       38841.120000\n",
       "HP            56891.044222\n",
       "Lenovo        57882.563200\n",
       "Asus          58830.143878\n",
       "Xiaomi        60390.882000\n",
       "Dell          63193.755782\n",
       "Toshiba       67549.050000\n",
       "Huawei        75870.720000\n",
       "Samsung       80332.920000\n",
       "Apple         83340.499886\n",
       "Microsoft     85903.788000\n",
       "Google        89386.080000\n",
       "MSI           92116.226133\n",
       "LG           111834.720000\n",
       "Razer        178282.491429\n",
       "Name: Price, dtype: float64"
      ]
     },
     "execution_count": 520,
     "metadata": {},
     "output_type": "execute_result"
    }
   ],
   "source": [
    "df_filtered.groupby('Company')['Price'].mean().sort_values()"
   ]
  },
  {
   "cell_type": "code",
   "execution_count": 521,
   "id": "a36d6c61",
   "metadata": {},
   "outputs": [],
   "source": [
    "# Company\n",
    "# For Company we can either convert the companies <= 5 to other categories\n",
    "# In the first iteration I am not doing it because the price points for these bottom categories vary alot"
   ]
  },
  {
   "cell_type": "code",
   "execution_count": 522,
   "id": "1372670d",
   "metadata": {},
   "outputs": [],
   "source": [
    "df_filtered = df_filtered.join(df_company)"
   ]
  },
  {
   "cell_type": "code",
   "execution_count": 523,
   "id": "bc2cd21d",
   "metadata": {},
   "outputs": [],
   "source": [
    "# Type Name\n",
    "df_filtered = df_filtered.join(df_TypeName)"
   ]
  },
  {
   "cell_type": "code",
   "execution_count": 524,
   "id": "43d3cb25",
   "metadata": {},
   "outputs": [],
   "source": [
    "# GPU \n",
    "df_filtered = df_filtered.join(df_gpu_brand)"
   ]
  },
  {
   "cell_type": "code",
   "execution_count": 525,
   "id": "dc91d760",
   "metadata": {},
   "outputs": [],
   "source": [
    "# OpSys\n",
    "df_filtered = df_filtered.join(df_OpSys)"
   ]
  },
  {
   "cell_type": "code",
   "execution_count": 526,
   "id": "949073f0",
   "metadata": {},
   "outputs": [
    {
     "data": {
      "text/html": [
       "<div>\n",
       "<style scoped>\n",
       "    .dataframe tbody tr th:only-of-type {\n",
       "        vertical-align: middle;\n",
       "    }\n",
       "\n",
       "    .dataframe tbody tr th {\n",
       "        vertical-align: top;\n",
       "    }\n",
       "\n",
       "    .dataframe thead th {\n",
       "        text-align: right;\n",
       "    }\n",
       "</style>\n",
       "<table border=\"1\" class=\"dataframe\">\n",
       "  <thead>\n",
       "    <tr style=\"text-align: right;\">\n",
       "      <th></th>\n",
       "      <th>Company</th>\n",
       "      <th>TypeName</th>\n",
       "      <th>Ram</th>\n",
       "      <th>OpSys</th>\n",
       "      <th>Weight</th>\n",
       "      <th>Price</th>\n",
       "      <th>Cpu Type</th>\n",
       "      <th>Cpu Power</th>\n",
       "      <th>SSD</th>\n",
       "      <th>HDD</th>\n",
       "      <th>...</th>\n",
       "      <th>Nvidia GPU</th>\n",
       "      <th>macOS</th>\n",
       "      <th>No OS</th>\n",
       "      <th>Windows 10</th>\n",
       "      <th>Mac OS X</th>\n",
       "      <th>Linux</th>\n",
       "      <th>Android</th>\n",
       "      <th>Windows 10 S</th>\n",
       "      <th>Chrome OS</th>\n",
       "      <th>Windows 7</th>\n",
       "    </tr>\n",
       "  </thead>\n",
       "  <tbody>\n",
       "    <tr>\n",
       "      <th>0</th>\n",
       "      <td>Apple</td>\n",
       "      <td>Ultrabook</td>\n",
       "      <td>8</td>\n",
       "      <td>macOS</td>\n",
       "      <td>1.37</td>\n",
       "      <td>71378.6832</td>\n",
       "      <td>Intel Core i5</td>\n",
       "      <td>2.3</td>\n",
       "      <td>128.0</td>\n",
       "      <td>NaN</td>\n",
       "      <td>...</td>\n",
       "      <td>0.0</td>\n",
       "      <td>1.0</td>\n",
       "      <td>0.0</td>\n",
       "      <td>0.0</td>\n",
       "      <td>0.0</td>\n",
       "      <td>0.0</td>\n",
       "      <td>0.0</td>\n",
       "      <td>0.0</td>\n",
       "      <td>0.0</td>\n",
       "      <td>0.0</td>\n",
       "    </tr>\n",
       "    <tr>\n",
       "      <th>1</th>\n",
       "      <td>Apple</td>\n",
       "      <td>Ultrabook</td>\n",
       "      <td>8</td>\n",
       "      <td>macOS</td>\n",
       "      <td>1.34</td>\n",
       "      <td>47895.5232</td>\n",
       "      <td>Intel Core i5</td>\n",
       "      <td>1.8</td>\n",
       "      <td>NaN</td>\n",
       "      <td>NaN</td>\n",
       "      <td>...</td>\n",
       "      <td>0.0</td>\n",
       "      <td>1.0</td>\n",
       "      <td>0.0</td>\n",
       "      <td>0.0</td>\n",
       "      <td>0.0</td>\n",
       "      <td>0.0</td>\n",
       "      <td>0.0</td>\n",
       "      <td>0.0</td>\n",
       "      <td>0.0</td>\n",
       "      <td>0.0</td>\n",
       "    </tr>\n",
       "    <tr>\n",
       "      <th>2</th>\n",
       "      <td>HP</td>\n",
       "      <td>Notebook</td>\n",
       "      <td>8</td>\n",
       "      <td>No OS</td>\n",
       "      <td>1.86</td>\n",
       "      <td>30636.0000</td>\n",
       "      <td>Intel Core i5</td>\n",
       "      <td>2.5</td>\n",
       "      <td>256.0</td>\n",
       "      <td>NaN</td>\n",
       "      <td>...</td>\n",
       "      <td>0.0</td>\n",
       "      <td>0.0</td>\n",
       "      <td>1.0</td>\n",
       "      <td>0.0</td>\n",
       "      <td>0.0</td>\n",
       "      <td>0.0</td>\n",
       "      <td>0.0</td>\n",
       "      <td>0.0</td>\n",
       "      <td>0.0</td>\n",
       "      <td>0.0</td>\n",
       "    </tr>\n",
       "    <tr>\n",
       "      <th>3</th>\n",
       "      <td>Apple</td>\n",
       "      <td>Ultrabook</td>\n",
       "      <td>16</td>\n",
       "      <td>macOS</td>\n",
       "      <td>1.83</td>\n",
       "      <td>135195.3360</td>\n",
       "      <td>Intel Core i7</td>\n",
       "      <td>2.7</td>\n",
       "      <td>512.0</td>\n",
       "      <td>NaN</td>\n",
       "      <td>...</td>\n",
       "      <td>0.0</td>\n",
       "      <td>1.0</td>\n",
       "      <td>0.0</td>\n",
       "      <td>0.0</td>\n",
       "      <td>0.0</td>\n",
       "      <td>0.0</td>\n",
       "      <td>0.0</td>\n",
       "      <td>0.0</td>\n",
       "      <td>0.0</td>\n",
       "      <td>0.0</td>\n",
       "    </tr>\n",
       "    <tr>\n",
       "      <th>4</th>\n",
       "      <td>Apple</td>\n",
       "      <td>Ultrabook</td>\n",
       "      <td>8</td>\n",
       "      <td>macOS</td>\n",
       "      <td>1.37</td>\n",
       "      <td>96095.8080</td>\n",
       "      <td>Intel Core i5</td>\n",
       "      <td>3.1</td>\n",
       "      <td>256.0</td>\n",
       "      <td>NaN</td>\n",
       "      <td>...</td>\n",
       "      <td>0.0</td>\n",
       "      <td>1.0</td>\n",
       "      <td>0.0</td>\n",
       "      <td>0.0</td>\n",
       "      <td>0.0</td>\n",
       "      <td>0.0</td>\n",
       "      <td>0.0</td>\n",
       "      <td>0.0</td>\n",
       "      <td>0.0</td>\n",
       "      <td>0.0</td>\n",
       "    </tr>\n",
       "  </tbody>\n",
       "</table>\n",
       "<p>5 rows × 53 columns</p>\n",
       "</div>"
      ],
      "text/plain": [
       "  Company   TypeName  Ram  OpSys  Weight        Price       Cpu Type  \\\n",
       "0   Apple  Ultrabook    8  macOS    1.37   71378.6832  Intel Core i5   \n",
       "1   Apple  Ultrabook    8  macOS    1.34   47895.5232  Intel Core i5   \n",
       "2      HP   Notebook    8  No OS    1.86   30636.0000  Intel Core i5   \n",
       "3   Apple  Ultrabook   16  macOS    1.83  135195.3360  Intel Core i7   \n",
       "4   Apple  Ultrabook    8  macOS    1.37   96095.8080  Intel Core i5   \n",
       "\n",
       "   Cpu Power    SSD  HDD  ...  Nvidia GPU  macOS No OS Windows 10  Mac OS X  \\\n",
       "0        2.3  128.0  NaN  ...         0.0    1.0   0.0        0.0       0.0   \n",
       "1        1.8    NaN  NaN  ...         0.0    1.0   0.0        0.0       0.0   \n",
       "2        2.5  256.0  NaN  ...         0.0    0.0   1.0        0.0       0.0   \n",
       "3        2.7  512.0  NaN  ...         0.0    1.0   0.0        0.0       0.0   \n",
       "4        3.1  256.0  NaN  ...         0.0    1.0   0.0        0.0       0.0   \n",
       "\n",
       "  Linux  Android  Windows 10 S  Chrome OS  Windows 7  \n",
       "0   0.0      0.0           0.0        0.0        0.0  \n",
       "1   0.0      0.0           0.0        0.0        0.0  \n",
       "2   0.0      0.0           0.0        0.0        0.0  \n",
       "3   0.0      0.0           0.0        0.0        0.0  \n",
       "4   0.0      0.0           0.0        0.0        0.0  \n",
       "\n",
       "[5 rows x 53 columns]"
      ]
     },
     "execution_count": 526,
     "metadata": {},
     "output_type": "execute_result"
    }
   ],
   "source": [
    "df_filtered.head()"
   ]
  },
  {
   "cell_type": "code",
   "execution_count": 527,
   "id": "31662983",
   "metadata": {},
   "outputs": [],
   "source": [
    "# Cpu Type\n",
    "df_filtered = df_filtered.join(df_cpu_type)"
   ]
  },
  {
   "cell_type": "code",
   "execution_count": 528,
   "id": "52272256",
   "metadata": {},
   "outputs": [],
   "source": [
    "values = {'SSD': 0, 'HDD': 0, 'Flash Storage': 0, 'Hybrid':0, 'PPI':0, 'Gpu Brand':0}"
   ]
  },
  {
   "cell_type": "code",
   "execution_count": 529,
   "id": "3f19ef46",
   "metadata": {},
   "outputs": [],
   "source": [
    "# df_filtered[['SSD', 'HDD', 'Flash Storage', 'Hybrid', 'IPS','Touchscreen', 'PPI', 'Gpu Brand']].fillna(0, inplace=True)"
   ]
  },
  {
   "cell_type": "code",
   "execution_count": 530,
   "id": "eaaa4e58",
   "metadata": {},
   "outputs": [],
   "source": [
    "df_filtered.fillna(value=values, inplace=True)"
   ]
  },
  {
   "cell_type": "code",
   "execution_count": 531,
   "id": "051ddfb6",
   "metadata": {},
   "outputs": [],
   "source": [
    "values_false = {'IPS':False,'Touchscreen':False}"
   ]
  },
  {
   "cell_type": "code",
   "execution_count": 532,
   "id": "c43ec155",
   "metadata": {},
   "outputs": [],
   "source": [
    "df_filtered.fillna(value=values_false, inplace=True)"
   ]
  },
  {
   "cell_type": "code",
   "execution_count": 533,
   "id": "5852128a",
   "metadata": {},
   "outputs": [],
   "source": [
    "df_filtered.drop(columns='Cpu Type', inplace=True)"
   ]
  },
  {
   "cell_type": "code",
   "execution_count": 534,
   "id": "d6681094",
   "metadata": {},
   "outputs": [],
   "source": [
    "df_filtered.drop(columns=['Company', 'TypeName', 'OpSys'], inplace=True)"
   ]
  },
  {
   "cell_type": "code",
   "execution_count": 546,
   "id": "5a0184c9",
   "metadata": {},
   "outputs": [],
   "source": [
    "df_filtered.drop(columns=['Gpu Brand'], inplace=True)"
   ]
  },
  {
   "cell_type": "code",
   "execution_count": 547,
   "id": "544cddcd",
   "metadata": {},
   "outputs": [
    {
     "data": {
      "text/plain": [
       "Index(['Ram', 'Weight', 'Price', 'Cpu Power', 'SSD', 'HDD', 'Flash Storage',\n",
       "       'Hybrid', 'IPS', 'Touchscreen', 'PPI', 'Apple', 'HP', 'Acer', 'Asus',\n",
       "       'Dell', 'Lenovo', 'Chuwi', 'MSI', 'Microsoft', 'Toshiba', 'Huawei',\n",
       "       'Xiaomi', 'Vero', 'Razer', 'Mediacom', 'Samsung', 'Google', 'Fujitsu',\n",
       "       'LG', 'Ultrabook', 'Notebook', 'Netbook', 'Gaming',\n",
       "       '2 in 1 Convertible', 'Workstation', 'Intel GPU', 'AMD GPU',\n",
       "       'Nvidia GPU', 'macOS', 'No OS', 'Windows 10', 'Mac OS X', 'Linux',\n",
       "       'Android', 'Windows 10 S', 'Chrome OS', 'Windows 7', 'Intel Core i5',\n",
       "       'Intel Core i7', 'AMD', 'Intel Core i3', 'Other Intel'],\n",
       "      dtype='object')"
      ]
     },
     "execution_count": 547,
     "metadata": {},
     "output_type": "execute_result"
    }
   ],
   "source": [
    "df_filtered.columns"
   ]
  },
  {
   "cell_type": "code",
   "execution_count": 548,
   "id": "cad203d5",
   "metadata": {},
   "outputs": [],
   "source": [
    "df_filtered['Touchscreen'] = df_filtered['Touchscreen'].apply(lambda x: False if x == 0 else x)"
   ]
  },
  {
   "cell_type": "code",
   "execution_count": 549,
   "id": "690529bd",
   "metadata": {},
   "outputs": [],
   "source": [
    "df_filtered['IPS'] = df_filtered['IPS'].apply(lambda x: False if x == 0 else x)"
   ]
  },
  {
   "cell_type": "code",
   "execution_count": 550,
   "id": "76469fd0",
   "metadata": {},
   "outputs": [
    {
     "data": {
      "text/html": [
       "<div>\n",
       "<style scoped>\n",
       "    .dataframe tbody tr th:only-of-type {\n",
       "        vertical-align: middle;\n",
       "    }\n",
       "\n",
       "    .dataframe tbody tr th {\n",
       "        vertical-align: top;\n",
       "    }\n",
       "\n",
       "    .dataframe thead th {\n",
       "        text-align: right;\n",
       "    }\n",
       "</style>\n",
       "<table border=\"1\" class=\"dataframe\">\n",
       "  <thead>\n",
       "    <tr style=\"text-align: right;\">\n",
       "      <th></th>\n",
       "      <th>Ram</th>\n",
       "      <th>Weight</th>\n",
       "      <th>Price</th>\n",
       "      <th>Cpu Power</th>\n",
       "      <th>SSD</th>\n",
       "      <th>HDD</th>\n",
       "      <th>Flash Storage</th>\n",
       "      <th>Hybrid</th>\n",
       "      <th>IPS</th>\n",
       "      <th>Touchscreen</th>\n",
       "      <th>...</th>\n",
       "      <th>Linux</th>\n",
       "      <th>Android</th>\n",
       "      <th>Windows 10 S</th>\n",
       "      <th>Chrome OS</th>\n",
       "      <th>Windows 7</th>\n",
       "      <th>Intel Core i5</th>\n",
       "      <th>Intel Core i7</th>\n",
       "      <th>AMD</th>\n",
       "      <th>Intel Core i3</th>\n",
       "      <th>Other Intel</th>\n",
       "    </tr>\n",
       "  </thead>\n",
       "  <tbody>\n",
       "    <tr>\n",
       "      <th>0</th>\n",
       "      <td>8</td>\n",
       "      <td>1.37</td>\n",
       "      <td>71378.6832</td>\n",
       "      <td>2.3</td>\n",
       "      <td>128.0</td>\n",
       "      <td>0.0</td>\n",
       "      <td>0.0</td>\n",
       "      <td>0.0</td>\n",
       "      <td>True</td>\n",
       "      <td>False</td>\n",
       "      <td>...</td>\n",
       "      <td>0.0</td>\n",
       "      <td>0.0</td>\n",
       "      <td>0.0</td>\n",
       "      <td>0.0</td>\n",
       "      <td>0.0</td>\n",
       "      <td>1.0</td>\n",
       "      <td>0.0</td>\n",
       "      <td>0.0</td>\n",
       "      <td>0.0</td>\n",
       "      <td>0.0</td>\n",
       "    </tr>\n",
       "    <tr>\n",
       "      <th>1</th>\n",
       "      <td>8</td>\n",
       "      <td>1.34</td>\n",
       "      <td>47895.5232</td>\n",
       "      <td>1.8</td>\n",
       "      <td>0.0</td>\n",
       "      <td>0.0</td>\n",
       "      <td>128.0</td>\n",
       "      <td>0.0</td>\n",
       "      <td>False</td>\n",
       "      <td>False</td>\n",
       "      <td>...</td>\n",
       "      <td>0.0</td>\n",
       "      <td>0.0</td>\n",
       "      <td>0.0</td>\n",
       "      <td>0.0</td>\n",
       "      <td>0.0</td>\n",
       "      <td>1.0</td>\n",
       "      <td>0.0</td>\n",
       "      <td>0.0</td>\n",
       "      <td>0.0</td>\n",
       "      <td>0.0</td>\n",
       "    </tr>\n",
       "    <tr>\n",
       "      <th>2</th>\n",
       "      <td>8</td>\n",
       "      <td>1.86</td>\n",
       "      <td>30636.0000</td>\n",
       "      <td>2.5</td>\n",
       "      <td>256.0</td>\n",
       "      <td>0.0</td>\n",
       "      <td>0.0</td>\n",
       "      <td>0.0</td>\n",
       "      <td>False</td>\n",
       "      <td>False</td>\n",
       "      <td>...</td>\n",
       "      <td>0.0</td>\n",
       "      <td>0.0</td>\n",
       "      <td>0.0</td>\n",
       "      <td>0.0</td>\n",
       "      <td>0.0</td>\n",
       "      <td>1.0</td>\n",
       "      <td>0.0</td>\n",
       "      <td>0.0</td>\n",
       "      <td>0.0</td>\n",
       "      <td>0.0</td>\n",
       "    </tr>\n",
       "    <tr>\n",
       "      <th>3</th>\n",
       "      <td>16</td>\n",
       "      <td>1.83</td>\n",
       "      <td>135195.3360</td>\n",
       "      <td>2.7</td>\n",
       "      <td>512.0</td>\n",
       "      <td>0.0</td>\n",
       "      <td>0.0</td>\n",
       "      <td>0.0</td>\n",
       "      <td>True</td>\n",
       "      <td>False</td>\n",
       "      <td>...</td>\n",
       "      <td>0.0</td>\n",
       "      <td>0.0</td>\n",
       "      <td>0.0</td>\n",
       "      <td>0.0</td>\n",
       "      <td>0.0</td>\n",
       "      <td>0.0</td>\n",
       "      <td>1.0</td>\n",
       "      <td>0.0</td>\n",
       "      <td>0.0</td>\n",
       "      <td>0.0</td>\n",
       "    </tr>\n",
       "    <tr>\n",
       "      <th>4</th>\n",
       "      <td>8</td>\n",
       "      <td>1.37</td>\n",
       "      <td>96095.8080</td>\n",
       "      <td>3.1</td>\n",
       "      <td>256.0</td>\n",
       "      <td>0.0</td>\n",
       "      <td>0.0</td>\n",
       "      <td>0.0</td>\n",
       "      <td>True</td>\n",
       "      <td>False</td>\n",
       "      <td>...</td>\n",
       "      <td>0.0</td>\n",
       "      <td>0.0</td>\n",
       "      <td>0.0</td>\n",
       "      <td>0.0</td>\n",
       "      <td>0.0</td>\n",
       "      <td>1.0</td>\n",
       "      <td>0.0</td>\n",
       "      <td>0.0</td>\n",
       "      <td>0.0</td>\n",
       "      <td>0.0</td>\n",
       "    </tr>\n",
       "  </tbody>\n",
       "</table>\n",
       "<p>5 rows × 53 columns</p>\n",
       "</div>"
      ],
      "text/plain": [
       "   Ram  Weight        Price  Cpu Power    SSD  HDD  Flash Storage  Hybrid  \\\n",
       "0    8    1.37   71378.6832        2.3  128.0  0.0            0.0     0.0   \n",
       "1    8    1.34   47895.5232        1.8    0.0  0.0          128.0     0.0   \n",
       "2    8    1.86   30636.0000        2.5  256.0  0.0            0.0     0.0   \n",
       "3   16    1.83  135195.3360        2.7  512.0  0.0            0.0     0.0   \n",
       "4    8    1.37   96095.8080        3.1  256.0  0.0            0.0     0.0   \n",
       "\n",
       "     IPS  Touchscreen  ...  Linux  Android  Windows 10 S  Chrome OS  \\\n",
       "0   True        False  ...    0.0      0.0           0.0        0.0   \n",
       "1  False        False  ...    0.0      0.0           0.0        0.0   \n",
       "2  False        False  ...    0.0      0.0           0.0        0.0   \n",
       "3   True        False  ...    0.0      0.0           0.0        0.0   \n",
       "4   True        False  ...    0.0      0.0           0.0        0.0   \n",
       "\n",
       "   Windows 7  Intel Core i5  Intel Core i7  AMD  Intel Core i3  Other Intel  \n",
       "0        0.0            1.0            0.0  0.0            0.0          0.0  \n",
       "1        0.0            1.0            0.0  0.0            0.0          0.0  \n",
       "2        0.0            1.0            0.0  0.0            0.0          0.0  \n",
       "3        0.0            0.0            1.0  0.0            0.0          0.0  \n",
       "4        0.0            1.0            0.0  0.0            0.0          0.0  \n",
       "\n",
       "[5 rows x 53 columns]"
      ]
     },
     "execution_count": 550,
     "metadata": {},
     "output_type": "execute_result"
    }
   ],
   "source": [
    "df_filtered.head()"
   ]
  },
  {
   "cell_type": "code",
   "execution_count": 551,
   "id": "594809d4",
   "metadata": {},
   "outputs": [],
   "source": [
    "X = df_filtered.drop('Price', axis=1).copy()\n",
    "y = df_filtered['Price'].copy()"
   ]
  },
  {
   "cell_type": "code",
   "execution_count": 552,
   "id": "a7b49775",
   "metadata": {},
   "outputs": [],
   "source": [
    "from sklearn.model_selection import train_test_split\n",
    "from sklearn.linear_model import LinearRegression"
   ]
  },
  {
   "cell_type": "code",
   "execution_count": 553,
   "id": "c53e0e38",
   "metadata": {},
   "outputs": [],
   "source": [
    "X_train, X_test, y_train, y_test = train_test_split(X,y,test_size=0.3, random_state=36)"
   ]
  },
  {
   "cell_type": "code",
   "execution_count": 554,
   "id": "c2245ffa",
   "metadata": {},
   "outputs": [],
   "source": [
    "model = LinearRegression()"
   ]
  },
  {
   "cell_type": "code",
   "execution_count": 555,
   "id": "559078b7",
   "metadata": {},
   "outputs": [
    {
     "data": {
      "text/plain": [
       "LinearRegression()"
      ]
     },
     "execution_count": 555,
     "metadata": {},
     "output_type": "execute_result"
    }
   ],
   "source": [
    "model.fit(X_train, y_train)"
   ]
  },
  {
   "cell_type": "code",
   "execution_count": 556,
   "id": "313878bd",
   "metadata": {},
   "outputs": [],
   "source": [
    "predictions = model.predict(X_test)"
   ]
  },
  {
   "cell_type": "code",
   "execution_count": 560,
   "id": "fafaaef2",
   "metadata": {},
   "outputs": [],
   "source": [
    "from sklearn.metrics import r2_score"
   ]
  },
  {
   "cell_type": "code",
   "execution_count": 561,
   "id": "5bc371df",
   "metadata": {},
   "outputs": [
    {
     "name": "stdout",
     "output_type": "stream",
     "text": [
      "0.7267681796459298\n"
     ]
    }
   ],
   "source": [
    "print(r2_score(predictions, y_test.values))"
   ]
  },
  {
   "cell_type": "code",
   "execution_count": 562,
   "id": "9390aa08",
   "metadata": {},
   "outputs": [
    {
     "name": "stdout",
     "output_type": "stream",
     "text": [
      "0.7818706317760264\n"
     ]
    }
   ],
   "source": [
    "print(r2_score(y_test.values, predictions))"
   ]
  },
  {
   "cell_type": "code",
   "execution_count": 578,
   "id": "19481552",
   "metadata": {},
   "outputs": [
    {
     "data": {
      "text/plain": [
       "<AxesSubplot:>"
      ]
     },
     "execution_count": 578,
     "metadata": {},
     "output_type": "execute_result"
    },
    {
     "data": {
      "image/png": "[encoded data removed]",
      "text/plain": [
       "<Figure size 432x288 with 1 Axes>"
      ]
     },
     "metadata": {},
     "output_type": "display_data"
    }
   ],
   "source": [
    "sns.lineplot(y = predictions, x = [i for i in range(0,len(predictions))])"
   ]
  },
  {
   "cell_type": "code",
   "execution_count": 577,
   "id": "83200ec9",
   "metadata": {},
   "outputs": [
    {
     "data": {
      "text/plain": [
       "<AxesSubplot:ylabel='Price'>"
      ]
     },
     "execution_count": 577,
     "metadata": {},
     "output_type": "execute_result"
    },
    {
     "data": {
      "image/png": "[encoded data removed]",
      "text/plain": [
       "<Figure size 432x288 with 1 Axes>"
      ]
     },
     "metadata": {},
     "output_type": "display_data"
    }
   ],
   "source": [
    "sns.lineplot(y = y_test, x = [i for i in range(0,len(y_test))])"
   ]
  },
  {
   "cell_type": "code",
   "execution_count": 580,
   "id": "f73a9b2f",
   "metadata": {},
   "outputs": [],
   "source": [
    "prediction_series = pd.Series(predictions, index=y_test.index)"
   ]
  },
  {
   "cell_type": "code",
   "execution_count": 582,
   "id": "2abe6d65",
   "metadata": {},
   "outputs": [
    {
     "data": {
      "text/plain": [
       "31   -5977.029584\n",
       "dtype: float64"
      ]
     },
     "execution_count": 582,
     "metadata": {},
     "output_type": "execute_result"
    }
   ],
   "source": [
    "prediction_series[prediction_series < 0]"
   ]
  },
  {
   "cell_type": "code",
   "execution_count": 586,
   "id": "14d72f8b",
   "metadata": {
    "scrolled": true
   },
   "outputs": [
    {
     "data": {
      "text/plain": [
       "Ram                            2\n",
       "Weight                      1.65\n",
       "Cpu Power                    1.5\n",
       "SSD                          0.0\n",
       "HDD                          0.0\n",
       "Flash Storage               32.0\n",
       "Hybrid                       0.0\n",
       "IPS                        False\n",
       "Touchscreen                False\n",
       "PPI                   111.935207\n",
       "Apple                        0.0\n",
       "HP                           0.0\n",
       "Acer                         0.0\n",
       "Asus                         1.0\n",
       "Dell                         0.0\n",
       "Lenovo                       0.0\n",
       "Chuwi                        0.0\n",
       "MSI                          0.0\n",
       "Microsoft                    0.0\n",
       "Toshiba                      0.0\n",
       "Huawei                       0.0\n",
       "Xiaomi                       0.0\n",
       "Vero                         0.0\n",
       "Razer                        0.0\n",
       "Mediacom                     0.0\n",
       "Samsung                      0.0\n",
       "Google                       0.0\n",
       "Fujitsu                      0.0\n",
       "LG                           0.0\n",
       "Ultrabook                    0.0\n",
       "Notebook                     1.0\n",
       "Netbook                      0.0\n",
       "Gaming                       0.0\n",
       "2 in 1 Convertible           0.0\n",
       "Workstation                  0.0\n",
       "Intel GPU                    0.0\n",
       "AMD GPU                      1.0\n",
       "Nvidia GPU                   0.0\n",
       "macOS                        0.0\n",
       "No OS                        0.0\n",
       "Windows 10                   1.0\n",
       "Mac OS X                     0.0\n",
       "Linux                        0.0\n",
       "Android                      0.0\n",
       "Windows 10 S                 0.0\n",
       "Chrome OS                    0.0\n",
       "Windows 7                    0.0\n",
       "Intel Core i5                0.0\n",
       "Intel Core i7                0.0\n",
       "AMD                          1.0\n",
       "Intel Core i3                0.0\n",
       "Other Intel                  0.0\n",
       "Name: 31, dtype: object"
      ]
     },
     "execution_count": 586,
     "metadata": {},
     "output_type": "execute_result"
    }
   ],
   "source": [
    "X_test.loc[31]"
   ]
  },
  {
   "cell_type": "code",
   "execution_count": 587,
   "id": "6b439c9c",
   "metadata": {},
   "outputs": [
    {
     "data": {
      "text/plain": [
       "10602.72"
      ]
     },
     "execution_count": 587,
     "metadata": {},
     "output_type": "execute_result"
    }
   ],
   "source": [
    "y_test[31]"
   ]
  },
  {
   "cell_type": "code",
   "execution_count": 590,
   "id": "f127b1c1",
   "metadata": {},
   "outputs": [
    {
     "data": {
      "text/plain": [
       "<seaborn.axisgrid.FacetGrid at 0x7f7eb4295cd0>"
      ]
     },
     "execution_count": 590,
     "metadata": {},
     "output_type": "execute_result"
    },
    {
     "data": {
      "image/png": "[encoded data removed]",
      "text/plain": [
       "<Figure size 360x360 with 1 Axes>"
      ]
     },
     "metadata": {},
     "output_type": "display_data"
    }
   ],
   "source": [
    "sns.displot(df_filtered['Price'])\n",
    "# The values are skewed. it can disturb the algorithm and hence we need to scale the values..."
   ]
  },
  {
   "cell_type": "code",
   "execution_count": 591,
   "id": "8605b85d",
   "metadata": {},
   "outputs": [
    {
     "data": {
      "text/plain": [
       "<seaborn.axisgrid.FacetGrid at 0x7f7eb4b9ca00>"
      ]
     },
     "execution_count": 591,
     "metadata": {},
     "output_type": "execute_result"
    },
    {
     "data": {
      "image/png": "[encoded data removed]",
      "text/plain": [
       "<Figure size 360x360 with 1 Axes>"
      ]
     },
     "metadata": {},
     "output_type": "display_data"
    }
   ],
   "source": [
    "sns.displot(np.log(df_filtered['Price']))\n",
    "# Now it's a bit normal..."
   ]
  },
  {
   "cell_type": "code",
   "execution_count": 592,
   "id": "e505a76f",
   "metadata": {},
   "outputs": [],
   "source": [
    "# Skewed Price - what issue it creates?\n",
    "# skewed data points are treated as outlier from the tail region and outlier are not good for model performance\n",
    "# a skewed data can be an issue for the model because it can disturb the model performance / will be treated\n",
    "# as an outlier. Tree based models are robust enough towards extreme values and having such models can handle \n",
    "# the extreme values / outliers."
   ]
  },
  {
   "cell_type": "code",
   "execution_count": 593,
   "id": "f5da1451",
   "metadata": {},
   "outputs": [],
   "source": [
    "# Since we're using a couple of linear model models, it's better to normalize the data using log transformation\n"
   ]
  },
  {
   "cell_type": "code",
   "execution_count": 594,
   "id": "543b9c93",
   "metadata": {},
   "outputs": [],
   "source": [
    "df_filtered['Price Normalized'] = np.log(df_filtered['Price'])"
   ]
  },
  {
   "cell_type": "code",
   "execution_count": 596,
   "id": "b4396668",
   "metadata": {},
   "outputs": [
    {
     "data": {
      "text/plain": [
       "<seaborn.axisgrid.FacetGrid at 0x7f7eb4e6d760>"
      ]
     },
     "execution_count": 596,
     "metadata": {},
     "output_type": "execute_result"
    },
    {
     "data": {
      "image/png": "[encoded data removed]",
      "text/plain": [
       "<Figure size 360x360 with 1 Axes>"
      ]
     },
     "metadata": {},
     "output_type": "display_data"
    }
   ],
   "source": [
    "sns.displot(df_filtered['Price Normalized'])"
   ]
  },
  {
   "cell_type": "code",
   "execution_count": 597,
   "id": "fa2ee059",
   "metadata": {},
   "outputs": [],
   "source": [
    "X_normalized = df_filtered.drop(columns=['Price', 'Price Normalized'])\n",
    "y_normalized = df_filtered['Price Normalized']"
   ]
  },
  {
   "cell_type": "code",
   "execution_count": 598,
   "id": "bc0a927d",
   "metadata": {},
   "outputs": [],
   "source": [
    "X_train, X_test, y_train, y_test = train_test_split(X_normalized, y_normalized, test_size=0.3, random_state=36)"
   ]
  },
  {
   "cell_type": "code",
   "execution_count": 599,
   "id": "09dfa35e",
   "metadata": {},
   "outputs": [],
   "source": [
    "model_normalized = LinearRegression()"
   ]
  },
  {
   "cell_type": "code",
   "execution_count": 600,
   "id": "6bc25b0b",
   "metadata": {},
   "outputs": [
    {
     "data": {
      "text/plain": [
       "LinearRegression()"
      ]
     },
     "execution_count": 600,
     "metadata": {},
     "output_type": "execute_result"
    }
   ],
   "source": [
    "model_normalized.fit(X_train, y_train)"
   ]
  },
  {
   "cell_type": "code",
   "execution_count": 601,
   "id": "e01fd1f0",
   "metadata": {},
   "outputs": [],
   "source": [
    "predictions_normalized = model_normalized.predict(X_test)"
   ]
  },
  {
   "cell_type": "code",
   "execution_count": 608,
   "id": "bdc18bb1",
   "metadata": {},
   "outputs": [
    {
     "name": "stdout",
     "output_type": "stream",
     "text": [
      "0.827679028625391\n"
     ]
    }
   ],
   "source": [
    "print(r2_score(y_test, predictions_normalized))"
   ]
  },
  {
   "cell_type": "code",
   "execution_count": 605,
   "id": "db983898",
   "metadata": {},
   "outputs": [],
   "source": [
    "# R2 Score\n",
    "# Sum of squared Regression Explained / Sum of Squared Regression Total\n",
    "# SS (explained) / SS (total)\n",
    "# 1 - Rss / Tss"
   ]
  },
  {
   "cell_type": "code",
   "execution_count": 611,
   "id": "7890245c",
   "metadata": {},
   "outputs": [],
   "source": [
    "RSS = sum((y_test - predictions_normalized)**2)\n",
    "# sum of square of Residuals"
   ]
  },
  {
   "cell_type": "code",
   "execution_count": 616,
   "id": "b4a6b408",
   "metadata": {},
   "outputs": [],
   "source": [
    "TSS = sum((y_test - y_test.mean())**2)\n",
    "# Total sum of Squares"
   ]
  },
  {
   "cell_type": "code",
   "execution_count": 618,
   "id": "25aa3c1e",
   "metadata": {},
   "outputs": [
    {
     "data": {
      "text/plain": [
       "0.8276790286253908"
      ]
     },
     "execution_count": 618,
     "metadata": {},
     "output_type": "execute_result"
    }
   ],
   "source": [
    "1 - (RSS / TSS)"
   ]
  },
  {
   "cell_type": "code",
   "execution_count": 620,
   "id": "7ebc905c",
   "metadata": {},
   "outputs": [],
   "source": [
    "# 0.8276790286253908\n",
    "# 0.827679028625391"
   ]
  },
  {
   "cell_type": "code",
   "execution_count": 621,
   "id": "a4053c64",
   "metadata": {},
   "outputs": [],
   "source": [
    "from sklearn.metrics import mean_absolute_error"
   ]
  },
  {
   "cell_type": "code",
   "execution_count": 622,
   "id": "cb4f1ce8",
   "metadata": {},
   "outputs": [
    {
     "data": {
      "text/plain": [
       "0.19443895594695207"
      ]
     },
     "execution_count": 622,
     "metadata": {},
     "output_type": "execute_result"
    }
   ],
   "source": [
    "mean_absolute_error(y_test, predictions_normalized)"
   ]
  },
  {
   "cell_type": "code",
   "execution_count": 630,
   "id": "d4a924b9",
   "metadata": {},
   "outputs": [
    {
     "data": {
      "text/plain": [
       "array([], dtype=float64)"
      ]
     },
     "execution_count": 630,
     "metadata": {},
     "output_type": "execute_result"
    }
   ],
   "source": [
    "predictions_normalized[np.exp(predictions_normalized) < 5000]"
   ]
  },
  {
   "cell_type": "code",
   "execution_count": 637,
   "id": "eec91fe1",
   "metadata": {},
   "outputs": [
    {
     "data": {
      "text/plain": [
       "31     9.268866\n",
       "290    9.268866\n",
       "20     9.232535\n",
       "Name: Price Normalized, dtype: float64"
      ]
     },
     "execution_count": 637,
     "metadata": {},
     "output_type": "execute_result"
    }
   ],
   "source": [
    "y_test[np.exp(y_test) < 11000]"
   ]
  },
  {
   "cell_type": "code",
   "execution_count": 638,
   "id": "e2114420",
   "metadata": {},
   "outputs": [
    {
     "data": {
      "text/plain": [
       "10602.72158026527"
      ]
     },
     "execution_count": 638,
     "metadata": {},
     "output_type": "execute_result"
    }
   ],
   "source": [
    "np.exp(9.268866)"
   ]
  },
  {
   "cell_type": "code",
   "execution_count": 640,
   "id": "b198fbcb",
   "metadata": {},
   "outputs": [
    {
     "data": {
      "text/plain": [
       "9270.72"
      ]
     },
     "execution_count": 640,
     "metadata": {},
     "output_type": "execute_result"
    }
   ],
   "source": [
    "df_filtered['Price'].min()"
   ]
  },
  {
   "cell_type": "code",
   "execution_count": 642,
   "id": "cad506ac",
   "metadata": {},
   "outputs": [
    {
     "data": {
      "text/plain": [
       "9270.720000000001"
      ]
     },
     "execution_count": 642,
     "metadata": {},
     "output_type": "execute_result"
    }
   ],
   "source": [
    "np.exp(df_filtered['Price Normalized'].min())"
   ]
  },
  {
   "cell_type": "code",
   "execution_count": 644,
   "id": "02fa4641",
   "metadata": {},
   "outputs": [
    {
     "data": {
      "text/html": [
       "<div>\n",
       "<style scoped>\n",
       "    .dataframe tbody tr th:only-of-type {\n",
       "        vertical-align: middle;\n",
       "    }\n",
       "\n",
       "    .dataframe tbody tr th {\n",
       "        vertical-align: top;\n",
       "    }\n",
       "\n",
       "    .dataframe thead th {\n",
       "        text-align: right;\n",
       "    }\n",
       "</style>\n",
       "<table border=\"1\" class=\"dataframe\">\n",
       "  <thead>\n",
       "    <tr style=\"text-align: right;\">\n",
       "      <th></th>\n",
       "      <th>Ram</th>\n",
       "      <th>Weight</th>\n",
       "      <th>Price</th>\n",
       "      <th>Cpu Power</th>\n",
       "      <th>SSD</th>\n",
       "      <th>HDD</th>\n",
       "      <th>Flash Storage</th>\n",
       "      <th>Hybrid</th>\n",
       "      <th>IPS</th>\n",
       "      <th>Touchscreen</th>\n",
       "      <th>...</th>\n",
       "      <th>Android</th>\n",
       "      <th>Windows 10 S</th>\n",
       "      <th>Chrome OS</th>\n",
       "      <th>Windows 7</th>\n",
       "      <th>Intel Core i5</th>\n",
       "      <th>Intel Core i7</th>\n",
       "      <th>AMD</th>\n",
       "      <th>Intel Core i3</th>\n",
       "      <th>Other Intel</th>\n",
       "      <th>Price Normalized</th>\n",
       "    </tr>\n",
       "  </thead>\n",
       "  <tbody>\n",
       "    <tr>\n",
       "      <th>1215</th>\n",
       "      <td>2</td>\n",
       "      <td>1.3</td>\n",
       "      <td>9270.72</td>\n",
       "      <td>1.5</td>\n",
       "      <td>32.0</td>\n",
       "      <td>0.0</td>\n",
       "      <td>0.0</td>\n",
       "      <td>0.0</td>\n",
       "      <td>False</td>\n",
       "      <td>False</td>\n",
       "      <td>...</td>\n",
       "      <td>0.0</td>\n",
       "      <td>0.0</td>\n",
       "      <td>1.0</td>\n",
       "      <td>0.0</td>\n",
       "      <td>0.0</td>\n",
       "      <td>0.0</td>\n",
       "      <td>0.0</td>\n",
       "      <td>0.0</td>\n",
       "      <td>1.0</td>\n",
       "      <td>9.134616</td>\n",
       "    </tr>\n",
       "  </tbody>\n",
       "</table>\n",
       "<p>1 rows × 54 columns</p>\n",
       "</div>"
      ],
      "text/plain": [
       "      Ram  Weight    Price  Cpu Power   SSD  HDD  Flash Storage  Hybrid  \\\n",
       "1215    2     1.3  9270.72        1.5  32.0  0.0            0.0     0.0   \n",
       "\n",
       "        IPS  Touchscreen  ...  Android  Windows 10 S  Chrome OS  Windows 7  \\\n",
       "1215  False        False  ...      0.0           0.0        1.0        0.0   \n",
       "\n",
       "      Intel Core i5  Intel Core i7  AMD  Intel Core i3  Other Intel  \\\n",
       "1215            0.0            0.0  0.0            0.0          1.0   \n",
       "\n",
       "      Price Normalized  \n",
       "1215          9.134616  \n",
       "\n",
       "[1 rows x 54 columns]"
      ]
     },
     "execution_count": 644,
     "metadata": {},
     "output_type": "execute_result"
    }
   ],
   "source": [
    "df_filtered[df_filtered['Price'] <= 9270.72]"
   ]
  },
  {
   "cell_type": "code",
   "execution_count": 655,
   "id": "d9aa8777",
   "metadata": {},
   "outputs": [
    {
     "data": {
      "text/plain": [
       "31     10602.720\n",
       "290    10602.720\n",
       "20     10224.432\n",
       "Name: Price Normalized, dtype: float64"
      ]
     },
     "execution_count": 655,
     "metadata": {},
     "output_type": "execute_result"
    }
   ],
   "source": [
    "np.exp(y_test[np.exp(y_test) < 11000])"
   ]
  },
  {
   "cell_type": "code",
   "execution_count": 650,
   "id": "dda97b91",
   "metadata": {},
   "outputs": [],
   "source": [
    "predictions_normalized_series = pd.Series(predictions_normalized, index=y_test.index)"
   ]
  },
  {
   "cell_type": "code",
   "execution_count": 654,
   "id": "c52cee2f",
   "metadata": {},
   "outputs": [
    {
     "data": {
      "text/plain": [
       "31     17899.092153\n",
       "290    16057.262911\n",
       "20     18016.931010\n",
       "dtype: float64"
      ]
     },
     "execution_count": 654,
     "metadata": {},
     "output_type": "execute_result"
    }
   ],
   "source": [
    "np.exp(predictions_normalized_series.loc[[31,290,20]])"
   ]
  },
  {
   "cell_type": "code",
   "execution_count": 656,
   "id": "12e26e21",
   "metadata": {},
   "outputs": [
    {
     "data": {
      "text/plain": [
       "337     60952.320\n",
       "426     60867.072\n",
       "1284    33992.640\n",
       "573     44222.400\n",
       "582     38308.320\n",
       "          ...    \n",
       "344     84129.120\n",
       "183     42251.040\n",
       "1183    17742.240\n",
       "549     92121.120\n",
       "234     36709.920\n",
       "Name: Price Normalized, Length: 391, dtype: float64"
      ]
     },
     "execution_count": 656,
     "metadata": {},
     "output_type": "execute_result"
    }
   ],
   "source": [
    "np.exp(y_test)"
   ]
  },
  {
   "cell_type": "code",
   "execution_count": 657,
   "id": "4cd39571",
   "metadata": {},
   "outputs": [
    {
     "data": {
      "text/plain": [
       "337     53205.450188\n",
       "426     48996.793207\n",
       "1284    56985.052116\n",
       "573     50073.326004\n",
       "582     34620.291844\n",
       "            ...     \n",
       "344     63465.107344\n",
       "183     50418.738705\n",
       "1183    18403.787650\n",
       "549     67210.594855\n",
       "234     56560.288286\n",
       "Length: 391, dtype: float64"
      ]
     },
     "execution_count": 657,
     "metadata": {},
     "output_type": "execute_result"
    }
   ],
   "source": [
    "np.exp(predictions_normalized_series)"
   ]
  },
  {
   "cell_type": "code",
   "execution_count": 658,
   "id": "a4969397",
   "metadata": {},
   "outputs": [
    {
     "data": {
      "text/plain": [
       "0.7151383860816867"
      ]
     },
     "execution_count": 658,
     "metadata": {},
     "output_type": "execute_result"
    }
   ],
   "source": [
    "r2_score(np.exp(y_test), np.exp(predictions_normalized))"
   ]
  },
  {
   "cell_type": "code",
   "execution_count": 659,
   "id": "c5a9c5aa",
   "metadata": {},
   "outputs": [],
   "source": [
    "# Mean Absolute Error\n",
    "# The mean of absolute difference / error on overall instances of the test set...\n",
    "# mean_absolute_error = sigma(y_actual - y_predicted) / n\n",
    "# n=> number of predictions"
   ]
  },
  {
   "cell_type": "code",
   "execution_count": 660,
   "id": "00247187",
   "metadata": {},
   "outputs": [
    {
     "data": {
      "text/plain": [
       "0.19443895594695207"
      ]
     },
     "execution_count": 660,
     "metadata": {},
     "output_type": "execute_result"
    }
   ],
   "source": [
    "mean_absolute_error(y_test, predictions_normalized)"
   ]
  },
  {
   "cell_type": "code",
   "execution_count": 661,
   "id": "0528ab42",
   "metadata": {},
   "outputs": [
    {
     "data": {
      "text/plain": [
       "11904.07737726666"
      ]
     },
     "execution_count": 661,
     "metadata": {},
     "output_type": "execute_result"
    }
   ],
   "source": [
    "mean_absolute_error(np.exp(y_test), np.exp(predictions_normalized))"
   ]
  },
  {
   "cell_type": "markdown",
   "id": "68bb1975",
   "metadata": {},
   "source": [
    "### Second Iteration..."
   ]
  },
  {
   "cell_type": "code",
   "execution_count": 668,
   "id": "e07212d7",
   "metadata": {},
   "outputs": [
    {
     "data": {
      "text/plain": [
       "Index(['Ram', 'Weight', 'Price', 'Cpu Power', 'SSD', 'HDD', 'Flash Storage',\n",
       "       'Hybrid', 'IPS', 'Touchscreen', 'PPI', 'Apple', 'HP', 'Acer', 'Asus',\n",
       "       'Dell', 'Lenovo', 'Chuwi', 'MSI', 'Microsoft', 'Toshiba', 'Huawei',\n",
       "       'Xiaomi', 'Vero', 'Razer', 'Mediacom', 'Samsung', 'Google', 'Fujitsu',\n",
       "       'LG', 'Ultrabook', 'Notebook', 'Netbook', 'Gaming',\n",
       "       '2 in 1 Convertible', 'Workstation', 'Intel GPU', 'AMD GPU',\n",
       "       'Nvidia GPU', 'macOS', 'No OS', 'Windows 10', 'Mac OS X', 'Linux',\n",
       "       'Android', 'Windows 10 S', 'Chrome OS', 'Windows 7', 'Intel Core i5',\n",
       "       'Intel Core i7', 'AMD', 'Intel Core i3', 'Other Intel',\n",
       "       'Price Normalized'],\n",
       "      dtype='object')"
      ]
     },
     "execution_count": 668,
     "metadata": {},
     "output_type": "execute_result"
    }
   ],
   "source": [
    "df_filtered.columns"
   ]
  },
  {
   "cell_type": "code",
   "execution_count": 669,
   "id": "71708e42",
   "metadata": {},
   "outputs": [
    {
     "data": {
      "text/plain": [
       "<AxesSubplot:>"
      ]
     },
     "execution_count": 669,
     "metadata": {},
     "output_type": "execute_result"
    },
    {
     "data": {
      "image/png": "[encoded data removed]",
      "text/plain": [
       "<Figure size 432x288 with 2 Axes>"
      ]
     },
     "metadata": {},
     "output_type": "display_data"
    }
   ],
   "source": [
    "sns.heatmap(df_filtered[['Price', 'Flash Storage', 'Hybrid']].corr())"
   ]
  },
  {
   "cell_type": "code",
   "execution_count": 682,
   "id": "ee38a8a4",
   "metadata": {},
   "outputs": [],
   "source": [
    "# dropping Flask Storage / Hybrid in the next iterations...\n",
    "X_2 = df_filtered.drop(columns=['Flash Storage', 'HDD', 'Price', 'Price Normalized'])\n",
    "y_2 = df_filtered['Price Normalized']"
   ]
  },
  {
   "cell_type": "code",
   "execution_count": 683,
   "id": "13f9a404",
   "metadata": {},
   "outputs": [],
   "source": [
    "X_train_2, X_test_2, y_train_2, y_test_2 = train_test_split(X_2, y_2, test_size=0.3, random_state=36)"
   ]
  },
  {
   "cell_type": "code",
   "execution_count": 684,
   "id": "6d110e46",
   "metadata": {},
   "outputs": [],
   "source": [
    "model_2 = LinearRegression()"
   ]
  },
  {
   "cell_type": "code",
   "execution_count": 685,
   "id": "ac728426",
   "metadata": {},
   "outputs": [
    {
     "data": {
      "text/plain": [
       "LinearRegression()"
      ]
     },
     "execution_count": 685,
     "metadata": {},
     "output_type": "execute_result"
    }
   ],
   "source": [
    "model_2.fit(X_train_2, y_train_2)"
   ]
  },
  {
   "cell_type": "code",
   "execution_count": 687,
   "id": "9f97719a",
   "metadata": {},
   "outputs": [],
   "source": [
    "predictions_2 = model_2.predict(X_test_2)"
   ]
  },
  {
   "cell_type": "code",
   "execution_count": 689,
   "id": "30d28934",
   "metadata": {},
   "outputs": [],
   "source": [
    "predictions_2_series = pd.Series(predictions_2, index=y_test_2.index)"
   ]
  },
  {
   "cell_type": "code",
   "execution_count": 693,
   "id": "c3bcd808",
   "metadata": {},
   "outputs": [
    {
     "data": {
      "text/plain": [
       "337     53339.658381\n",
       "426     47268.061235\n",
       "1284    57558.866933\n",
       "573     50264.180373\n",
       "582     34917.052877\n",
       "            ...     \n",
       "344     63812.710744\n",
       "183     50679.077972\n",
       "1183    18526.645190\n",
       "549     66836.068174\n",
       "234     56712.863408\n",
       "Length: 391, dtype: float64"
      ]
     },
     "execution_count": 693,
     "metadata": {},
     "output_type": "execute_result"
    }
   ],
   "source": [
    "np.exp(predictions_2_series)"
   ]
  },
  {
   "cell_type": "code",
   "execution_count": 694,
   "id": "44d2b6a8",
   "metadata": {},
   "outputs": [
    {
     "data": {
      "text/plain": [
       "337     60952.320\n",
       "426     60867.072\n",
       "1284    33992.640\n",
       "573     44222.400\n",
       "582     38308.320\n",
       "          ...    \n",
       "344     84129.120\n",
       "183     42251.040\n",
       "1183    17742.240\n",
       "549     92121.120\n",
       "234     36709.920\n",
       "Name: Price Normalized, Length: 391, dtype: float64"
      ]
     },
     "execution_count": 694,
     "metadata": {},
     "output_type": "execute_result"
    }
   ],
   "source": [
    "np.exp(y_test_2)"
   ]
  },
  {
   "cell_type": "code",
   "execution_count": 695,
   "id": "a035e425",
   "metadata": {},
   "outputs": [
    {
     "data": {
      "text/plain": [
       "0.7148258375078416"
      ]
     },
     "execution_count": 695,
     "metadata": {},
     "output_type": "execute_result"
    }
   ],
   "source": [
    "r2_score(np.exp(y_test_2), np.exp(predictions_2))"
   ]
  },
  {
   "cell_type": "code",
   "execution_count": 696,
   "id": "a3a79505",
   "metadata": {},
   "outputs": [
    {
     "data": {
      "text/plain": [
       "11901.297890826574"
      ]
     },
     "execution_count": 696,
     "metadata": {},
     "output_type": "execute_result"
    }
   ],
   "source": [
    "mean_absolute_error(np.exp(y_test_2), np.exp(predictions_2))"
   ]
  },
  {
   "cell_type": "code",
   "execution_count": 700,
   "id": "2c43cb81",
   "metadata": {},
   "outputs": [],
   "source": [
    "from sklearn.ensemble import RandomForestRegressor"
   ]
  },
  {
   "cell_type": "code",
   "execution_count": 701,
   "id": "99b262ab",
   "metadata": {},
   "outputs": [],
   "source": [
    "random_regressor = RandomForestRegressor(max_depth=8)"
   ]
  },
  {
   "cell_type": "code",
   "execution_count": 702,
   "id": "65e5606f",
   "metadata": {},
   "outputs": [
    {
     "data": {
      "text/plain": [
       "RandomForestRegressor(max_depth=8)"
      ]
     },
     "execution_count": 702,
     "metadata": {},
     "output_type": "execute_result"
    }
   ],
   "source": [
    "random_regressor.fit(X_train_2, y_train_2)"
   ]
  },
  {
   "cell_type": "code",
   "execution_count": 704,
   "id": "ee6a1966",
   "metadata": {},
   "outputs": [],
   "source": [
    "random_predictions = random_regressor.predict(X_test_2)"
   ]
  },
  {
   "cell_type": "code",
   "execution_count": 708,
   "id": "bac07004",
   "metadata": {},
   "outputs": [
    {
     "data": {
      "text/plain": [
       "0.7579726753432877"
      ]
     },
     "execution_count": 708,
     "metadata": {},
     "output_type": "execute_result"
    }
   ],
   "source": [
    "r2_score(np.exp(y_test_2), np.exp(random_predictions))"
   ]
  },
  {
   "cell_type": "code",
   "execution_count": 709,
   "id": "7dcc297c",
   "metadata": {},
   "outputs": [
    {
     "data": {
      "text/plain": [
       "10950.35968304171"
      ]
     },
     "execution_count": 709,
     "metadata": {},
     "output_type": "execute_result"
    }
   ],
   "source": [
    "mean_absolute_error(np.exp(y_test_2), np.exp(random_predictions))"
   ]
  },
  {
   "cell_type": "markdown",
   "id": "345fc0f7",
   "metadata": {},
   "source": [
    "### Why random forest regressors are not the best in extrapolation situations?\n",
    "##### Random forests cannot extrapolate a value i.e. the prediction range can never exceed the range of the training data. Forexample, if the range of Price here is between 10,000 - 350,000 then for any unseen data (regardless of the extra ordinary laptop features) the random forest model will predict the value only in the range of 10,000 - 350,000  (let's say the actual price should have been 500,000).\n",
    "\n",
    "#### What is the solution???\n",
    "#### In such cases where you need to extrapolate (predict future results -  based on variation in data) you should use linear models like Linear regression, SVM regression etc.\n",
    "\n",
    "#### To use random forest, you can combine predictors using \"stacking\". Forexample, creating a stack of Linear Regression and Random Forest Regressor etc. So the result would be the average of prediction of stack used.\n",
    "\n",
    "\n",
    "https://neptune.ai/blog/random-forest-regression-when-does-it-fail-and-why\n",
    "\n",
    "Fundamentals of Linear Regression:\n",
    "https://courses.analyticsvidhya.com/courses/take/Fundamentals-of-Regression-Analysis/texts/10627945-what-is-regression-analysis"
   ]
  },
  {
   "cell_type": "code",
   "execution_count": 710,
   "id": "5d8aa76a",
   "metadata": {},
   "outputs": [
    {
     "data": {
      "text/html": [
       "<div>\n",
       "<style scoped>\n",
       "    .dataframe tbody tr th:only-of-type {\n",
       "        vertical-align: middle;\n",
       "    }\n",
       "\n",
       "    .dataframe tbody tr th {\n",
       "        vertical-align: top;\n",
       "    }\n",
       "\n",
       "    .dataframe thead th {\n",
       "        text-align: right;\n",
       "    }\n",
       "</style>\n",
       "<table border=\"1\" class=\"dataframe\">\n",
       "  <thead>\n",
       "    <tr style=\"text-align: right;\">\n",
       "      <th></th>\n",
       "      <th>Ram</th>\n",
       "      <th>Weight</th>\n",
       "      <th>Price</th>\n",
       "      <th>Cpu Power</th>\n",
       "      <th>SSD</th>\n",
       "      <th>HDD</th>\n",
       "      <th>Flash Storage</th>\n",
       "      <th>Hybrid</th>\n",
       "      <th>IPS</th>\n",
       "      <th>Touchscreen</th>\n",
       "      <th>...</th>\n",
       "      <th>Android</th>\n",
       "      <th>Windows 10 S</th>\n",
       "      <th>Chrome OS</th>\n",
       "      <th>Windows 7</th>\n",
       "      <th>Intel Core i5</th>\n",
       "      <th>Intel Core i7</th>\n",
       "      <th>AMD</th>\n",
       "      <th>Intel Core i3</th>\n",
       "      <th>Other Intel</th>\n",
       "      <th>Price Normalized</th>\n",
       "    </tr>\n",
       "  </thead>\n",
       "  <tbody>\n",
       "    <tr>\n",
       "      <th>0</th>\n",
       "      <td>8</td>\n",
       "      <td>1.37</td>\n",
       "      <td>71378.6832</td>\n",
       "      <td>2.3</td>\n",
       "      <td>128.0</td>\n",
       "      <td>0.0</td>\n",
       "      <td>0.0</td>\n",
       "      <td>0.0</td>\n",
       "      <td>True</td>\n",
       "      <td>False</td>\n",
       "      <td>...</td>\n",
       "      <td>0.0</td>\n",
       "      <td>0.0</td>\n",
       "      <td>0.0</td>\n",
       "      <td>0.0</td>\n",
       "      <td>1.0</td>\n",
       "      <td>0.0</td>\n",
       "      <td>0.0</td>\n",
       "      <td>0.0</td>\n",
       "      <td>0.0</td>\n",
       "      <td>11.175755</td>\n",
       "    </tr>\n",
       "    <tr>\n",
       "      <th>1</th>\n",
       "      <td>8</td>\n",
       "      <td>1.34</td>\n",
       "      <td>47895.5232</td>\n",
       "      <td>1.8</td>\n",
       "      <td>0.0</td>\n",
       "      <td>0.0</td>\n",
       "      <td>128.0</td>\n",
       "      <td>0.0</td>\n",
       "      <td>False</td>\n",
       "      <td>False</td>\n",
       "      <td>...</td>\n",
       "      <td>0.0</td>\n",
       "      <td>0.0</td>\n",
       "      <td>0.0</td>\n",
       "      <td>0.0</td>\n",
       "      <td>1.0</td>\n",
       "      <td>0.0</td>\n",
       "      <td>0.0</td>\n",
       "      <td>0.0</td>\n",
       "      <td>0.0</td>\n",
       "      <td>10.776777</td>\n",
       "    </tr>\n",
       "    <tr>\n",
       "      <th>2</th>\n",
       "      <td>8</td>\n",
       "      <td>1.86</td>\n",
       "      <td>30636.0000</td>\n",
       "      <td>2.5</td>\n",
       "      <td>256.0</td>\n",
       "      <td>0.0</td>\n",
       "      <td>0.0</td>\n",
       "      <td>0.0</td>\n",
       "      <td>False</td>\n",
       "      <td>False</td>\n",
       "      <td>...</td>\n",
       "      <td>0.0</td>\n",
       "      <td>0.0</td>\n",
       "      <td>0.0</td>\n",
       "      <td>0.0</td>\n",
       "      <td>1.0</td>\n",
       "      <td>0.0</td>\n",
       "      <td>0.0</td>\n",
       "      <td>0.0</td>\n",
       "      <td>0.0</td>\n",
       "      <td>10.329931</td>\n",
       "    </tr>\n",
       "    <tr>\n",
       "      <th>3</th>\n",
       "      <td>16</td>\n",
       "      <td>1.83</td>\n",
       "      <td>135195.3360</td>\n",
       "      <td>2.7</td>\n",
       "      <td>512.0</td>\n",
       "      <td>0.0</td>\n",
       "      <td>0.0</td>\n",
       "      <td>0.0</td>\n",
       "      <td>True</td>\n",
       "      <td>False</td>\n",
       "      <td>...</td>\n",
       "      <td>0.0</td>\n",
       "      <td>0.0</td>\n",
       "      <td>0.0</td>\n",
       "      <td>0.0</td>\n",
       "      <td>0.0</td>\n",
       "      <td>1.0</td>\n",
       "      <td>0.0</td>\n",
       "      <td>0.0</td>\n",
       "      <td>0.0</td>\n",
       "      <td>11.814476</td>\n",
       "    </tr>\n",
       "    <tr>\n",
       "      <th>4</th>\n",
       "      <td>8</td>\n",
       "      <td>1.37</td>\n",
       "      <td>96095.8080</td>\n",
       "      <td>3.1</td>\n",
       "      <td>256.0</td>\n",
       "      <td>0.0</td>\n",
       "      <td>0.0</td>\n",
       "      <td>0.0</td>\n",
       "      <td>True</td>\n",
       "      <td>False</td>\n",
       "      <td>...</td>\n",
       "      <td>0.0</td>\n",
       "      <td>0.0</td>\n",
       "      <td>0.0</td>\n",
       "      <td>0.0</td>\n",
       "      <td>1.0</td>\n",
       "      <td>0.0</td>\n",
       "      <td>0.0</td>\n",
       "      <td>0.0</td>\n",
       "      <td>0.0</td>\n",
       "      <td>11.473101</td>\n",
       "    </tr>\n",
       "    <tr>\n",
       "      <th>...</th>\n",
       "      <td>...</td>\n",
       "      <td>...</td>\n",
       "      <td>...</td>\n",
       "      <td>...</td>\n",
       "      <td>...</td>\n",
       "      <td>...</td>\n",
       "      <td>...</td>\n",
       "      <td>...</td>\n",
       "      <td>...</td>\n",
       "      <td>...</td>\n",
       "      <td>...</td>\n",
       "      <td>...</td>\n",
       "      <td>...</td>\n",
       "      <td>...</td>\n",
       "      <td>...</td>\n",
       "      <td>...</td>\n",
       "      <td>...</td>\n",
       "      <td>...</td>\n",
       "      <td>...</td>\n",
       "      <td>...</td>\n",
       "      <td>...</td>\n",
       "    </tr>\n",
       "    <tr>\n",
       "      <th>1298</th>\n",
       "      <td>4</td>\n",
       "      <td>1.80</td>\n",
       "      <td>33992.6400</td>\n",
       "      <td>2.5</td>\n",
       "      <td>128.0</td>\n",
       "      <td>0.0</td>\n",
       "      <td>0.0</td>\n",
       "      <td>0.0</td>\n",
       "      <td>True</td>\n",
       "      <td>True</td>\n",
       "      <td>...</td>\n",
       "      <td>0.0</td>\n",
       "      <td>0.0</td>\n",
       "      <td>0.0</td>\n",
       "      <td>0.0</td>\n",
       "      <td>0.0</td>\n",
       "      <td>1.0</td>\n",
       "      <td>0.0</td>\n",
       "      <td>0.0</td>\n",
       "      <td>0.0</td>\n",
       "      <td>10.433899</td>\n",
       "    </tr>\n",
       "    <tr>\n",
       "      <th>1299</th>\n",
       "      <td>16</td>\n",
       "      <td>1.30</td>\n",
       "      <td>79866.7200</td>\n",
       "      <td>2.5</td>\n",
       "      <td>512.0</td>\n",
       "      <td>0.0</td>\n",
       "      <td>0.0</td>\n",
       "      <td>0.0</td>\n",
       "      <td>True</td>\n",
       "      <td>True</td>\n",
       "      <td>...</td>\n",
       "      <td>0.0</td>\n",
       "      <td>0.0</td>\n",
       "      <td>0.0</td>\n",
       "      <td>0.0</td>\n",
       "      <td>0.0</td>\n",
       "      <td>1.0</td>\n",
       "      <td>0.0</td>\n",
       "      <td>0.0</td>\n",
       "      <td>0.0</td>\n",
       "      <td>11.288115</td>\n",
       "    </tr>\n",
       "    <tr>\n",
       "      <th>1300</th>\n",
       "      <td>2</td>\n",
       "      <td>1.50</td>\n",
       "      <td>12201.1200</td>\n",
       "      <td>1.6</td>\n",
       "      <td>0.0</td>\n",
       "      <td>0.0</td>\n",
       "      <td>64.0</td>\n",
       "      <td>0.0</td>\n",
       "      <td>False</td>\n",
       "      <td>False</td>\n",
       "      <td>...</td>\n",
       "      <td>0.0</td>\n",
       "      <td>0.0</td>\n",
       "      <td>0.0</td>\n",
       "      <td>0.0</td>\n",
       "      <td>0.0</td>\n",
       "      <td>0.0</td>\n",
       "      <td>0.0</td>\n",
       "      <td>0.0</td>\n",
       "      <td>1.0</td>\n",
       "      <td>9.409283</td>\n",
       "    </tr>\n",
       "    <tr>\n",
       "      <th>1301</th>\n",
       "      <td>6</td>\n",
       "      <td>2.19</td>\n",
       "      <td>40705.9200</td>\n",
       "      <td>2.5</td>\n",
       "      <td>0.0</td>\n",
       "      <td>1000.0</td>\n",
       "      <td>0.0</td>\n",
       "      <td>0.0</td>\n",
       "      <td>False</td>\n",
       "      <td>False</td>\n",
       "      <td>...</td>\n",
       "      <td>0.0</td>\n",
       "      <td>0.0</td>\n",
       "      <td>0.0</td>\n",
       "      <td>0.0</td>\n",
       "      <td>0.0</td>\n",
       "      <td>1.0</td>\n",
       "      <td>0.0</td>\n",
       "      <td>0.0</td>\n",
       "      <td>0.0</td>\n",
       "      <td>10.614129</td>\n",
       "    </tr>\n",
       "    <tr>\n",
       "      <th>1302</th>\n",
       "      <td>4</td>\n",
       "      <td>2.20</td>\n",
       "      <td>19660.3200</td>\n",
       "      <td>1.6</td>\n",
       "      <td>0.0</td>\n",
       "      <td>500.0</td>\n",
       "      <td>0.0</td>\n",
       "      <td>0.0</td>\n",
       "      <td>False</td>\n",
       "      <td>False</td>\n",
       "      <td>...</td>\n",
       "      <td>0.0</td>\n",
       "      <td>0.0</td>\n",
       "      <td>0.0</td>\n",
       "      <td>0.0</td>\n",
       "      <td>0.0</td>\n",
       "      <td>0.0</td>\n",
       "      <td>0.0</td>\n",
       "      <td>0.0</td>\n",
       "      <td>1.0</td>\n",
       "      <td>9.886358</td>\n",
       "    </tr>\n",
       "  </tbody>\n",
       "</table>\n",
       "<p>1302 rows × 54 columns</p>\n",
       "</div>"
      ],
      "text/plain": [
       "      Ram  Weight        Price  Cpu Power    SSD     HDD  Flash Storage  \\\n",
       "0       8    1.37   71378.6832        2.3  128.0     0.0            0.0   \n",
       "1       8    1.34   47895.5232        1.8    0.0     0.0          128.0   \n",
       "2       8    1.86   30636.0000        2.5  256.0     0.0            0.0   \n",
       "3      16    1.83  135195.3360        2.7  512.0     0.0            0.0   \n",
       "4       8    1.37   96095.8080        3.1  256.0     0.0            0.0   \n",
       "...   ...     ...          ...        ...    ...     ...            ...   \n",
       "1298    4    1.80   33992.6400        2.5  128.0     0.0            0.0   \n",
       "1299   16    1.30   79866.7200        2.5  512.0     0.0            0.0   \n",
       "1300    2    1.50   12201.1200        1.6    0.0     0.0           64.0   \n",
       "1301    6    2.19   40705.9200        2.5    0.0  1000.0            0.0   \n",
       "1302    4    2.20   19660.3200        1.6    0.0   500.0            0.0   \n",
       "\n",
       "      Hybrid    IPS  Touchscreen  ...  Android  Windows 10 S  Chrome OS  \\\n",
       "0        0.0   True        False  ...      0.0           0.0        0.0   \n",
       "1        0.0  False        False  ...      0.0           0.0        0.0   \n",
       "2        0.0  False        False  ...      0.0           0.0        0.0   \n",
       "3        0.0   True        False  ...      0.0           0.0        0.0   \n",
       "4        0.0   True        False  ...      0.0           0.0        0.0   \n",
       "...      ...    ...          ...  ...      ...           ...        ...   \n",
       "1298     0.0   True         True  ...      0.0           0.0        0.0   \n",
       "1299     0.0   True         True  ...      0.0           0.0        0.0   \n",
       "1300     0.0  False        False  ...      0.0           0.0        0.0   \n",
       "1301     0.0  False        False  ...      0.0           0.0        0.0   \n",
       "1302     0.0  False        False  ...      0.0           0.0        0.0   \n",
       "\n",
       "      Windows 7  Intel Core i5  Intel Core i7  AMD  Intel Core i3  \\\n",
       "0           0.0            1.0            0.0  0.0            0.0   \n",
       "1           0.0            1.0            0.0  0.0            0.0   \n",
       "2           0.0            1.0            0.0  0.0            0.0   \n",
       "3           0.0            0.0            1.0  0.0            0.0   \n",
       "4           0.0            1.0            0.0  0.0            0.0   \n",
       "...         ...            ...            ...  ...            ...   \n",
       "1298        0.0            0.0            1.0  0.0            0.0   \n",
       "1299        0.0            0.0            1.0  0.0            0.0   \n",
       "1300        0.0            0.0            0.0  0.0            0.0   \n",
       "1301        0.0            0.0            1.0  0.0            0.0   \n",
       "1302        0.0            0.0            0.0  0.0            0.0   \n",
       "\n",
       "      Other Intel  Price Normalized  \n",
       "0             0.0         11.175755  \n",
       "1             0.0         10.776777  \n",
       "2             0.0         10.329931  \n",
       "3             0.0         11.814476  \n",
       "4             0.0         11.473101  \n",
       "...           ...               ...  \n",
       "1298          0.0         10.433899  \n",
       "1299          0.0         11.288115  \n",
       "1300          1.0          9.409283  \n",
       "1301          0.0         10.614129  \n",
       "1302          1.0          9.886358  \n",
       "\n",
       "[1302 rows x 54 columns]"
      ]
     },
     "execution_count": 710,
     "metadata": {},
     "output_type": "execute_result"
    }
   ],
   "source": [
    "df_filtered"
   ]
  },
  {
   "cell_type": "code",
   "execution_count": 711,
   "id": "32323d2e",
   "metadata": {},
   "outputs": [],
   "source": [
    "# Stacking???\n",
    "# "
   ]
  },
  {
   "cell_type": "code",
   "execution_count": 712,
   "id": "65bbac29",
   "metadata": {},
   "outputs": [
    {
     "data": {
      "text/plain": [
       "array([ 2.53282379e+03,  9.02331702e+03,  1.09161932e+04,  4.50565974e+01,\n",
       "        7.97395081e-01,  3.15783878e+01,  6.63443647e-01,  1.67843275e+03,\n",
       "       -5.41475839e+03,  1.19123544e+02,  3.51377284e+03, -8.01947875e+02,\n",
       "       -1.09740521e+04, -6.44946004e+03, -3.87144600e+03, -4.30586769e+03,\n",
       "       -1.91632385e+04,  2.45643875e+03, -2.26502929e+02,  3.33768889e+03,\n",
       "       -1.31419399e+04, -5.45815644e+03, -1.44010864e+04,  4.79414261e+04,\n",
       "       -1.55450530e+04,  4.60547943e+03,  2.15255638e+04, -1.43237060e+04,\n",
       "        2.52820871e+04,  5.27397413e+02, -1.38550192e+04, -8.05276522e+03,\n",
       "       -6.48900443e+03,  1.85572215e+03,  2.60136693e+04,  3.31283251e+03,\n",
       "       -3.33745251e+03,  2.46199982e+01,  5.03207289e+03, -1.26186159e+04,\n",
       "       -1.66267008e+02, -1.51830005e+03, -5.76265746e+03, -1.47034261e+04,\n",
       "        1.36833084e+04, -3.12644138e+03,  1.91803267e+04,  3.57575665e+03,\n",
       "        4.81321913e+03, -9.61711379e+03, -1.89510251e+03,  3.12324052e+03])"
      ]
     },
     "execution_count": 712,
     "metadata": {},
     "output_type": "execute_result"
    }
   ],
   "source": [
    "model.coef_"
   ]
  },
  {
   "cell_type": "code",
   "execution_count": 713,
   "id": "ccb0dd2b",
   "metadata": {},
   "outputs": [
    {
     "data": {
      "text/html": [
       "<div>\n",
       "<style scoped>\n",
       "    .dataframe tbody tr th:only-of-type {\n",
       "        vertical-align: middle;\n",
       "    }\n",
       "\n",
       "    .dataframe tbody tr th {\n",
       "        vertical-align: top;\n",
       "    }\n",
       "\n",
       "    .dataframe thead th {\n",
       "        text-align: right;\n",
       "    }\n",
       "</style>\n",
       "<table border=\"1\" class=\"dataframe\">\n",
       "  <thead>\n",
       "    <tr style=\"text-align: right;\">\n",
       "      <th></th>\n",
       "      <th>Ram</th>\n",
       "      <th>Weight</th>\n",
       "      <th>Cpu Power</th>\n",
       "      <th>SSD</th>\n",
       "      <th>HDD</th>\n",
       "      <th>Flash Storage</th>\n",
       "      <th>Hybrid</th>\n",
       "      <th>IPS</th>\n",
       "      <th>Touchscreen</th>\n",
       "      <th>PPI</th>\n",
       "      <th>...</th>\n",
       "      <th>Linux</th>\n",
       "      <th>Android</th>\n",
       "      <th>Windows 10 S</th>\n",
       "      <th>Chrome OS</th>\n",
       "      <th>Windows 7</th>\n",
       "      <th>Intel Core i5</th>\n",
       "      <th>Intel Core i7</th>\n",
       "      <th>AMD</th>\n",
       "      <th>Intel Core i3</th>\n",
       "      <th>Other Intel</th>\n",
       "    </tr>\n",
       "  </thead>\n",
       "  <tbody>\n",
       "    <tr>\n",
       "      <th>100</th>\n",
       "      <td>8</td>\n",
       "      <td>1.910</td>\n",
       "      <td>2.7</td>\n",
       "      <td>256.0</td>\n",
       "      <td>0.0</td>\n",
       "      <td>0.0</td>\n",
       "      <td>0.0</td>\n",
       "      <td>False</td>\n",
       "      <td>False</td>\n",
       "      <td>141.212002</td>\n",
       "      <td>...</td>\n",
       "      <td>0.0</td>\n",
       "      <td>0.0</td>\n",
       "      <td>0.0</td>\n",
       "      <td>0.0</td>\n",
       "      <td>0.0</td>\n",
       "      <td>0.0</td>\n",
       "      <td>1.0</td>\n",
       "      <td>0.0</td>\n",
       "      <td>0.0</td>\n",
       "      <td>0.0</td>\n",
       "    </tr>\n",
       "    <tr>\n",
       "      <th>384</th>\n",
       "      <td>16</td>\n",
       "      <td>1.100</td>\n",
       "      <td>2.7</td>\n",
       "      <td>512.0</td>\n",
       "      <td>0.0</td>\n",
       "      <td>0.0</td>\n",
       "      <td>0.0</td>\n",
       "      <td>False</td>\n",
       "      <td>True</td>\n",
       "      <td>165.632122</td>\n",
       "      <td>...</td>\n",
       "      <td>0.0</td>\n",
       "      <td>0.0</td>\n",
       "      <td>0.0</td>\n",
       "      <td>0.0</td>\n",
       "      <td>0.0</td>\n",
       "      <td>0.0</td>\n",
       "      <td>1.0</td>\n",
       "      <td>0.0</td>\n",
       "      <td>0.0</td>\n",
       "      <td>0.0</td>\n",
       "    </tr>\n",
       "    <tr>\n",
       "      <th>1111</th>\n",
       "      <td>4</td>\n",
       "      <td>2.240</td>\n",
       "      <td>2.3</td>\n",
       "      <td>0.0</td>\n",
       "      <td>500.0</td>\n",
       "      <td>0.0</td>\n",
       "      <td>0.0</td>\n",
       "      <td>False</td>\n",
       "      <td>False</td>\n",
       "      <td>100.454673</td>\n",
       "      <td>...</td>\n",
       "      <td>0.0</td>\n",
       "      <td>0.0</td>\n",
       "      <td>0.0</td>\n",
       "      <td>0.0</td>\n",
       "      <td>1.0</td>\n",
       "      <td>1.0</td>\n",
       "      <td>0.0</td>\n",
       "      <td>0.0</td>\n",
       "      <td>0.0</td>\n",
       "      <td>0.0</td>\n",
       "    </tr>\n",
       "    <tr>\n",
       "      <th>348</th>\n",
       "      <td>4</td>\n",
       "      <td>1.500</td>\n",
       "      <td>1.1</td>\n",
       "      <td>0.0</td>\n",
       "      <td>0.0</td>\n",
       "      <td>32.0</td>\n",
       "      <td>0.0</td>\n",
       "      <td>False</td>\n",
       "      <td>True</td>\n",
       "      <td>135.094215</td>\n",
       "      <td>...</td>\n",
       "      <td>0.0</td>\n",
       "      <td>0.0</td>\n",
       "      <td>0.0</td>\n",
       "      <td>0.0</td>\n",
       "      <td>0.0</td>\n",
       "      <td>0.0</td>\n",
       "      <td>0.0</td>\n",
       "      <td>0.0</td>\n",
       "      <td>0.0</td>\n",
       "      <td>1.0</td>\n",
       "    </tr>\n",
       "    <tr>\n",
       "      <th>80</th>\n",
       "      <td>8</td>\n",
       "      <td>1.880</td>\n",
       "      <td>1.6</td>\n",
       "      <td>256.0</td>\n",
       "      <td>0.0</td>\n",
       "      <td>0.0</td>\n",
       "      <td>0.0</td>\n",
       "      <td>True</td>\n",
       "      <td>False</td>\n",
       "      <td>141.212002</td>\n",
       "      <td>...</td>\n",
       "      <td>0.0</td>\n",
       "      <td>0.0</td>\n",
       "      <td>0.0</td>\n",
       "      <td>0.0</td>\n",
       "      <td>0.0</td>\n",
       "      <td>1.0</td>\n",
       "      <td>0.0</td>\n",
       "      <td>0.0</td>\n",
       "      <td>0.0</td>\n",
       "      <td>0.0</td>\n",
       "    </tr>\n",
       "    <tr>\n",
       "      <th>...</th>\n",
       "      <td>...</td>\n",
       "      <td>...</td>\n",
       "      <td>...</td>\n",
       "      <td>...</td>\n",
       "      <td>...</td>\n",
       "      <td>...</td>\n",
       "      <td>...</td>\n",
       "      <td>...</td>\n",
       "      <td>...</td>\n",
       "      <td>...</td>\n",
       "      <td>...</td>\n",
       "      <td>...</td>\n",
       "      <td>...</td>\n",
       "      <td>...</td>\n",
       "      <td>...</td>\n",
       "      <td>...</td>\n",
       "      <td>...</td>\n",
       "      <td>...</td>\n",
       "      <td>...</td>\n",
       "      <td>...</td>\n",
       "      <td>...</td>\n",
       "    </tr>\n",
       "    <tr>\n",
       "      <th>1185</th>\n",
       "      <td>8</td>\n",
       "      <td>2.591</td>\n",
       "      <td>2.6</td>\n",
       "      <td>256.0</td>\n",
       "      <td>1000.0</td>\n",
       "      <td>0.0</td>\n",
       "      <td>0.0</td>\n",
       "      <td>True</td>\n",
       "      <td>False</td>\n",
       "      <td>141.212002</td>\n",
       "      <td>...</td>\n",
       "      <td>0.0</td>\n",
       "      <td>0.0</td>\n",
       "      <td>0.0</td>\n",
       "      <td>0.0</td>\n",
       "      <td>0.0</td>\n",
       "      <td>0.0</td>\n",
       "      <td>1.0</td>\n",
       "      <td>0.0</td>\n",
       "      <td>0.0</td>\n",
       "      <td>0.0</td>\n",
       "    </tr>\n",
       "    <tr>\n",
       "      <th>936</th>\n",
       "      <td>4</td>\n",
       "      <td>2.180</td>\n",
       "      <td>2.0</td>\n",
       "      <td>0.0</td>\n",
       "      <td>1000.0</td>\n",
       "      <td>0.0</td>\n",
       "      <td>0.0</td>\n",
       "      <td>False</td>\n",
       "      <td>False</td>\n",
       "      <td>100.454673</td>\n",
       "      <td>...</td>\n",
       "      <td>0.0</td>\n",
       "      <td>0.0</td>\n",
       "      <td>0.0</td>\n",
       "      <td>0.0</td>\n",
       "      <td>0.0</td>\n",
       "      <td>0.0</td>\n",
       "      <td>0.0</td>\n",
       "      <td>0.0</td>\n",
       "      <td>1.0</td>\n",
       "      <td>0.0</td>\n",
       "    </tr>\n",
       "    <tr>\n",
       "      <th>926</th>\n",
       "      <td>8</td>\n",
       "      <td>1.360</td>\n",
       "      <td>2.7</td>\n",
       "      <td>256.0</td>\n",
       "      <td>0.0</td>\n",
       "      <td>0.0</td>\n",
       "      <td>0.0</td>\n",
       "      <td>True</td>\n",
       "      <td>False</td>\n",
       "      <td>176.232578</td>\n",
       "      <td>...</td>\n",
       "      <td>0.0</td>\n",
       "      <td>0.0</td>\n",
       "      <td>0.0</td>\n",
       "      <td>0.0</td>\n",
       "      <td>0.0</td>\n",
       "      <td>0.0</td>\n",
       "      <td>1.0</td>\n",
       "      <td>0.0</td>\n",
       "      <td>0.0</td>\n",
       "      <td>0.0</td>\n",
       "    </tr>\n",
       "    <tr>\n",
       "      <th>610</th>\n",
       "      <td>32</td>\n",
       "      <td>2.500</td>\n",
       "      <td>3.1</td>\n",
       "      <td>1000.0</td>\n",
       "      <td>0.0</td>\n",
       "      <td>0.0</td>\n",
       "      <td>0.0</td>\n",
       "      <td>True</td>\n",
       "      <td>False</td>\n",
       "      <td>282.424003</td>\n",
       "      <td>...</td>\n",
       "      <td>0.0</td>\n",
       "      <td>0.0</td>\n",
       "      <td>0.0</td>\n",
       "      <td>0.0</td>\n",
       "      <td>0.0</td>\n",
       "      <td>0.0</td>\n",
       "      <td>0.0</td>\n",
       "      <td>0.0</td>\n",
       "      <td>0.0</td>\n",
       "      <td>1.0</td>\n",
       "    </tr>\n",
       "    <tr>\n",
       "      <th>645</th>\n",
       "      <td>4</td>\n",
       "      <td>1.430</td>\n",
       "      <td>1.6</td>\n",
       "      <td>0.0</td>\n",
       "      <td>0.0</td>\n",
       "      <td>32.0</td>\n",
       "      <td>0.0</td>\n",
       "      <td>False</td>\n",
       "      <td>False</td>\n",
       "      <td>111.935207</td>\n",
       "      <td>...</td>\n",
       "      <td>0.0</td>\n",
       "      <td>0.0</td>\n",
       "      <td>0.0</td>\n",
       "      <td>0.0</td>\n",
       "      <td>0.0</td>\n",
       "      <td>0.0</td>\n",
       "      <td>0.0</td>\n",
       "      <td>0.0</td>\n",
       "      <td>0.0</td>\n",
       "      <td>1.0</td>\n",
       "    </tr>\n",
       "  </tbody>\n",
       "</table>\n",
       "<p>911 rows × 52 columns</p>\n",
       "</div>"
      ],
      "text/plain": [
       "      Ram  Weight  Cpu Power     SSD     HDD  Flash Storage  Hybrid    IPS  \\\n",
       "100     8   1.910        2.7   256.0     0.0            0.0     0.0  False   \n",
       "384    16   1.100        2.7   512.0     0.0            0.0     0.0  False   \n",
       "1111    4   2.240        2.3     0.0   500.0            0.0     0.0  False   \n",
       "348     4   1.500        1.1     0.0     0.0           32.0     0.0  False   \n",
       "80      8   1.880        1.6   256.0     0.0            0.0     0.0   True   \n",
       "...   ...     ...        ...     ...     ...            ...     ...    ...   \n",
       "1185    8   2.591        2.6   256.0  1000.0            0.0     0.0   True   \n",
       "936     4   2.180        2.0     0.0  1000.0            0.0     0.0  False   \n",
       "926     8   1.360        2.7   256.0     0.0            0.0     0.0   True   \n",
       "610    32   2.500        3.1  1000.0     0.0            0.0     0.0   True   \n",
       "645     4   1.430        1.6     0.0     0.0           32.0     0.0  False   \n",
       "\n",
       "      Touchscreen         PPI  ...  Linux  Android  Windows 10 S  Chrome OS  \\\n",
       "100         False  141.212002  ...    0.0      0.0           0.0        0.0   \n",
       "384          True  165.632122  ...    0.0      0.0           0.0        0.0   \n",
       "1111        False  100.454673  ...    0.0      0.0           0.0        0.0   \n",
       "348          True  135.094215  ...    0.0      0.0           0.0        0.0   \n",
       "80          False  141.212002  ...    0.0      0.0           0.0        0.0   \n",
       "...           ...         ...  ...    ...      ...           ...        ...   \n",
       "1185        False  141.212002  ...    0.0      0.0           0.0        0.0   \n",
       "936         False  100.454673  ...    0.0      0.0           0.0        0.0   \n",
       "926         False  176.232578  ...    0.0      0.0           0.0        0.0   \n",
       "610         False  282.424003  ...    0.0      0.0           0.0        0.0   \n",
       "645         False  111.935207  ...    0.0      0.0           0.0        0.0   \n",
       "\n",
       "      Windows 7  Intel Core i5  Intel Core i7  AMD  Intel Core i3  Other Intel  \n",
       "100         0.0            0.0            1.0  0.0            0.0          0.0  \n",
       "384         0.0            0.0            1.0  0.0            0.0          0.0  \n",
       "1111        1.0            1.0            0.0  0.0            0.0          0.0  \n",
       "348         0.0            0.0            0.0  0.0            0.0          1.0  \n",
       "80          0.0            1.0            0.0  0.0            0.0          0.0  \n",
       "...         ...            ...            ...  ...            ...          ...  \n",
       "1185        0.0            0.0            1.0  0.0            0.0          0.0  \n",
       "936         0.0            0.0            0.0  0.0            1.0          0.0  \n",
       "926         0.0            0.0            1.0  0.0            0.0          0.0  \n",
       "610         0.0            0.0            0.0  0.0            0.0          1.0  \n",
       "645         0.0            0.0            0.0  0.0            0.0          1.0  \n",
       "\n",
       "[911 rows x 52 columns]"
      ]
     },
     "execution_count": 713,
     "metadata": {},
     "output_type": "execute_result"
    }
   ],
   "source": [
    "X_train"
   ]
  },
  {
   "cell_type": "code",
   "execution_count": 714,
   "id": "c7ab1b91",
   "metadata": {
    "scrolled": true
   },
   "outputs": [
    {
     "data": {
      "text/plain": [
       "array([ 61352.74031471,  48448.07112598,  56723.70338725,  61999.54632521,\n",
       "        38642.57359736,  62372.30732648,  26439.78722146,  52552.79899872,\n",
       "        50586.01661507,  84553.06991697, 133334.09327217,  14237.96934438,\n",
       "        39383.89614639, 113524.91319349,  64773.44195578, 108968.033766  ,\n",
       "       100122.31657116,  74825.64293912,  64591.08352561,  93267.05489627,\n",
       "        29463.48864402,  19638.48178465,  57578.06732772, 114175.8482882 ,\n",
       "        55093.58999125,  64691.53953329,  71928.09858264,  94971.53704995,\n",
       "        35379.09969519,  50039.55317959,  51555.74717105,  93575.52784548,\n",
       "        30236.14500434,  61870.07016749,  66514.10837037, 110988.24149908,\n",
       "        91836.76275051,  52542.34654285,  61603.04308431,  73284.45724879,\n",
       "       124896.35572119, 178467.29042453,  44446.49697905,  58040.1231506 ,\n",
       "       107247.4814738 ,  20209.81671085,  18919.14152187,  75779.28682054,\n",
       "       109303.25709715,  41124.31668509,  60487.58617324,  62813.50599157,\n",
       "        47572.83062045,  47440.63600878,  71479.33090152,  49462.65781884,\n",
       "         7186.13286051,  45056.77768773,  97621.48437954,  78139.05233161,\n",
       "        16847.52091953,  76222.73399764,  56723.70338725,  84873.62418322,\n",
       "        35156.87711095, 117965.45840043,  31817.35695661,  43393.87716758,\n",
       "        99314.29205525,  71911.99013613,  19535.91208584,  74132.38023459,\n",
       "        69102.91525522,  12067.96563266,  93267.05489627,  79480.46691274,\n",
       "        -5977.02958359,  69899.83996799,  43453.31357443,  29828.10117957,\n",
       "        10091.45834375,  38083.26009703,  38429.03836346,  69399.23170846,\n",
       "        57921.01916847,  72622.24302316,  65445.36444961,  53657.35388737,\n",
       "        25251.17294298,  48369.24259514,  48941.90185418,  68614.54055603,\n",
       "        26011.65733219,  94169.38659832,  70620.13499327,  44505.19013235,\n",
       "        26703.59854963,  20214.3240976 ,  59071.43591977,  53741.48442943,\n",
       "        90015.72970731,  95416.16184516,  47605.50687824,  18337.26038992,\n",
       "        14300.11045152,  31690.36324984,  61351.16997836,  83446.47906689,\n",
       "        33205.95487449,  14376.26319826,  71121.46916867, 108805.00494257,\n",
       "        60594.49307274,  87762.52729873,  64911.5294282 ,  58387.70075732,\n",
       "        37721.90248758,  59353.16295629,  18580.76392265,  26434.90211517,\n",
       "        65975.17013284,  40086.92830344,  37035.15968298,  44162.77312681,\n",
       "        76897.96325864,  69296.55468557,  91310.72496849,  63039.96604674,\n",
       "        78558.84913392,  86303.7525074 , 126684.09388291,  60319.44813109,\n",
       "       106503.0040468 ,  63500.29783079,  44749.87798434,  66299.36385085,\n",
       "        31581.71678657,  50614.07612868,  30543.12815214,  31901.45796054,\n",
       "        22775.52462757,  51235.9147097 ,  49987.80349373, 109529.10132663,\n",
       "        12681.52394844,  28230.95733788,  37257.946651  ,  41280.22200181,\n",
       "        18387.94249683, 109021.85438481,  26955.55670529,  29572.53995319,\n",
       "        30532.75001944,  86543.11145083,  17523.4293553 ,  61125.62733914,\n",
       "       104653.49246756,  62492.13756085,  56587.57219152,  27584.6147692 ,\n",
       "        89242.52408372,  74338.45547452,  94672.31518726,  21877.77893876,\n",
       "        66007.05983518,  23754.79520389,  61666.87586118,  55759.00996718,\n",
       "        19632.8411846 ,  38015.74286919,  71656.66644206,  31690.36324984,\n",
       "        51624.56899639,  65242.73853582, 108533.51878636,  71140.02203067,\n",
       "       106052.83529178,  56324.79399791,  84322.26332304,  38440.17982624,\n",
       "        65164.53985294,  58761.01373193, 101782.74402414,  36764.95974983,\n",
       "        43925.3106256 , 111238.94355614,  54688.74858016,   3002.34899669,\n",
       "        57227.12569995,  90720.79853442,  38540.24582557,  45526.35438508,\n",
       "        51883.1955978 , 124279.25023412,  58302.05294228,  63040.50634415,\n",
       "        33473.40854706,  49677.20504065,  93683.78598622,  45374.42831764,\n",
       "        63673.00083911,  40279.23925505, 113707.44261583,  31889.39972616,\n",
       "        97917.01728986,  58120.73883756,  40818.65332137,  95946.40938998,\n",
       "        62285.53254925,  24382.5864277 ,  83820.92828712, 112756.55929961,\n",
       "        80025.77742581, 109751.39817416,  55943.67312621,  30157.04571511,\n",
       "        52272.87868522,  97931.99468546,  26492.02957819,  32970.47887233,\n",
       "        78425.57617147,  44108.06292816,  23416.40232828,  35407.4238961 ,\n",
       "        43137.13527688,  63504.22538454,  60393.71350768,  95696.54823277,\n",
       "       117386.78906811,  16962.21282875,  59492.67410967,  74032.54737958,\n",
       "        15567.80715942, 114047.98763026,  56521.84601558,  61272.96795356,\n",
       "        13932.31397096,  75470.47064439,   9462.99707793,  60186.46590682,\n",
       "        22554.28849723,  41736.35852782,  61991.12931091,  12759.2827583 ,\n",
       "        85850.7726256 ,  63197.7620216 ,  24009.32226505,  54136.48706052,\n",
       "        25132.30253623,  39929.96393469,   9144.22969605,  70648.43748336,\n",
       "        40491.36628687,  81048.43616161,  15274.05348498,  84514.91814676,\n",
       "        34576.00753914,  51688.23499933,  23084.00652172,  70715.02490472,\n",
       "        55282.28683506, 110241.55476014,  60642.3395884 , 175385.97713826,\n",
       "        61489.9672839 ,  39623.02947021,  19102.2772734 ,  56802.85504478,\n",
       "        75910.87070212,  92385.43367655, 121052.62141522,  71338.46921115,\n",
       "        95027.81344071,  44573.03148811,  43213.0222742 ,  37247.40491629,\n",
       "        82466.15693111,  55164.94142565,  74722.25419156,  19396.81103859,\n",
       "        93588.99326592, 129372.153243  ,  71479.7938447 ,  86204.69212989,\n",
       "        82494.482332  ,  73353.66293363,  51116.76436005,  29651.7608717 ,\n",
       "        63174.45777812,  31018.41740836,  87211.00357683,  73372.11012083,\n",
       "        66960.65301005,  67600.28161247,  46415.37713781,  60718.08401332,\n",
       "        97509.62865116,  31959.59608199, 104733.6058799 ,  59916.25949088,\n",
       "        73959.87971948,  42147.73213784,  48932.60034373,  65280.89016204,\n",
       "        48739.72952229,  56723.70338725,  20066.65495096,  33802.39432582,\n",
       "        50699.07231552,  58056.86730602,  16296.14879574,  78350.87691854,\n",
       "        81233.49780644,  34269.71922797,  63395.87393296,  93267.05489627,\n",
       "        54688.74858016, 177181.81125796,  54422.64183884,  41996.0950826 ,\n",
       "        53634.03075417,  59807.89015177,  96134.644062  ,  68368.45393058,\n",
       "        19050.41149585,  72770.21988796,  36599.16765102,  74228.56288265,\n",
       "        40839.05718259,  80582.03847217,  13080.22148898,  30492.31749546,\n",
       "        81431.13676139,  63410.46015519,  67922.3886512 ,  37590.66305523,\n",
       "        52763.74223681,  11774.16791464,  54149.60890844,  82053.9554903 ,\n",
       "        10281.44702002,  12067.96563266,  46676.68955897,  68387.07516749,\n",
       "        15690.22603716,  64239.39420937,  53402.55549012,  94200.72404158,\n",
       "        24188.38866752, 139717.51054277,  54234.35913285,  13586.10333182,\n",
       "       130101.37430504,  29210.2731164 ,  92843.76454725,  84976.56613891,\n",
       "        54253.72758652,  34775.50756852,  57173.79273298,  37468.01847224,\n",
       "        76739.01191076,  26524.20445278,  60659.819577  ,  38040.26097894,\n",
       "        61314.98058798,  61103.59067429,  10732.29206041,  39545.85692344,\n",
       "        68804.0160894 ,  61702.37457614, 105471.69909076,  34285.57531558,\n",
       "       131190.00954331,  66967.47392538,  74338.45547452,  59373.38186181,\n",
       "        91984.03827333,  37669.61930983,  84025.56323981, 101085.51601361,\n",
       "       146413.34247994,  63677.97907499,  74095.8518626 ,   7186.13286051,\n",
       "        48780.46810067,  16874.19621662,  63395.87393296,  56313.7058658 ,\n",
       "        21493.8417056 ,  75835.94137048,  61715.22780069])"
      ]
     },
     "execution_count": 714,
     "metadata": {},
     "output_type": "execute_result"
    }
   ],
   "source": [
    "predictions"
   ]
  },
  {
   "cell_type": "code",
   "execution_count": null,
   "id": "03983bfc",
   "metadata": {},
   "outputs": [],
   "source": []
  },
  {
   "cell_type": "code",
   "execution_count": null,
   "id": "b76d1d37",
   "metadata": {},
   "outputs": [],
   "source": []
  }
 ],
 "metadata": {
  "kernelspec": {
   "display_name": "Python 3 (ipykernel)",
   "language": "python",
   "name": "python3"
  },
  "language_info": {
   "codemirror_mode": {
    "name": "ipython",
    "version": 3
   },
   "file_extension": ".py",
   "mimetype": "text/x-python",
   "name": "python",
   "nbconvert_exporter": "python",
   "pygments_lexer": "ipython3",
   "version": "3.9.7"
  }
 },
 "nbformat": 4,
 "nbformat_minor": 5
}
